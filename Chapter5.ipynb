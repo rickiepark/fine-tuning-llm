{
 "cells": [
  {
   "cell_type": "markdown",
   "id": "bd1718fc",
   "metadata": {},
   "source": [
    "## Chapter 5: Fine-Tuning with `SFTTrainer`\n",
    "\n",
    "\n",
    "### Spoilers\n",
    "\n",
    "In this chapter, we will:\n",
    "\n",
    "- Understand why it’s often difficult to prevent out-of-memory errors from occurring during training\n",
    "- Explore a range of configuration settings that can help you get the maximum use out of your GPU’s RAM\n",
    "- Use the `SFTTrainer` class from trl to fine-tune a model\n",
    "- Discuss the advantages of memory-efficient attention implementations (such as Flash Attention 2 and PyTorch’s SDPA)"
   ]
  },
  {
   "cell_type": "markdown",
   "id": "f7580ccf",
   "metadata": {},
   "source": [
    "### Setup\n",
    "\n",
    "For better reproducibility during training, use the pinned versions below, the same versions used in the book:"
   ]
  },
  {
   "cell_type": "code",
   "execution_count": null,
   "id": "820bf858",
   "metadata": {},
   "outputs": [],
   "source": [
    "# bitsandbytes had to be bumped to 0.45.2 to avoid errors in Colab env\n",
    "!pip install transformers==4.46.2 peft==0.13.2 accelerate==1.1.1 trl==0.12.1 bitsandbytes==0.45.2 datasets==3.1.0 huggingface-hub==0.26.2 safetensors==0.4.5 pandas==2.2.2 matplotlib==3.8.0 numpy==1.26.4"
   ]
  },
  {
   "cell_type": "code",
   "execution_count": null,
   "id": "17da3fa6",
   "metadata": {
    "colab": {
     "base_uri": "https://localhost:8080/"
    },
    "id": "kODUm5BmEQhI",
    "outputId": "5a17ca8b-855a-4e55-b7a2-ab2af98d8906"
   },
   "outputs": [],
   "source": [
    "# If you're running on Colab\n",
    "#!pip install datasets bitsandbytes trl"
   ]
  },
  {
   "cell_type": "code",
   "execution_count": null,
   "id": "c6365ab6",
   "metadata": {},
   "outputs": [],
   "source": [
    "# If you're running on runpod.io's Jupyter Template\n",
    "#!pip install datasets bitsandbytes trl transformers peft huggingface-hub accelerate safetensors pandas matplotlib"
   ]
  },
  {
   "cell_type": "markdown",
   "id": "e98088ed",
   "metadata": {},
   "source": [
    "### Imports"
   ]
  },
  {
   "cell_type": "code",
   "execution_count": 1,
   "id": "5217d02f",
   "metadata": {},
   "outputs": [],
   "source": [
    "import numpy as np\n",
    "import os\n",
    "import torch\n",
    "import torch.nn as nn\n",
    "import torch.nn.functional as F\n",
    "from datasets import load_dataset, Dataset\n",
    "from peft import get_peft_model, prepare_model_for_kbit_training, LoraConfig, AutoPeftModelForCausalLM\n",
    "from transformers import Trainer, TrainingArguments, AutoTokenizer, AutoModelForCausalLM, BitsAndBytesConfig\n",
    "from trl import SFTTrainer, SFTConfig, setup_chat_format, DataCollatorForCompletionOnlyLM"
   ]
  },
  {
   "cell_type": "code",
   "execution_count": null,
   "id": "d1cbc1a4",
   "metadata": {},
   "outputs": [],
   "source": [
    "# If you're running on Colab, you need to download the helper functions' Python file\n",
    "!wget https://raw.githubusercontent.com/dvgodoy/FineTuningLLMs/refs/heads/main/helper_functions.py\n",
    "    \n",
    "from helper_functions import *"
   ]
  },
  {
   "cell_type": "markdown",
   "id": "9f52c8b7",
   "metadata": {},
   "source": [
    "### The Goal\n",
    "\n",
    "We pull out all the stops to squeeze the base model, the adapters, the optimizer, and a mini-batch into the GPU's RAM with enough room left to fit the computed activations and the gradients. We manage to make it work by trading computing for memory (gradient checkpointing), deferring parameter updates (gradient accumulation), and using memory-efficient implementations of the attention mechanism (Flash Attention or PyTorch's SDPA)."
   ]
  },
  {
   "cell_type": "markdown",
   "id": "aff619ae",
   "metadata": {},
   "source": [
    "### Pre-Reqs\n",
    "\n",
    "![](https://github.com/dvgodoy/FineTuningLLMs/blob/main/images/ch5/forward_pass.png?raw=True)\n",
    "<center>Figure 5.1 - The forward pass</center>\n",
    "\n",
    "![](https://github.com/dvgodoy/FineTuningLLMs/blob/main/images/ch5/backward_pass.png?raw=True)\n",
    "<center>Figure 5.2 - The backward pass</center>"
   ]
  },
  {
   "cell_type": "markdown",
   "id": "de8f6ec1",
   "metadata": {},
   "source": [
    "### Training in a Nutshell\n",
    "\n",
    "$$\n",
    "\\Large\n",
    "\\text{memory}_{\\text{total}} = \\underbrace{\\text{memory}_{\\text{model}}}_{\\text{stage}_0} + \n",
    "\\underbrace{\\text{memory}_{\\text{batch}} + \\text{memory}_{\\text{act}}}_{\\text{stage}_1} + \\underbrace{\\text{memory}_{\\text{grad}}}_{\\text{stage}_2} + \\underbrace{\\text{memory}_{\\text{optim}}}_{\\text{stage}_3}\n",
    "$$\n",
    "\n",
    "<center>Equation 5.1 - Total memory used for training a model</center>\n",
    "\n",
    "![](https://github.com/dvgodoy/FineTuningLLMs/blob/main/images/ch5/gpu_ram-no_lora.png?raw=True)\n",
    "<center>Figure 5.3 - Memory used by weights, gradients, and the optimizer</center>\n",
    "\n",
    "![](https://github.com/dvgodoy/FineTuningLLMs/blob/main/images/ch5/gpu_ram-8bit_adam.png?raw=True)\n",
    "<center>Figure 5.4 - Memory used by weights, gradients, and a quantized optimizer</center>\n",
    "\n",
    "![](https://github.com/dvgodoy/FineTuningLLMs/blob/main/images/ch5/gpu_ram-lora.png?raw=True)\n",
    "<center>Figure 5.5 - Memory usage under LoRA</center>\n",
    "\n",
    "![](https://github.com/dvgodoy/FineTuningLLMs/blob/main/images/ch5/gpu_ram-lora_s.png?raw=True)\n",
    "<center>Figure 5.6 - Taking activations into account</center>"
   ]
  },
  {
   "cell_type": "markdown",
   "id": "65c74e3b",
   "metadata": {},
   "source": [
    "\n",
    "![](https://github.com/dvgodoy/FineTuningLLMs/blob/main/images/ch5/gpu_ram-lora_short_s.png?raw=True)\n",
    "<center>Figure 5.5 - Taking activations into account (shorter sequences)</center>\n",
    "\n",
    "$$\n",
    "\\Large\n",
    "\\frac{\\text{memory}_{\\text{act}}^{\\text{eager attn}}}{\\text{memory}_{\\text{model}}} = \\left[3\\frac{s}{h} + \\frac{1}{2}n_{\\text{heads}}\\left(\\frac{s}{h}\\right)^2\\right]\\frac{p_{\\text{comp}}}{p_{\\text{model}}} \n",
    "$$\n",
    "\n",
    "<center>Equation 5.2 - Ratio between activation’s and model’s memory usage</center>\n",
    "\n",
    "****\n",
    "**Popular Models' Configurations**\n",
    "\n",
    "The table below illustrates the characteristics of a few models:\n",
    "\n",
    "| Model | hidden_dim (h)  | max seq (s) | n_heads (n_h)  | n_layers (L) |\n",
    "|---|---|---|---|---|\n",
    "| OPT-350M  | 1024  | 2048  | 16  | 24  |\n",
    "| Phi-3.5 Mini  | 3072  | 4096  | 32  | 32  |\n",
    "| Llama-2 7B  | 4096  | 4096  | 32  | 32  |\n",
    "| Llama-3.2 3B  | 3072  | 8192  | 24  | 28  |\n",
    "| Mistral 8B  | 4096  | 32768  | 32  | 32  |\n",
    "| Qwen-2.5 7B  | 3584  | 32768  | 28  | 28  |\n",
    "| OLMo 7B  | 4096  | 2048  | 32  | 32   |\n",
    "****\n",
    "\n",
    "$$\n",
    "\\Large\n",
    "\\begin{aligned}\n",
    "\\frac{\\text{memory}_{\\text{act}}^{\\text{eager attn}}}{18} &= \\left[3\\frac{500}{2048} + \\frac{1}{2}16\\left(\\frac{500}{2048}\\right)^2\\right]\\frac{16}{8}\n",
    "\\\\\n",
    "&= \\left[\\frac{3}{4}+\\frac{1}{2}\\right]2 = \\frac{3}{2} + 1\n",
    "\\\\\n",
    "\\text{memory}_{\\text{act}}^{\\text{eager attn}} &= 18\\frac{3}{2} + 18 = 27 + 18 = 45\n",
    "\\end{aligned}\n",
    "$$\n",
    "<center>Equation 5.3 - Ratio between activation’s and model’s memory usage</center>\n",
    "\n",
    "$$\n",
    "\\Large\n",
    "\\frac{\\text{memory}_{\\text{act}}^{\\text{flash attn}}}{\\text{memory}_{\\text{model}}} = 3\\frac{s}{h}\\frac{p_{\\text{comp}}}{p_{\\text{model}}}\n",
    "$$\n",
    "<center>Equation 5.4 - Ratio between activation’s and model’s memory usage</center>\n",
    "\n",
    "$$\n",
    "\\Large\n",
    "\\text{batch_size}_{\\text{effective}} = \\text{batch_size}_{\\text{micro}} * \\text{n_accumulation_steps}\n",
    "$$\n",
    "<center>Equation 5.5 - Effective mini-batch suize</center>"
   ]
  },
  {
   "cell_type": "markdown",
   "id": "be5088ad",
   "metadata": {},
   "source": [
    "![](https://github.com/dvgodoy/FineTuningLLMs/blob/main/images/ch5/training_loop.png?raw=True)\n",
    "<center>Figure 5.8 - Techniques and their targets in memory</center>\n",
    "\n",
    "$$\n",
    "\\Large\n",
    "\\text{memory}_{\\text{total}} = \\underbrace{\\text{memory}_{\\text{model}}}_{\\text{quantization}} + \n",
    "\\underbrace{\\text{memory}_{\\text{batch}}}_{\\text{grad acc}} + \\underbrace{\\text{memory}_{\\text{act}}}_{\\text{grad checkp \\ flash attn}} + \\underbrace{\\text{memory}_{\\text{grad}} + \\text{memory}_{\\text{optim}}}_{\\text{LoRA \\ 8-bit paged optim \\ grad acc}}\n",
    "$$\n",
    "<center>Equation 5.6 - Techniques and their targets in memory</center>"
   ]
  },
  {
   "cell_type": "markdown",
   "id": "ad090008",
   "metadata": {},
   "source": [
    "****\n",
    "**The Formulas For Activation**\n",
    "\n",
    "Are you curious about the origin of the formulas for memory allocation above? Then, this aside is for you! Those formulas are based on the paper [\"Reducing Activation Recomputation in Large Transformer Models\"](https://arxiv.org/abs/2205.05198) by Korthikanti et al.\n",
    "\n",
    "For a typical Transformer model with hidden size $h$ (the model's dimensionality), $L$ \"layers\" (Transformer blocks), and $n_\\text{heads}$ attention heads, the total number of parameters of the model itself and the total number of computed activations for a mini-batch of $b$ sequences of length $s$ is given by:\n",
    "\n",
    "$$\n",
    "\\Large\n",
    "\\begin{align}\n",
    "\\text{memory}_{\\text{model}} = &L 12 h^2\n",
    "\\\\\n",
    "\\text{memory}_{\\text{act}} = &L \\left( \\alpha h b s + \\beta n_{\\text{heads}} b s^2 \\right) \n",
    "\\end{align}\n",
    "$$\n",
    "<center>Equation 5.7 - Formulas for the typical Transformer</center>\n",
    "\n",
    "See the sequence length squared at the end of the formula? That's our friend, eager attention, showing its expensive nature.\n",
    "\n",
    "[QUESTION]\n",
    "\"_Hey, you missed alpha and beta..._\"\n",
    "\n",
    "Good catch! For a plain-vanilla Transformer using eager attention, alpha and beta are 34 and 5, respectively. But, here is the kicker: if we're using Flash Attention (or SDPA, for that matter), beta drops to zero! No more squared sequence length!\n",
    "\n",
    "$$\n",
    "\\Large\n",
    "\\begin{align}\n",
    "\\text{memory}_{\\text{act}}^{\\text{eager attn}} \\underset{\\alpha=34\\\\\\beta=5}{=} &L \\left( 34 h b s + 5 n_{\\text{heads}} b s^2 \\right)\n",
    "\\\\\n",
    "\\text{memory}_{\\text{act}}^{\\text{flash attn}} \\underset{\\alpha=34\\\\\\beta=0}{=} &L \\left( 34 h b s \\right)\n",
    "\\end{align}\n",
    "$$\n",
    "<center>Equation 5.8 - Formulas for eager and Flash attentions</center>\n",
    "\n",
    "We can use the two formulas above to compute the ratio between the memory allocated by the activations and that allocated by the model itself. In this case, we also have to take into account the computation data type (used by the activations) and the data type used by the model's weights:\n",
    "\n",
    "$$\n",
    "\\Large\n",
    "\\begin{align}\n",
    "\\frac{\\text{memory}_{\\text{act}}^{\\text{eager attn}}}{\\text{memory}_{\\text{model}}} &= \\left[\\frac{34bs}{12h} + \\frac{5n_{\\text{heads}}bs^2}{12h^2}\\right]\\frac{p_{\\text{comp}}}{p_{\\text{model}}} \n",
    "\\\\\n",
    "&\\underset{b=1}{\\approx} \\left[3\\frac{s}{h} + \\frac{1}{2}n_{\\text{heads}}\\left(\\frac{s}{h}\\right)^2\\right]\\frac{p_{\\text{comp}}}{p_{\\text{model}}} \n",
    "\\end{align}\n",
    "$$\n",
    "\n",
    "$$\n",
    "\\Large\n",
    "\\begin{align}\n",
    "\\frac{\\text{memory}_{\\text{act}}^{\\text{flash attn}}}{\\text{memory}_{\\text{model}}} &= \\frac{34bs}{12h}\\frac{p_{\\text{comp}}}{p_{\\text{model}}}  \\underset{b=1}{\\approx} 3\\frac{s}{h}\\frac{p_{\\text{comp}}}{p_{\\text{model}}} \n",
    "\\end{align}\n",
    "$$\n",
    "<center>Equation 5.9 - Ratios for eager and Flash attentions</center>\n",
    "\n",
    "There we have it! Assuming a mini-batch of one for simplicity, and rounding the fractions, we arrive at the same formulas introduced earlier.\n",
    "****"
   ]
  },
  {
   "cell_type": "markdown",
   "id": "8b235782",
   "metadata": {},
   "source": [
    "### The Road So Far"
   ]
  },
  {
   "cell_type": "code",
   "execution_count": 4,
   "id": "61d18f74",
   "metadata": {},
   "outputs": [
    {
     "name": "stderr",
     "output_type": "stream",
     "text": [
      "UserWarning: TypedStorage is deprecated. It will be removed in the future and UntypedStorage will be the only storage class. This should only matter to you if you are using storages directly.  To access UntypedStorage directly, use tensor.untyped_storage() instead of tensor.storage()\n",
      "  return self.fget.__get__(instance, owner)()\n"
     ]
    }
   ],
   "source": [
    "supported = torch.cuda.is_bf16_supported(including_emulation=False)\n",
    "compute_dtype = (torch.bfloat16 if supported else torch.float32)\n",
    "\n",
    "nf4_config = BitsAndBytesConfig(\n",
    "   load_in_4bit=True,\n",
    "   bnb_4bit_quant_type=\"nf4\",\n",
    "   bnb_4bit_use_double_quant=True,\n",
    "   bnb_4bit_compute_dtype=compute_dtype\n",
    ")\n",
    "\n",
    "model_q4 = AutoModelForCausalLM.from_pretrained(\"facebook/opt-350m\",\n",
    "                                                device_map='cuda:0',\n",
    "                                                quantization_config=nf4_config)\n",
    "\n",
    "model_q4 = prepare_model_for_kbit_training(model_q4)\n",
    "\n",
    "config = LoraConfig(\n",
    "    r=16,\n",
    "    lora_alpha=32,\n",
    "    lora_dropout=0.05,\n",
    "    bias=\"none\",\n",
    "    task_type=\"CAUSAL_LM\",\n",
    ")\n",
    "peft_model = get_peft_model(model_q4, config)\n",
    "\n",
    "tokenizer = AutoTokenizer.from_pretrained(\"facebook/opt-350m\")\n",
    "tokenizer = modify_tokenizer(tokenizer)\n",
    "tokenizer = add_template(tokenizer)\n",
    "\n",
    "peft_model = modify_model(peft_model, tokenizer)\n",
    "\n",
    "dataset = load_dataset(\"dvgodoy/yoda_sentences\", split=\"train\")\n",
    "dataset = dataset.rename_column(\"sentence\", \"prompt\")\n",
    "dataset = dataset.rename_column(\"translation_extra\", \"completion\")\n",
    "dataset = dataset.remove_columns([\"translation\"])"
   ]
  },
  {
   "cell_type": "markdown",
   "id": "c3a8ce71",
   "metadata": {},
   "source": [
    "***\n",
    "\n",
    "**IMPORTANT UPDATE**: unfortunately, in more recent versions of the `trl` library, the \"instruction\" format is not properly supported anymore, thus leading to the chat template not being applied to the dataset. In order to avoid this issue, we can convert the dataset to the \"conversational\" format.\n",
    "\n",
    "***"
   ]
  },
  {
   "cell_type": "code",
   "execution_count": null,
   "id": "2709a71d",
   "metadata": {},
   "outputs": [],
   "source": [
    "# Adapted from trl.extras.dataset_formatting.instructions_formatting_function\n",
    "# Converts dataset from prompt/completion format (not supported anymore)\n",
    "# to the conversational format\n",
    "def format_dataset(examples):\n",
    "    if isinstance(examples[\"prompt\"], list):\n",
    "        output_texts = []\n",
    "        for i in range(len(examples[\"prompt\"])):\n",
    "            converted_sample = [\n",
    "                {\"role\": \"user\", \"content\": examples[\"prompt\"][i]},\n",
    "                {\"role\": \"assistant\", \"content\": examples[\"completion\"][i]},\n",
    "            ]\n",
    "            output_texts.append(converted_sample)\n",
    "        return {'messages': output_texts}\n",
    "    else:\n",
    "        converted_sample = [\n",
    "            {\"role\": \"user\", \"content\": examples[\"prompt\"]},\n",
    "            {\"role\": \"assistant\", \"content\": examples[\"completion\"]},\n",
    "        ]\n",
    "        return {'messages': converted_sample}\n",
    "    \n",
    "dataset = dataset.map(format_dataset).remove_columns(['prompt', 'completion'])"
   ]
  },
  {
   "cell_type": "markdown",
   "id": "4c85955d",
   "metadata": {
    "id": "o7OblnYAEQhR"
   },
   "source": [
    "### Fine-Tuning with `SFTTrainer`\n",
    "\n",
    "****\n",
    "**Summary of \"Fine-Tuning with `SFTTrainer`\"**\n",
    "- the trainer classes below cover the basic cases where the dataset is in one of the supported formats\n",
    "  - training on both prompts and completions\n",
    "    ```python\n",
    "    trainer = SFTTrainer(\n",
    "        model=model,\n",
    "        processing_class=tokenizer,\n",
    "        train_dataset=train_dataset,\n",
    "        eval_dataset=eval_dataset\n",
    "        peft_config=peft_config,\n",
    "        data_collator=None,\n",
    "        args=SFTConfig(\n",
    "            output_dir=\"./future_name_on_the_hub\",\n",
    "            packing=True,\n",
    "            max_seq_length=max_seq_length,\n",
    "        )\n",
    "    )\n",
    "    ```\n",
    "  - training on completions only\n",
    "    ```python\n",
    "    tokenizer.padding_side='left'\n",
    "    response_template = '...' # according to the tokenizer's chat template\n",
    "    collator_fn=DataCollatorForCompletionOnlyLM(response_template, tokenizer=tokenizer)\n",
    "\n",
    "    trainer = SFTTrainer(\n",
    "        model=model,\n",
    "        processing_class=tokenizer,\n",
    "        train_dataset=train_dataset,\n",
    "        eval_dataset=eval_dataset,\n",
    "        peft_config=peft_config,\n",
    "        data_collator=collator_fn,\n",
    "        args=SFTConfig(\n",
    "            output_dir=\"./future_name_on_the_hub\",\n",
    "            packing=False,\n",
    "            max_seq_length=max_seq_length,\n",
    "        )\n",
    "    )\n",
    "    ```\n",
    "- let the trainer class apply LoRA to the model, so it will automatically call both the `get_peft_model()` and the `prepare_model_for_kbit_training()` functions under the hood\n",
    "  - the `model` argument should receive the base model (it may be quantized, but you should not call the `get_peft_model()` function on your own)\n",
    "  - the `peft_config` should receive an instance of `LoraConfig`\n",
    "- use the `formatting_func` argument to specify your custom formatting function (BYOFF, from Chapter 4) if your dataset isn't in one of the supported formats\n",
    "- after creating an instance of the trainer, fetch a mini-batch to ensure the collator is configured properly and your labels are as expected\n",
    "    ```python\n",
    "    dataloader = trainer.get_train_dataloader()\n",
    "    batch = next(iter(dataloader))\n",
    "    labels = batch['labels'][0]\n",
    "    valid = labels >= 0\n",
    "    print(tokenizer.decode(labels[valid]))\n",
    "    ```\n",
    "****"
   ]
  },
  {
   "cell_type": "code",
   "execution_count": 5,
   "id": "67782f1e",
   "metadata": {},
   "outputs": [
    {
     "name": "stderr",
     "output_type": "stream",
     "text": [
      "UserWarning: You didn't pass a `max_seq_length` argument to the SFTTrainer, this will default to 1024\n",
      "  warnings.warn(\n",
      "WARNING:accelerate.utils.other:Detected kernel version 5.4.0, which is below the recommended minimum of 5.5.0; this can cause the process to hang. It is recommended to upgrade the kernel to the minimum version or higher.\n"
     ]
    },
    {
     "data": {
      "text/plain": [
       "<trl.trainer.sft_trainer.SFTTrainer at 0x7ff51e08f2b0>"
      ]
     },
     "execution_count": 5,
     "metadata": {},
     "output_type": "execute_result"
    }
   ],
   "source": [
    "mvt_trainer = SFTTrainer(\n",
    "    model=peft_model,\n",
    "    tokenizer=tokenizer,\n",
    "    train_dataset=dataset,\n",
    "    args=SFTConfig(\n",
    "        output_dir=\"./future_model_name_on_the_hub\",\n",
    "    )\n",
    ")"
   ]
  },
  {
   "cell_type": "markdown",
   "id": "66ed1a13",
   "metadata": {},
   "source": [
    "#### Double-Check the Data Loaders"
   ]
  },
  {
   "cell_type": "code",
   "execution_count": 6,
   "id": "8741f40c",
   "metadata": {},
   "outputs": [
    {
     "data": {
      "text/plain": [
       "tensor([[50265, 12105, 50118,  1213,   362,    49,  1159,    31,     5,   285,\n",
       "           334,     4,     2, 50118, 50265,  2401, 33388, 50118,  7605,     5,\n",
       "           285,   334,     6,    49,  1159,    51,   362,     4,   289,   338,\n",
       "         41311,     4,     2, 50118,     1,     1,     1,     1,     1,     1,\n",
       "             1,     1],\n",
       "        [50265, 12105, 50118,   250,  9371,    16,    99, 33199,   460,  1733,\n",
       "            11,     4,     2, 50118, 50265,  2401, 33388, 50118,  2264, 33199,\n",
       "           460,  1733,    11,     6,    10,  9371,    16,     4,   854, 47820,\n",
       "          7485,    29,     4,     2, 50118,     1,     1,     1,     1,     1,\n",
       "             1,     1]], device='cuda:0')"
      ]
     },
     "execution_count": 6,
     "metadata": {},
     "output_type": "execute_result"
    }
   ],
   "source": [
    "mvt_train_dataloader = mvt_trainer.get_train_dataloader()\n",
    "batch = next(iter(mvt_train_dataloader))\n",
    "batch['input_ids'][:2]"
   ]
  },
  {
   "cell_type": "code",
   "execution_count": 7,
   "id": "d99acb18",
   "metadata": {},
   "outputs": [
    {
     "data": {
      "text/plain": [
       "(1, 'right')"
      ]
     },
     "execution_count": 7,
     "metadata": {},
     "output_type": "execute_result"
    }
   ],
   "source": [
    "tokenizer.pad_token_id, tokenizer.padding_side"
   ]
  },
  {
   "cell_type": "markdown",
   "id": "86f86047",
   "metadata": {},
   "source": [
    "The padding tokens should be on the left side. Right-padding a big no-no when training generative language models.\n",
    "\n",
    "![](https://github.com/dvgodoy/FineTuningLLMs/blob/main/images/ch4/packing_flow.png?raw=True)\n",
    "\n",
    "<center>Figure 5.9 - Choosing the right configuration for your data</center>"
   ]
  },
  {
   "cell_type": "code",
   "execution_count": 8,
   "id": "2a72109a",
   "metadata": {},
   "outputs": [
    {
     "name": "stderr",
     "output_type": "stream",
     "text": [
      "WARNING:accelerate.utils.other:Detected kernel version 5.4.0, which is below the recommended minimum of 5.5.0; this can cause the process to hang. It is recommended to upgrade the kernel to the minimum version or higher.\n"
     ]
    },
    {
     "data": {
      "text/plain": [
       "<trl.trainer.sft_trainer.SFTTrainer at 0x7ff41eb4bf40>"
      ]
     },
     "execution_count": 8,
     "metadata": {},
     "output_type": "execute_result"
    }
   ],
   "source": [
    "pack_trainer = SFTTrainer(\n",
    "    model=peft_model,\n",
    "    tokenizer=tokenizer,\n",
    "    train_dataset=dataset,\n",
    "    data_collator=None,\n",
    "    args=SFTConfig(\n",
    "        output_dir=\"./future_name_on_the_hub\",\n",
    "        packing=True,\n",
    "        max_seq_length=64,\n",
    "        report_to='none'\n",
    "    )\n",
    ")"
   ]
  },
  {
   "cell_type": "code",
   "execution_count": 9,
   "id": "8685468a",
   "metadata": {},
   "outputs": [
    {
     "data": {
      "text/plain": [
       "tensor([[  133,   410, 20072,    51,  1137,    32,  3950,     4,     2, 50118,\n",
       "         50265,  2401, 33388, 50118, 46659,     6,     5,   410, 20072,    51,\n",
       "          1137,    32,     4,     2, 50118,     2, 50265, 12105, 50118,   133,\n",
       "         22032, 15909,  1064,    19,    10,  7337,  2058,     4,     2, 50118,\n",
       "         50265,  2401, 33388, 50118,  3908,    10,  7337,  2058,     6,     5,\n",
       "         22032, 15909,  1064,     4,     2, 50118,     2, 50265, 12105, 50118,\n",
       "           133,  5820,    21, 14166],\n",
       "        [    6,    47,   531,     4,     2, 50118,     2, 50265, 12105, 50118,\n",
       "         27728,  3615,     5,  1836,     9,     5,  1123,  6013,     4,     2,\n",
       "         50118, 50265,  2401, 33388, 50118, 42841,   352,     6,  1591,     5,\n",
       "          1836,     9,     5,  1123,  6013,     6,    47,   531,     4,     2,\n",
       "         50118,     2, 50265, 12105, 50118,   894,  2738,    62,     5, 23819,\n",
       "            13,    10,   200,  3825,     4,     2, 50118, 50265,  2401, 33388,\n",
       "         50118,   725, 28015, 41311]], device='cuda:0')"
      ]
     },
     "execution_count": 9,
     "metadata": {},
     "output_type": "execute_result"
    }
   ],
   "source": [
    "pack_train_dataloader = pack_trainer.get_train_dataloader()\n",
    "batch = next(iter(pack_train_dataloader))\n",
    "batch['input_ids'][:2]"
   ]
  },
  {
   "cell_type": "code",
   "execution_count": 10,
   "id": "32ee1798",
   "metadata": {
    "scrolled": true
   },
   "outputs": [
    {
     "name": "stderr",
     "output_type": "stream",
     "text": [
      "huggingface/tokenizers: The current process just got forked, after parallelism has already been used. Disabling parallelism to avoid deadlocks...\n",
      "To disable this warning, you can either:\n",
      "\t- Avoid using `tokenizers` before the fork if possible\n",
      "\t- Explicitly set the environment variable TOKENIZERS_PARALLELISM=(true | false)\n",
      "UserWarning: You passed a processing_class with `padding_side` not equal to `right` to the SFTTrainer. This might lead to some unexpected behaviour due to overflow issues when training a model in half-precision. You might consider adding `processing_class.padding_side = 'right'` to your code.\n",
      "  warnings.warn(\n",
      "WARNING:accelerate.utils.other:Detected kernel version 5.4.0, which is below the recommended minimum of 5.5.0; this can cause the process to hang. It is recommended to upgrade the kernel to the minimum version or higher.\n"
     ]
    },
    {
     "data": {
      "text/plain": [
       "<trl.trainer.sft_trainer.SFTTrainer at 0x7ff41eaf7130>"
      ]
     },
     "execution_count": 10,
     "metadata": {},
     "output_type": "execute_result"
    }
   ],
   "source": [
    "tokenizer.padding_side='left'\n",
    "\n",
    "response_template = '<|im_start|>assistant\\n'\n",
    "collator_fn=DataCollatorForCompletionOnlyLM(response_template, tokenizer=tokenizer)\n",
    "\n",
    "completions_trainer = SFTTrainer(\n",
    "    model=peft_model,\n",
    "    tokenizer=tokenizer,\n",
    "    train_dataset=dataset,\n",
    "    data_collator=collator_fn,\n",
    "    args=SFTConfig(\n",
    "        output_dir=\"./future_name_on_the_hub\",\n",
    "        packing=False,\n",
    "        max_seq_length=64,\n",
    "        report_to='none'\n",
    "    )\n",
    ")"
   ]
  },
  {
   "cell_type": "code",
   "execution_count": 11,
   "id": "8e5190fc",
   "metadata": {},
   "outputs": [
    {
     "data": {
      "text/plain": [
       "(tensor([    1,     1,     1,     1,     1,     1,     1,     1, 50265, 12105,\n",
       "         50118,  1213,   362,    49,  1159,    31,     5,   285,   334,     4,\n",
       "             2, 50118, 50265,  2401, 33388, 50118,  7605,     5,   285,   334,\n",
       "             6,    49,  1159,    51,   362,     4,   289,   338, 41311,     4,\n",
       "             2, 50118], device='cuda:0'),\n",
       " tensor([ -100,  -100,  -100,  -100,  -100,  -100,  -100,  -100,  -100,  -100,\n",
       "          -100,  -100,  -100,  -100,  -100,  -100,  -100,  -100,  -100,  -100,\n",
       "          -100,  -100,  -100,  -100,  -100,  -100,  7605,     5,   285,   334,\n",
       "             6,    49,  1159,    51,   362,     4,   289,   338, 41311,     4,\n",
       "             2, 50118], device='cuda:0'))"
      ]
     },
     "execution_count": 11,
     "metadata": {},
     "output_type": "execute_result"
    }
   ],
   "source": [
    "completions_train_dataloader = completions_trainer.get_train_dataloader()\n",
    "batch = next(iter(completions_train_dataloader))\n",
    "input_ids = batch['input_ids'][0]\n",
    "labels = batch['labels'][0]\n",
    "input_ids, labels"
   ]
  },
  {
   "cell_type": "code",
   "execution_count": 12,
   "id": "7ea722b5",
   "metadata": {},
   "outputs": [
    {
     "name": "stdout",
     "output_type": "stream",
     "text": [
      "<pad><pad><pad><pad><pad><pad><pad><pad><|im_start|>user\n",
      "They took their kids from the public school.</s>\n",
      "<|im_start|>assistant\n",
      "From the public school, their kids they took. Hrmmm.</s>\n",
      "\n"
     ]
    }
   ],
   "source": [
    "print(tokenizer.decode(input_ids))"
   ]
  },
  {
   "cell_type": "code",
   "execution_count": 13,
   "id": "b977a7c4",
   "metadata": {},
   "outputs": [
    {
     "name": "stdout",
     "output_type": "stream",
     "text": [
      "From the public school, their kids they took. Hrmmm.</s>\n",
      "\n"
     ]
    }
   ],
   "source": [
    "valid = labels >= 0\n",
    "print(tokenizer.decode(labels[valid]))"
   ]
  },
  {
   "cell_type": "markdown",
   "id": "2db65d34",
   "metadata": {},
   "source": [
    "#### The Actual Training"
   ]
  },
  {
   "cell_type": "code",
   "execution_count": 14,
   "id": "4f3f2465",
   "metadata": {},
   "outputs": [
    {
     "name": "stderr",
     "output_type": "stream",
     "text": [
      "huggingface/tokenizers: The current process just got forked, after parallelism has already been used. Disabling parallelism to avoid deadlocks...\n",
      "To disable this warning, you can either:\n",
      "\t- Avoid using `tokenizers` before the fork if possible\n",
      "\t- Explicitly set the environment variable TOKENIZERS_PARALLELISM=(true | false)\n",
      "UserWarning: You passed a processing_class with `padding_side` not equal to `right` to the SFTTrainer. This might lead to some unexpected behaviour due to overflow issues when training a model in half-precision. You might consider adding `processing_class.padding_side = 'right'` to your code.\n",
      "  warnings.warn(\n",
      "WARNING:accelerate.utils.other:Detected kernel version 5.4.0, which is below the recommended minimum of 5.5.0; this can cause the process to hang. It is recommended to upgrade the kernel to the minimum version or higher.\n"
     ]
    },
    {
     "data": {
      "text/plain": [
       "<trl.trainer.sft_trainer.SFTTrainer at 0x7ff42b9740d0>"
      ]
     },
     "execution_count": 14,
     "metadata": {},
     "output_type": "execute_result"
    }
   ],
   "source": [
    "trainer = SFTTrainer(\n",
    "    model=peft_model,\n",
    "    tokenizer=tokenizer,\n",
    "    train_dataset=dataset,\n",
    "    data_collator=None,\n",
    "    args=SFTConfig(\n",
    "        output_dir=\"./future_name_on_the_hub\",\n",
    "        packing=True,\n",
    "        max_seq_length=64,\n",
    "        report_to='none'\n",
    "    )\n",
    ")"
   ]
  },
  {
   "cell_type": "code",
   "execution_count": 15,
   "id": "38d0c9c7",
   "metadata": {},
   "outputs": [
    {
     "name": "stderr",
     "output_type": "stream",
     "text": [
      "`use_cache=True` is incompatible with gradient checkpointing. Setting `use_cache=False`...\n"
     ]
    },
    {
     "data": {
      "text/html": [
       "\n",
       "    <div>\n",
       "      \n",
       "      <progress value='150' max='150' style='width:300px; height:20px; vertical-align: middle;'></progress>\n",
       "      [150/150 01:19, Epoch 3/3]\n",
       "    </div>\n",
       "    <table border=\"1\" class=\"dataframe\">\n",
       "  <thead>\n",
       " <tr style=\"text-align: left;\">\n",
       "      <th>Step</th>\n",
       "      <th>Training Loss</th>\n",
       "    </tr>\n",
       "  </thead>\n",
       "  <tbody>\n",
       "  </tbody>\n",
       "</table><p>"
      ],
      "text/plain": [
       "<IPython.core.display.HTML object>"
      ]
     },
     "metadata": {},
     "output_type": "display_data"
    },
    {
     "data": {
      "text/plain": [
       "TrainOutput(global_step=150, training_loss=4.1203271484375, metrics={'train_runtime': 80.1217, 'train_samples_per_second': 14.79, 'train_steps_per_second': 1.872, 'total_flos': 138755718512640.0, 'train_loss': 4.1203271484375, 'epoch': 3.0})"
      ]
     },
     "execution_count": 15,
     "metadata": {},
     "output_type": "execute_result"
    }
   ],
   "source": [
    "trainer.train()"
   ]
  },
  {
   "cell_type": "code",
   "execution_count": 16,
   "id": "5d3a8a7e",
   "metadata": {},
   "outputs": [
    {
     "name": "stdout",
     "output_type": "stream",
     "text": [
      "<|im_start|>user\n",
      "There is bacon in this sandwich.</s>\n",
      "<|im_start|>assistant\n",
      "\n",
      "<|im_start|>assistant\n",
      "\n",
      "<|im_start|>assistant\n",
      "\n",
      "<|im_start|>assistant\n",
      "\n",
      "<|im_start|>assistant\n",
      "\n",
      "<|im_start|>assistant\n",
      "\n",
      "<|im_start|>assistant\n",
      "\n",
      "<|im_start|>assistant\n",
      "\n",
      "<|im_start|>assistant\n",
      "\n",
      "<|im_start|>assistant\n",
      "\n",
      "<|im_start|>assistant\n",
      "\n",
      "<|im_start|>assistant\n",
      "\n",
      "<|im_start|>assistant\n",
      "\n",
      "<|im_start|>assistant\n"
     ]
    }
   ],
   "source": [
    "# results may vary, but they're not what we'd like them to be\n",
    "print(generate(peft_model, tokenizer, \"There is bacon in this sandwich.\"))"
   ]
  },
  {
   "cell_type": "code",
   "execution_count": 17,
   "id": "f68c8700",
   "metadata": {},
   "outputs": [
    {
     "data": {
      "text/plain": [
       "(2e-05, 8, 3.0)"
      ]
     },
     "execution_count": 17,
     "metadata": {},
     "output_type": "execute_result"
    }
   ],
   "source": [
    "trainer.args.learning_rate, trainer.args.per_device_train_batch_size, trainer.args.num_train_epochs"
   ]
  },
  {
   "cell_type": "code",
   "execution_count": 18,
   "id": "a0e8e590",
   "metadata": {},
   "outputs": [
    {
     "data": {
      "text/plain": [
       "accelerate.optimizer.AcceleratedOptimizer"
      ]
     },
     "execution_count": 18,
     "metadata": {},
     "output_type": "execute_result"
    }
   ],
   "source": [
    "trainer.optimizer.__class__"
   ]
  },
  {
   "cell_type": "code",
   "execution_count": 19,
   "id": "5ae6a917",
   "metadata": {},
   "outputs": [
    {
     "data": {
      "text/plain": [
       "torch.optim.adamw.AdamW"
      ]
     },
     "execution_count": 19,
     "metadata": {},
     "output_type": "execute_result"
    }
   ],
   "source": [
    "trainer.optimizer.optimizer.__class__"
   ]
  },
  {
   "cell_type": "markdown",
   "id": "229a548e",
   "metadata": {},
   "source": [
    "***\n",
    "**Simplified Training Loop**\n",
    "\n",
    "```python\n",
    "n_epochs = trainer.args.num_train_epochs\n",
    "# Retrieves the data loader according to the packing and\n",
    "# collator configuration\n",
    "train_dataloader = trainer.get_train_dataloader()\n",
    "# Stage 0\n",
    "trainer.create_optimizer()\n",
    "# Prepare all objects passed in `args` for distributed training\n",
    "# and mixed precision, then return them in the same order.\n",
    "trainer.model, trainer.optimizer = trainer.accelerator.prepare(\n",
    "\ttrainer.model, trainer.optimizer\n",
    ")\n",
    "# Activate gradient checkpointing if needed\n",
    "if trainer.args.gradient_checkpointing:\n",
    "    trainer.model.gradient_checkpointing_enable(\n",
    "    \tgradient_checkpointing_kwargs={'use_reentrant': False}\n",
    "    )\n",
    "trainer.model.zero_grad()\n",
    "\n",
    "for epoch in range(int(n_epochs)):\n",
    "    for step, inputs in enumerate(train_dataloader):\n",
    "        # Ready for gradient accumulation\n",
    "        with trainer.accelerator.accumulate(trainer.model):\n",
    "            trainer.model.train()\n",
    "            # Stage 1\n",
    "            ## recursively walks through lists/tuples/dicts\n",
    "            ## to send every tensor to trainer.args.device\n",
    "            inputs = trainer._prepare_inputs(inputs)\n",
    "            ## Forward pass\n",
    "            outputs = trainer.model(**inputs)\n",
    "            ## Unwrap the micro-batch loss\n",
    "            loss = (outputs[\"loss\"] if isinstance(outputs, dict) else outputs[0])\n",
    "            # Stage 2\n",
    "            ## Backward pass - backpropagation\n",
    "            trainer.accelerator.backward(loss)\n",
    "            \n",
    "        # Stage 3\n",
    "        ## Update parameters\n",
    "        trainer.optimizer.step()\n",
    "        # Stage 4\n",
    "        ## Zero gradients\n",
    "        trainer.model.zero_grad()\n",
    "```\n",
    "***"
   ]
  },
  {
   "cell_type": "markdown",
   "id": "2ea2dbc7",
   "metadata": {
    "id": "eHnCCh1hEQhS"
   },
   "source": [
    "### `SFTConfig`\n",
    "\n",
    "****\n",
    "**Summary of \"`SFTConfig`\"**\n",
    "- the basic configuration below is a good starting point\n",
    "    ```python\n",
    "    lr = ...\n",
    "    num_train_epochs = ...\n",
    "    min_effective_batch_size = 8\n",
    "    max_seq_length = ...\n",
    "    collator_fn = ...\n",
    "    packing = (collator_fn is None)\n",
    "    steps = 50\n",
    "\n",
    "    sft_config = SFTConfig(\n",
    "        output_dir='./future_name_on_the_hub',\n",
    "        # Dataset\n",
    "        packing=packing,\n",
    "        max_seq_length=max_seq_length,\n",
    "        # Gradients / Memory\n",
    "        gradient_checkpointing=True,\n",
    "        gradient_checkpointing_kwargs={'use_reentrant': False},\n",
    "        gradient_accumulation_steps=2,\n",
    "        per_device_train_batch_size=min_effective_batch_size,\n",
    "        auto_find_batch_size=True,\n",
    "        # Training\n",
    "        num_train_epochs=num_train_epochs,\n",
    "        learning_rate=lr,\n",
    "        # Env and Logging\n",
    "        report_to='tensorboard',\n",
    "        logging_dir='./logs',\n",
    "        logging_strategy='steps',\n",
    "        logging_steps=steps,\n",
    "        evaluation_strategy='steps',\n",
    "        evaluation_steps=steps,\n",
    "        save_strategy='steps',\n",
    "        save_steps=steps\n",
    "    )\n",
    "    ```\n",
    "- for mixed-precision training (potentially trading a little extra memory usage for improving speed), include the following arguments:\n",
    "    ```python\n",
    "        fp16: not torch.cuda.is_bf16_supported(),\n",
    "        bf16: torch.cuda.is_bf16_supported(),\n",
    "    ```\n",
    "****\n",
    "\n",
    "#### Memory Usage Arguments"
   ]
  },
  {
   "cell_type": "code",
   "execution_count": 20,
   "id": "54a540c1",
   "metadata": {},
   "outputs": [],
   "source": [
    "def find_max_batch_size(trainer, initial_batch_size=None, update_trainer=False):\n",
    "    from copy import deepcopy\n",
    "    from accelerate.utils import find_executable_batch_size as accelerate_find_executable_batch_size\n",
    "\n",
    "    # create a new, dummy, Trainer using the same model\n",
    "    new_trainer = SFTTrainer(\n",
    "        model=trainer.model\n",
    "    )\n",
    "    # replicates the whole configuration at low level\n",
    "    new_trainer.__dict__.update(**trainer.__dict__)\n",
    "    # since we're modifying the SFTConfig, deep-copies it\n",
    "    new_trainer.args = deepcopy(new_trainer.args)\n",
    "    # sets learning rate to 0, so model doesn't get updated\n",
    "    new_trainer.args.learning_rate = 0\n",
    "    # only runs it for 1 step, we just need to check for OOMs\n",
    "    new_trainer.args.max_steps = 1\n",
    "    \n",
    "    # you don't need to set this in the actual Trainer\n",
    "    # if you're using this function\n",
    "    new_trainer.args.auto_find_batch_size = True\n",
    "    # by default, it uses the original `per_device_train_batch_size`\n",
    "    # as starting point, but we can change it\n",
    "    if initial_batch_size is not None:\n",
    "        new_trainer.args.per_device_train_batch_size = initial_batch_size\n",
    "\n",
    "    # this is what's happening under the hood\n",
    "    # it creates a decorated function based on the inner training loop function\n",
    "    func = accelerate_find_executable_batch_size(new_trainer._inner_training_loop)\n",
    "    # then it runs the training loop using the copied arguments\n",
    "    # evert time it raises an exception, it halves the batch size and\n",
    "    # then it tries again, until it goes through with it\n",
    "    # but, since lr=0, it won't change the model\n",
    "    func(args=new_trainer.args)\n",
    "    # the succesful batch size is in the `_train_batch_size` attribute\n",
    "    max_batch_size = new_trainer._train_batch_size\n",
    "    del new_trainer\n",
    "    \n",
    "    # for your convenience, it can update the batch size directly\n",
    "    if update_trainer:\n",
    "        trainer.args.per_device_train_batch_size = max_batch_size\n",
    "    \n",
    "    return max_batch_size"
   ]
  },
  {
   "cell_type": "markdown",
   "id": "8fd56e2a",
   "metadata": {},
   "source": [
    "#### Mixed-Precision Arguments\n",
    "\n",
    "```python\n",
    "def peft_module_casting_to_bf16(model):\n",
    "    for name, module in model.named_modules():\n",
    "        if isinstance(module, torch.nn.LayerNorm) or \"norm\" in name:\n",
    "            module = module.to(torch.float32)\n",
    "        elif any(x in name for x in [\"lm_head\", \"embed_tokens\", \"wte\", \"wpe\"]):\n",
    "            if hasattr(module, \"weight\"):\n",
    "                if module.weight.dtype == torch.float32:\n",
    "                    module = module.to(torch.bfloat16)\n",
    "```"
   ]
  },
  {
   "cell_type": "markdown",
   "id": "06151e82",
   "metadata": {},
   "source": [
    "### The Actual Training (For Real!)"
   ]
  },
  {
   "cell_type": "code",
   "execution_count": 5,
   "id": "3b2b1580",
   "metadata": {},
   "outputs": [
    {
     "name": "stderr",
     "output_type": "stream",
     "text": [
      "WARNING:accelerate.utils.other:Detected kernel version 5.4.0, which is below the recommended minimum of 5.5.0; this can cause the process to hang. It is recommended to upgrade the kernel to the minimum version or higher.\n",
      "`use_cache=True` is incompatible with gradient checkpointing. Setting `use_cache=False`...\n"
     ]
    },
    {
     "data": {
      "text/html": [
       "\n",
       "    <div>\n",
       "      \n",
       "      <progress value='25' max='25' style='width:300px; height:20px; vertical-align: middle;'></progress>\n",
       "      [25/25 00:27, Epoch 1/1]\n",
       "    </div>\n",
       "    <table border=\"1\" class=\"dataframe\">\n",
       "  <thead>\n",
       " <tr style=\"text-align: left;\">\n",
       "      <th>Step</th>\n",
       "      <th>Training Loss</th>\n",
       "    </tr>\n",
       "  </thead>\n",
       "  <tbody>\n",
       "    <tr>\n",
       "      <td>20</td>\n",
       "      <td>3.689900</td>\n",
       "    </tr>\n",
       "  </tbody>\n",
       "</table><p>"
      ],
      "text/plain": [
       "<IPython.core.display.HTML object>"
      ]
     },
     "metadata": {},
     "output_type": "display_data"
    },
    {
     "name": "stderr",
     "output_type": "stream",
     "text": [
      "UserWarning: Setting `save_embedding_layers` to `True` as the embedding layer has been resized during finetuning.\n",
      "  warnings.warn(\n",
      "UserWarning: Setting `save_embedding_layers` to `True` as the embedding layer has been resized during finetuning.\n",
      "  warnings.warn(\n"
     ]
    },
    {
     "data": {
      "text/plain": [
       "TrainOutput(global_step=25, training_loss=3.5384653854370116, metrics={'train_runtime': 28.9579, 'train_samples_per_second': 13.64, 'train_steps_per_second': 0.863, 'total_flos': 46251906170880.0, 'train_loss': 3.5384653854370116, 'epoch': 1.0})"
      ]
     },
     "execution_count": 5,
     "metadata": {},
     "output_type": "execute_result"
    }
   ],
   "source": [
    "min_effective_batch_size = 8\n",
    "lr = 3e-4\n",
    "max_seq_length = 64\n",
    "collator_fn = None\n",
    "packing = (collator_fn is None)\n",
    "steps = 20\n",
    "num_train_epochs = 10\n",
    "\n",
    "sft_config = SFTConfig(\n",
    "    output_dir='./future_name_on_the_hub',\n",
    "    # Dataset\n",
    "    packing=packing,\n",
    "    max_seq_length=max_seq_length,\n",
    "    # Gradients / Memory\n",
    "    gradient_checkpointing=True,\n",
    "    gradient_checkpointing_kwargs={'use_reentrant': False},\n",
    "    gradient_accumulation_steps=2,\n",
    "    per_device_train_batch_size=min_effective_batch_size,\n",
    "    auto_find_batch_size=True,\n",
    "    # Training\n",
    "    num_train_epochs=num_train_epochs,\n",
    "    learning_rate=lr,\n",
    "    # Env and Logging\n",
    "    report_to='tensorboard',\n",
    "    logging_dir='./logs',\n",
    "    logging_strategy='steps',\n",
    "    logging_steps=steps,\n",
    "    save_strategy='steps',\n",
    "    save_steps=steps\n",
    ")\n",
    "                              \n",
    "trainer = SFTTrainer(\n",
    "    model=peft_model,\n",
    "    tokenizer=tokenizer,\n",
    "    train_dataset=dataset,\n",
    "    data_collator=collator_fn,\n",
    "    args=sft_config\n",
    ")\n",
    "trainer.train()"
   ]
  },
  {
   "cell_type": "code",
   "execution_count": 23,
   "id": "fc8e1fcf",
   "metadata": {},
   "outputs": [
    {
     "name": "stdout",
     "output_type": "stream",
     "text": [
      "<|im_start|>user\n",
      "There is bacon in this sandwich.</s>\n",
      "<|im_start|>assistant\n",
      "In this sandwich, bacon is, there is.</s>\n"
     ]
    }
   ],
   "source": [
    "print(generate(peft_model, tokenizer, \"There is bacon in this sandwich.\"))"
   ]
  },
  {
   "cell_type": "markdown",
   "id": "e7a6ce2b",
   "metadata": {},
   "source": [
    "#### Saving the Adapter"
   ]
  },
  {
   "cell_type": "code",
   "execution_count": 7,
   "id": "880db725",
   "metadata": {},
   "outputs": [],
   "source": [
    "trainer.save_model('yoda-adapter')"
   ]
  },
  {
   "cell_type": "code",
   "execution_count": 12,
   "id": "815aab95",
   "metadata": {},
   "outputs": [
    {
     "data": {
      "text/plain": [
       "['tokenizer.json',\n",
       " 'README.md',\n",
       " 'vocab.json',\n",
       " 'training_args.bin',\n",
       " 'merges.txt',\n",
       " 'adapter_config.json',\n",
       " 'special_tokens_map.json',\n",
       " 'added_tokens.json',\n",
       " 'tokenizer_config.json',\n",
       " 'adapter_model.safetensors']"
      ]
     },
     "execution_count": 12,
     "metadata": {},
     "output_type": "execute_result"
    }
   ],
   "source": [
    "os.listdir('yoda-adapter')"
   ]
  },
  {
   "cell_type": "markdown",
   "id": "5420788f",
   "metadata": {},
   "source": [
    "#### Saving the Full Model"
   ]
  },
  {
   "cell_type": "code",
   "execution_count": 25,
   "id": "1b597ec5",
   "metadata": {},
   "outputs": [
    {
     "data": {
      "text/plain": [
       "PeftModelForCausalLM(\n",
       "  (base_model): LoraModel(\n",
       "    (model): OPTForCausalLM(\n",
       "      (model): OPTModel(\n",
       "        (decoder): OPTDecoder(\n",
       "          (embed_tokens): Embedding(50266, 512, padding_idx=1)\n",
       "          (embed_positions): OPTLearnedPositionalEmbedding(2050, 1024)\n",
       "          (project_out): Linear(in_features=1024, out_features=512, bias=False)\n",
       "          (project_in): Linear(in_features=512, out_features=1024, bias=False)\n",
       "          (layers): ModuleList(\n",
       "            (0-23): 24 x OPTDecoderLayer(\n",
       "              (self_attn): OPTAttention(\n",
       "                (k_proj): Linear(in_features=1024, out_features=1024, bias=True)\n",
       "                (v_proj): lora.Linear(\n",
       "                  (base_layer): Linear(in_features=1024, out_features=1024, bias=True)\n",
       "                  (lora_dropout): ModuleDict(\n",
       "                    (default): Dropout(p=0.05, inplace=False)\n",
       "                  )\n",
       "                  (lora_A): ModuleDict(\n",
       "                    (default): Linear(in_features=1024, out_features=16, bias=False)\n",
       "                  )\n",
       "                  (lora_B): ModuleDict(\n",
       "                    (default): Linear(in_features=16, out_features=1024, bias=False)\n",
       "                  )\n",
       "                  (lora_embedding_A): ParameterDict()\n",
       "                  (lora_embedding_B): ParameterDict()\n",
       "                  (lora_magnitude_vector): ModuleDict()\n",
       "                )\n",
       "                (q_proj): lora.Linear(\n",
       "                  (base_layer): Linear(in_features=1024, out_features=1024, bias=True)\n",
       "                  (lora_dropout): ModuleDict(\n",
       "                    (default): Dropout(p=0.05, inplace=False)\n",
       "                  )\n",
       "                  (lora_A): ModuleDict(\n",
       "                    (default): Linear(in_features=1024, out_features=16, bias=False)\n",
       "                  )\n",
       "                  (lora_B): ModuleDict(\n",
       "                    (default): Linear(in_features=16, out_features=1024, bias=False)\n",
       "                  )\n",
       "                  (lora_embedding_A): ParameterDict()\n",
       "                  (lora_embedding_B): ParameterDict()\n",
       "                  (lora_magnitude_vector): ModuleDict()\n",
       "                )\n",
       "                (out_proj): Linear(in_features=1024, out_features=1024, bias=True)\n",
       "              )\n",
       "              (activation_fn): ReLU()\n",
       "              (self_attn_layer_norm): LayerNorm((1024,), eps=1e-05, elementwise_affine=True)\n",
       "              (fc1): Linear(in_features=1024, out_features=4096, bias=True)\n",
       "              (fc2): Linear(in_features=4096, out_features=1024, bias=True)\n",
       "              (final_layer_norm): LayerNorm((1024,), eps=1e-05, elementwise_affine=True)\n",
       "            )\n",
       "          )\n",
       "        )\n",
       "      )\n",
       "      (lm_head): Linear(in_features=512, out_features=50266, bias=False)\n",
       "    )\n",
       "  )\n",
       ")"
      ]
     },
     "execution_count": 25,
     "metadata": {},
     "output_type": "execute_result"
    }
   ],
   "source": [
    "reloaded_model = AutoPeftModelForCausalLM.from_pretrained('yoda-adapter')\n",
    "reloaded_model"
   ]
  },
  {
   "cell_type": "code",
   "execution_count": 26,
   "id": "bd6f8890",
   "metadata": {},
   "outputs": [
    {
     "data": {
      "text/plain": [
       "OPTForCausalLM(\n",
       "  (model): OPTModel(\n",
       "    (decoder): OPTDecoder(\n",
       "      (embed_tokens): Embedding(50266, 512, padding_idx=1)\n",
       "      (embed_positions): OPTLearnedPositionalEmbedding(2050, 1024)\n",
       "      (project_out): Linear(in_features=1024, out_features=512, bias=False)\n",
       "      (project_in): Linear(in_features=512, out_features=1024, bias=False)\n",
       "      (layers): ModuleList(\n",
       "        (0-23): 24 x OPTDecoderLayer(\n",
       "          (self_attn): OPTAttention(\n",
       "            (k_proj): Linear(in_features=1024, out_features=1024, bias=True)\n",
       "            (v_proj): Linear(in_features=1024, out_features=1024, bias=True)\n",
       "            (q_proj): Linear(in_features=1024, out_features=1024, bias=True)\n",
       "            (out_proj): Linear(in_features=1024, out_features=1024, bias=True)\n",
       "          )\n",
       "          (activation_fn): ReLU()\n",
       "          (self_attn_layer_norm): LayerNorm((1024,), eps=1e-05, elementwise_affine=True)\n",
       "          (fc1): Linear(in_features=1024, out_features=4096, bias=True)\n",
       "          (fc2): Linear(in_features=4096, out_features=1024, bias=True)\n",
       "          (final_layer_norm): LayerNorm((1024,), eps=1e-05, elementwise_affine=True)\n",
       "        )\n",
       "      )\n",
       "    )\n",
       "  )\n",
       "  (lm_head): Linear(in_features=512, out_features=50266, bias=False)\n",
       ")"
      ]
     },
     "execution_count": 26,
     "metadata": {},
     "output_type": "execute_result"
    }
   ],
   "source": [
    "merged_model = reloaded_model.merge_and_unload()\n",
    "merged_model"
   ]
  },
  {
   "cell_type": "code",
   "execution_count": 41,
   "id": "7cad8a44",
   "metadata": {},
   "outputs": [],
   "source": [
    "merged_model.save_pretrained('yoda-merged')"
   ]
  },
  {
   "cell_type": "markdown",
   "id": "92020546",
   "metadata": {},
   "source": [
    "#### Push To Hub"
   ]
  },
  {
   "cell_type": "code",
   "execution_count": null,
   "id": "64b0cb82",
   "metadata": {},
   "outputs": [],
   "source": [
    "from huggingface_hub import login\n",
    "login()"
   ]
  },
  {
   "cell_type": "markdown",
   "id": "eb321333",
   "metadata": {},
   "source": [
    "![](https://github.com/dvgodoy/FineTuningLLMs/blob/main/images/ch0/hub0.png?raw=True)\n",
    "<center>Figure 5.10 - Logging into the Hugging Face Hub</center>\n",
    "\n",
    "![](https://github.com/dvgodoy/FineTuningLLMs/blob/main/images/ch0/hub1.png?raw=True)\n",
    "<center>Figure 5.11- Successful Login</center>"
   ]
  },
  {
   "cell_type": "code",
   "execution_count": null,
   "id": "30e78fb0",
   "metadata": {},
   "outputs": [],
   "source": [
    "trainer.push_to_hub()"
   ]
  },
  {
   "cell_type": "markdown",
   "id": "8f00973b",
   "metadata": {},
   "source": [
    "### Attention\n",
    "\n",
    "$$\n",
    "\\Large\n",
    "\\text{Attention}(Q, K, V) = \\text{softmax}\\left(\\frac{QK^T}{\\sqrt{d_k}}\\right)V\n",
    "$$\n",
    "<center>Equation 5.10 - Attention formula</center>\n",
    "\n",
    "****\n",
    "**Summary of \"Attention\"**\n",
    "- the most popular Transformer models in Hugging Face already support the memory-efficient PyTorch's SDPA implementation, you can easily use them by specifying the `attn_implementation` argument:\n",
    "    ```python\n",
    "    model = AutoModelForCausalLM.from_pretrained(repo_id, attn_implementation=\"sdpa\")\n",
    "    ```\n",
    "- Flash Attention 2 can offer a little performance boost (compared to SDPA), but it comes with strings attached as it only supports 16-bit data types by default (FP16 and BF16):\n",
    "  - you must specify the `torch_dtype` argument accordingly or load a quantized model (which will set the type under the hood)\n",
    "    ```python\n",
    "    model = AutoModelForCausalLM.from_pretrained(\"facebook/opt-350m\", \n",
    "                                                 torch_dtype=torch.bfloat16,\n",
    "                                                 attn_implementation=\"flash_attention_2\")\n",
    "    ```\n",
    "    - training a model in full FP16 may lead to underflow or overflow errors, as previously discussed\n",
    "    - training a model in full BF16 offers its own challenges and may require using an optimizer that implements stochastic rounding (please see more details in the \"Full BF16 Training\" aside in the \"Flash Attention 2\" section)\n",
    "  - if you choose to use FP32 instead, you **must** use mixed-precision training (either `fp16` or `bf16`, but not both, must be `True` in the training configuration) or you'll run into a runtime error\n",
    "****\n",
    "\n",
    "\n",
    "****\n",
    "**The Scaling Factor**\n",
    "```python\n",
    "import math\n",
    "import torch\n",
    "d_k = 1024\n",
    "q_vector = torch.randn(1000, 1, d_k)\n",
    "v_vector = torch.randn(1000, 1, d_k).permute(0, 2, 1)\n",
    "torch.bmm(q_vector, v_vector).squeeze().std(), math.sqrt(d_k)\n",
    "```\n",
    "```\n",
    "(tensor(32.5935), 32.0)\n",
    "```\n",
    "****\n",
    "\n",
    "![](https://github.com/dvgodoy/FineTuningLLMs/blob/main/images/ch5/sdpa.png?raw=True)\n",
    "<center>Figure 5.12 - The attention mechanism</center>"
   ]
  },
  {
   "cell_type": "markdown",
   "id": "1c791371",
   "metadata": {},
   "source": [
    "$$\n",
    "\\Large\n",
    "d_k = \\frac{d_\\text{model}}{n_{\\text{heads}}}\n",
    "$$\n",
    "<center>Equation 5.11 - Dimensionality of each attention’s head</center>"
   ]
  },
  {
   "cell_type": "code",
   "execution_count": 1,
   "id": "92a3fd27",
   "metadata": {},
   "outputs": [],
   "source": [
    "class MultiHeadedAttention(nn.Module):\n",
    "    def __init__(self, n_heads, d_model, dropout=0.1, verbose=False):\n",
    "        super(MultiHeadedAttention, self).__init__()\n",
    "        self.n_heads = n_heads\n",
    "        self.d_model = d_model\n",
    "        self.d_k = int(d_model / n_heads)\n",
    "        self.linear_query = nn.Linear(d_model, d_model)\n",
    "        self.linear_key = nn.Linear(d_model, d_model)\n",
    "        self.linear_value = nn.Linear(d_model, d_model)\n",
    "        self.linear_out = nn.Linear(d_model, d_model)\n",
    "        self.dropout = nn.Dropout(p=dropout)\n",
    "        self.alphas = None\n",
    "        self.verbose = verbose\n",
    "        \n",
    "    def print_sizes(self, name, tensor):\n",
    "        if self.verbose:\n",
    "            print(f'{name:<22} - shape: {str(tensor.shape):<30}'\n",
    "                  f'- nelems: {str(torch.numel(tensor)):>10}')\n",
    "\n",
    "    def make_chunks(self, x):\n",
    "        batch_size, seq_len = x.size(0), x.size(1)\n",
    "        # N, L, D -> N, L, n_heads * d_k\n",
    "        x = x.view(batch_size, seq_len, self.n_heads, self.d_k) \n",
    "        # N, n_heads, L, d_k\n",
    "        x = x.transpose(1, 2)  \n",
    "        return x\n",
    "\n",
    "    def init_keys(self, key):\n",
    "        # N, n_heads, L, d_k\n",
    "        self.proj_key = self.make_chunks(self.linear_key(key))\n",
    "        self.proj_value = self.make_chunks(self.linear_value(key))\n",
    "        \n",
    "    def alignment_function(self, query):\n",
    "        # scaled dot product\n",
    "        # N, n_heads, L, d_k x # N, n_heads, d_k, L -> N, n_heads, L, L\n",
    "        proj_query = self.make_chunks(self.linear_query(query))\n",
    "        dot_products = torch.matmul(proj_query, \n",
    "                                    self.proj_key.transpose(-2, -1))\n",
    "        scores =  dot_products / np.sqrt(self.d_k)\n",
    "\n",
    "        self.print_sizes('Query Projs', proj_query)\n",
    "        self.print_sizes('Key Projs', self.proj_key)\n",
    "        self.print_sizes('Value Projs', self.proj_value)\n",
    "        self.print_sizes('Dot Products', dot_products)\n",
    "        self.print_sizes('Alignments', scores)\n",
    "        return scores\n",
    "            \n",
    "    def attn(self, query, mask=None):\n",
    "        # Query is batch-first: N, L, D\n",
    "        # Alignment function will generate alignments for each head\n",
    "        alignments = self.alignment_function(query) # N, n_heads, L, L\n",
    "        if mask is not None:\n",
    "            alignments = alignments.masked_fill(mask == 0, -1e9)\n",
    "        alphas = F.softmax(alignments, dim=-1) # N, n_heads, L, L\n",
    "        alphas = self.dropout(alphas)\n",
    "        self.alphas = alphas.detach()\n",
    "        \n",
    "        # N, n_heads, L, L x N, n_heads, L, d_k -> N, n_heads, L, d_k\n",
    "        context = torch.matmul(alphas, self.proj_value)\n",
    "\n",
    "        self.print_sizes('Attn Scores / Alphas', alphas)\n",
    "        self.print_sizes('Context Vector (heads)', context)\n",
    "        return context        \n",
    "                                \n",
    "    def output_function(self, contexts):\n",
    "        # N, L, D\n",
    "        out = self.linear_out(contexts) # N, L, D\n",
    "        \n",
    "        self.print_sizes('Output Context Vector', out)\n",
    "        return out\n",
    "        \n",
    "    def forward(self, query, mask=None):\n",
    "        self.init_keys(query)\n",
    "        \n",
    "        if mask is not None:\n",
    "            # N, 1, L, L - every head uses the same mask\n",
    "            mask = mask.unsqueeze(1)\n",
    "\n",
    "        # N, n_heads, L, d_k\n",
    "        context = self.attn(query, mask=mask)\n",
    "        # N, L, n_heads, d_k\n",
    "        context = context.transpose(1, 2).contiguous()\n",
    "        # N, L, n_heads * d_k = N, L, d_model\n",
    "        context = context.view(query.size(0), -1, self.d_model)        \n",
    "        # N, L, d_model\n",
    "        out = self.output_function(context)\n",
    "        return out"
   ]
  },
  {
   "cell_type": "code",
   "execution_count": 16,
   "id": "9fec96a0",
   "metadata": {},
   "outputs": [],
   "source": [
    "bsize = 1      # N\n",
    "seqlen = 256   # L\n",
    "d_model = 1024 # D\n",
    "n_heads = 16   # n_heads\n",
    "# d_k = D / n_heads = 64\n",
    "input_batch = torch.randn(bsize, seqlen, d_model)"
   ]
  },
  {
   "cell_type": "code",
   "execution_count": 17,
   "id": "f8045fc6",
   "metadata": {},
   "outputs": [
    {
     "name": "stdout",
     "output_type": "stream",
     "text": [
      "Query Projs            - shape: torch.Size([1, 16, 256, 64])  - nelems:     262144\n",
      "Key Projs              - shape: torch.Size([1, 16, 256, 64])  - nelems:     262144\n",
      "Value Projs            - shape: torch.Size([1, 16, 256, 64])  - nelems:     262144\n",
      "Dot Products           - shape: torch.Size([1, 16, 256, 256]) - nelems:    1048576\n",
      "Alignments             - shape: torch.Size([1, 16, 256, 256]) - nelems:    1048576\n",
      "Attn Scores / Alphas   - shape: torch.Size([1, 16, 256, 256]) - nelems:    1048576\n",
      "Context Vector (heads) - shape: torch.Size([1, 16, 256, 64])  - nelems:     262144\n",
      "Output Context Vector  - shape: torch.Size([1, 256, 1024])    - nelems:     262144\n"
     ]
    }
   ],
   "source": [
    "mha = MultiHeadedAttention(n_heads=n_heads, d_model=d_model, verbose=True)\n",
    "out = mha(input_batch)"
   ]
  },
  {
   "cell_type": "markdown",
   "id": "abe665d8",
   "metadata": {},
   "source": [
    "![](https://github.com/dvgodoy/FineTuningLLMs/blob/main/images/ch5/eager_attn.png?raw=True)\n",
    "\n",
    "<center>Figure 5.13 - Eager attention’s memory operations</center>"
   ]
  },
  {
   "cell_type": "markdown",
   "id": "8c34d4df",
   "metadata": {},
   "source": [
    "#### Flash Attention 2\n",
    "\n",
    "You need to install the [`flash-attn` package](https://github.com/Dao-AILab/flash-attention). Keep in mind, though, that older GPU's are not supported. Flash Attention only works with Ampere, Ada, or Hopper GPUs (e.g., A100, RTX 3090, RTX 4090, H100) which, by the way, are those supporting the BF16 data type.\n",
    "\n",
    "Also, in order to install it, you must have NVCC (NVIDIA CUDA Compiler driver) installed. You can easily check if you already have it by running the following command:\n",
    "\n",
    "```shell\n",
    "nvcc --version\n",
    "```"
   ]
  },
  {
   "cell_type": "markdown",
   "id": "5979696f",
   "metadata": {},
   "source": [
    "If you get an output like that, you're good to go:\n",
    "\n",
    "```\n",
    "nvcc: NVIDIA (R) Cuda compiler driver\n",
    "Copyright (c) 2005-2024 NVIDIA Corporation\n",
    "Built on Thu_Sep_12_02:18:05_PDT_2024\n",
    "Cuda compilation tools, release 12.6, V12.6.77\n",
    "Build cuda_12.6.r12.6/compiler.34841621_0\n",
    "```"
   ]
  },
  {
   "cell_type": "markdown",
   "id": "d162006b",
   "metadata": {},
   "source": [
    "However, if `nvcc` isn't recognized by your system, you may need to install the [CUDA Toolkit](https://developer.nvidia.com/cuda-downloads).\n",
    "\n",
    "The next step is installing the package itself:\n",
    "\n",
    "```shell\n",
    "pip install -U flash-attn\n",
    "```\n",
    "\n",
    "Once installation is complete, double-check it using a `transformers` helper function:\n",
    "\n",
    "```python\n",
    "from transformers.utils import is_flash_attn_2_available\n",
    "\n",
    "is_flash_attn_2_available()\n",
    "```\n",
    "\n",
    "```\n",
    "True\n",
    "```\n",
    "\n",
    "Flash Attention 2 only supports 16-bit data types, including FP16 and BF16."
   ]
  },
  {
   "cell_type": "code",
   "execution_count": null,
   "id": "80ba33d7",
   "metadata": {},
   "outputs": [],
   "source": [
    "# this cell will only work properly if your environment\n",
    "# supports Flash Attention 2, and it was installed\n",
    "model = AutoModelForCausalLM.from_pretrained(\"facebook/opt-350m\", \n",
    "                                             device_map='cuda:0',\n",
    "                                             torch_dtype=torch.bfloat16,\n",
    "                                             attn_implementation=\"flash_attention_2\")"
   ]
  },
  {
   "cell_type": "code",
   "execution_count": null,
   "id": "3f7c4255",
   "metadata": {},
   "outputs": [],
   "source": [
    "# this cell will only work properly if your environment\n",
    "# supports Flash Attention 2, and it was installed\n",
    "bnb_config = BitsAndBytesConfig(load_in_4bit=True)\n",
    "\n",
    "model = AutoModelForCausalLM.from_pretrained(\"facebook/opt-350m\", \n",
    "                                             device_map='cuda:0', \n",
    "                                             quantization_config=bnb_config, \n",
    "                                             attn_implementation=\"flash_attention_2\")"
   ]
  },
  {
   "cell_type": "markdown",
   "id": "6c6f85a5",
   "metadata": {},
   "source": [
    "You can use FP32, but you must train the model using mixed precision. We’ve discussed two configuration arguments for that: fp16 and bf16."
   ]
  },
  {
   "cell_type": "code",
   "execution_count": null,
   "id": "1f1f6f2d",
   "metadata": {},
   "outputs": [],
   "source": [
    "# this cell will only work properly if your environment\n",
    "# supports Flash Attention 2, and it was installed\n",
    "model = AutoModelForCausalLM.from_pretrained(\"facebook/opt-350m\", \n",
    "                                             device_map='cuda:0', \n",
    "                                             torch_dtype=torch.float32,\n",
    "                                             attn_implementation=\"flash_attention_2\")"
   ]
  },
  {
   "cell_type": "markdown",
   "id": "f8b8e439",
   "metadata": {},
   "source": [
    "```python\n",
    "sft_config = SFTConfig(\n",
    "    ...\n",
    "    # mixed precision\n",
    "    fp16=not torch.cuda.is_bf16_supported(),\n",
    "    bf16=torch.cuda.is_bf16_supported()\n",
    ")\n",
    "```\n",
    "\n",
    "****\n",
    "**Full BF16 Training**\n",
    "\n",
    "```python\n",
    "# !pip install torchao\n",
    "from torchao.prototype.low_bit_optim import _AdamW\n",
    "optim = _AdamW(model_bf16.parameters(), bf16_stochastic_round=True)\n",
    "```"
   ]
  },
  {
   "cell_type": "code",
   "execution_count": 206,
   "id": "89169d2e",
   "metadata": {},
   "outputs": [
    {
     "data": {
      "image/png": "[encoded data removed]",
      "text/plain": [
       "<Figure size 1000x400 with 2 Axes>"
      ]
     },
     "metadata": {},
     "output_type": "display_data"
    }
   ],
   "source": [
    "from matplotlib import pyplot as plt\n",
    "\n",
    "lr = 5e-3\n",
    "res = rounding_evolution(n_updates=10000, decimals=7, lr=lr)\n",
    "fig, axs = plt.subplots(1, 2, figsize=(10, 4))\n",
    "axs[0].plot(np.array(list(res[False].values())).T)\n",
    "axs[0].legend(res[False].keys(), title='Decimals')\n",
    "axs[0].set_title(f'LR={lr} - Truncating/Rounding Down')\n",
    "axs[0].set_ylabel('Weight')\n",
    "axs[0].set_xlabel('# Updates')\n",
    "axs[1].plot(np.array(list(res[True].values())).T)\n",
    "axs[1].legend(res[True].keys(), title='Decimals')\n",
    "axs[1].set_title(f'LR={lr} - Stochastic Rounding')\n",
    "axs[1].set_ylabel('Weight')\n",
    "axs[1].set_xlabel('# Updates')\n",
    "fig.tight_layout()"
   ]
  },
  {
   "cell_type": "code",
   "execution_count": 204,
   "id": "d51c7b17",
   "metadata": {},
   "outputs": [
    {
     "data": {
      "image/png": "[encoded data removed]",
      "text/plain": [
       "<Figure size 1000x400 with 2 Axes>"
      ]
     },
     "metadata": {},
     "output_type": "display_data"
    }
   ],
   "source": [
    "lr = 5e-5\n",
    "res = rounding_evolution(n_updates=100000, decimals=7, lr=lr)\n",
    "fig, axs = plt.subplots(1, 2, figsize=(10, 4))\n",
    "axs[0].plot(np.array(list(res[False].values())).T)\n",
    "axs[0].legend(res[False].keys(), title='Decimals')\n",
    "axs[0].set_title(f'LR={lr} - Truncating/Rounding Down')\n",
    "axs[0].set_ylabel('Weight')\n",
    "axs[0].set_xlabel('# Updates')\n",
    "axs[1].plot(np.array(list(res[True].values())).T)\n",
    "axs[1].legend(res[True].keys(), title='Decimals')\n",
    "axs[1].set_title(f'LR={lr} - Stochastic Rounding')\n",
    "axs[1].set_ylabel('Weight')\n",
    "axs[1].set_xlabel('# Updates')\n",
    "fig.tight_layout()"
   ]
  },
  {
   "cell_type": "markdown",
   "id": "d429a106",
   "metadata": {},
   "source": [
    "#### PyTorch's SDPA"
   ]
  },
  {
   "cell_type": "code",
   "execution_count": null,
   "id": "17144347",
   "metadata": {},
   "outputs": [],
   "source": [
    "model = AutoModelForCausalLM.from_pretrained(\"facebook/opt-350m\", \n",
    "                                             device_map='cuda:0',\n",
    "                                             attn_implementation=\"sdpa\")"
   ]
  },
  {
   "cell_type": "markdown",
   "id": "4b0004ad",
   "metadata": {},
   "source": [
    "#### Showdown"
   ]
  },
  {
   "cell_type": "code",
   "execution_count": null,
   "id": "e052e923",
   "metadata": {},
   "outputs": [],
   "source": [
    "# # Adapted from https://colab.research.google.com/drive/1_zuAiiBFoFWpexxeWsTS694tCSlMYydo\n",
    "def benchmark(model, inputs, n_iterations):\n",
    "    torch.cuda.reset_max_memory_allocated(device)\n",
    "    torch.cuda.reset_peak_memory_stats(device)\n",
    "    torch.cuda.empty_cache()\n",
    "    torch.cuda.synchronize()\n",
    "\n",
    "    start_event = torch.cuda.Event(enable_timing=True)\n",
    "    end_event = torch.cuda.Event(enable_timing=True)\n",
    "    start_event.record()\n",
    "\n",
    "    for _ in range(n_iterations):\n",
    "        _ = model(inputs)\n",
    "\n",
    "    end_event.record()\n",
    "    torch.cuda.synchronize()\n",
    "\n",
    "    max_memory = torch.cuda.max_memory_allocated(device)\n",
    "\n",
    "    return start_event.elapsed_time(end_event) / n_iterations, max_memory"
   ]
  },
  {
   "cell_type": "markdown",
   "id": "c530595a",
   "metadata": {},
   "source": [
    "We should restart the kernel after each run so that we can start from a clean slate."
   ]
  },
  {
   "cell_type": "code",
   "execution_count": 5,
   "id": "59c7858f",
   "metadata": {},
   "outputs": [
    {
     "data": {
      "text/plain": [
       "OPTAttention(\n",
       "  (k_proj): Linear(in_features=1024, out_features=1024, bias=True)\n",
       "  (v_proj): Linear(in_features=1024, out_features=1024, bias=True)\n",
       "  (q_proj): Linear(in_features=1024, out_features=1024, bias=True)\n",
       "  (out_proj): Linear(in_features=1024, out_features=1024, bias=True)\n",
       ")"
      ]
     },
     "execution_count": 5,
     "metadata": {},
     "output_type": "execute_result"
    }
   ],
   "source": [
    "repo_id = 'facebook/opt-350m'\n",
    "device = torch.device(\"cuda:0\")\n",
    "attn_implementation = ['eager', 'sdpa', 'flash_attention_2']\n",
    "# change it to switch to a different implementation\n",
    "i = 0 # runs eager attention\n",
    "# We load the model into the CPU because we're only interested\n",
    "# in loading the attention mechanism into the GPU\n",
    "model = AutoModelForCausalLM.from_pretrained(repo_id, device_map='cpu', \n",
    "                                     torch_dtype=torch.float16, \n",
    "                                     attn_implementation=attn_implementation[i])\n",
    "# Attention mechanism in the first layer\n",
    "attn = model.model.decoder.layers[0].self_attn\n",
    "attn"
   ]
  },
  {
   "cell_type": "code",
   "execution_count": 6,
   "id": "3953a5ac",
   "metadata": {},
   "outputs": [],
   "source": [
    "batch_size = 2\n",
    "sequence_length = 1024\n",
    "shape = (batch_size, sequence_length, model.config.hidden_size)\n",
    "inputs = torch.randn(shape, device=device).half()\n",
    "\n",
    "# warmup\n",
    "attn.to(device)\n",
    "_ = attn(inputs)"
   ]
  },
  {
   "cell_type": "code",
   "execution_count": null,
   "id": "2d5b395c",
   "metadata": {},
   "outputs": [],
   "source": [
    "benchmark(attn, inputs, 1000)"
   ]
  },
  {
   "cell_type": "markdown",
   "id": "b325b707",
   "metadata": {},
   "source": [
    "![](https://github.com/dvgodoy/FineTuningLLMs/blob/main/images/ch5/attn_comparison.png?raw=True)\n",
    "<center>Table 5.1 - Comparing the performance of attention’s implementations</center>"
   ]
  },
  {
   "cell_type": "markdown",
   "id": "65d5f251",
   "metadata": {},
   "source": [
    "### Studies, Ablation-Style"
   ]
  },
  {
   "cell_type": "markdown",
   "id": "fe60be88",
   "metadata": {},
   "source": [
    "![](https://github.com/dvgodoy/FineTuningLLMs/blob/main/images/ch5/mem_16_seq500.png?raw=True)\n",
    "\n",
    "<center>Table 5.2 - Peak memory usage for a 16-bit OPT-350M and sequence length of 500</center>"
   ]
  },
  {
   "cell_type": "markdown",
   "id": "598fadb4",
   "metadata": {},
   "source": [
    "![](https://github.com/dvgodoy/FineTuningLLMs/blob/main/images/ch5/mem_16_seq2k.png?raw=True)\n",
    "\n",
    "<center>Table 5.3 - Peak memory usage for a 16-bit OPT-350M and sequence length of 2,000</center>"
   ]
  },
  {
   "cell_type": "markdown",
   "id": "fff44466",
   "metadata": {},
   "source": [
    "![](https://github.com/dvgodoy/FineTuningLLMs/blob/main/images/ch5/mem_8_opt.png?raw=True)\n",
    "\n",
    "<center>Table 5.4 - Peak memory usage for a quantized OPT-350M</center>"
   ]
  },
  {
   "cell_type": "markdown",
   "id": "df3e21cc",
   "metadata": {},
   "source": [
    "![](https://github.com/dvgodoy/FineTuningLLMs/blob/main/images/ch5/mem_8_falcon.png?raw=True)\n",
    "<center>Table 5.5 - Peak memory usage for a quantized Falcon 7B</center>"
   ]
  },
  {
   "cell_type": "markdown",
   "id": "0f7f7077",
   "metadata": {},
   "source": [
    "### Coming Up in \"Fine-Tuning LLMs\"\n",
    "\n",
    "Trading compute for memory was one of the key ingredients that led to the successful fine-tuning of the LLMs. They learned how to converse and how to efficiently pay attention to every token they receive. They’re finally ready to be deployed in the real world, where they’ll face their biggest challenge yet: the end user’s environment. Deprived of their GPUs and relying on their wits and quantization alone, they’ll be put to the test. Stay tuned for the final chapter of \"Fine-Tuning LLMs.\""
   ]
  }
 ],
 "metadata": {
  "kernelspec": {
   "display_name": "Python 3 (ipykernel)",
   "language": "python",
   "name": "python3"
  },
  "language_info": {
   "codemirror_mode": {
    "name": "ipython",
    "version": 3
   },
   "file_extension": ".py",
   "mimetype": "text/x-python",
   "name": "python",
   "nbconvert_exporter": "python",
   "pygments_lexer": "ipython3",
   "version": "3.8.18"
  }
 },
 "nbformat": 4,
 "nbformat_minor": 5
}
