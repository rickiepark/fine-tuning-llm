{
 "cells": [
  {
   "cell_type": "markdown",
   "id": "3ba6801b",
   "metadata": {},
   "source": [
    "## Appendix B: Data Types' Internal Representation\n",
    "\n",
    "### Integer Numbers\n",
    "\n",
    "![](https://github.com/dvgodoy/FineTuningLLMs/blob/main/images/appendixB/uint8.png?raw=True)\n",
    "\n",
    "<center>Figure B.1 - Internal representation of an unsigned 8-bit integer (UINT8)</center>\n",
    "\n",
    "$$\n",
    "\\Large\n",
    "x = \\sum_{j=1}^{n_B}{b_j2^{j-1}}\n",
    "\\\\\n",
    "\\Large\n",
    "\\begin{aligned}\n",
    "&n_B = \\text{number of bits}\n",
    "\\\\\n",
    "&b_j = j^{\\text{th}}\\text {from right to left}\n",
    "\\end{aligned}\n",
    "$$\n",
    "\n",
    "<center>Equation B.1 - Formula for computing an unsigned integer value from its bits</center>"
   ]
  },
  {
   "cell_type": "code",
   "execution_count": 60,
   "id": "70b978ba",
   "metadata": {},
   "outputs": [],
   "source": [
    "def get_unsigned_number(bits):\n",
    "    number = sum([int(bit)*2**(j-1) for j, bit in enumerate(bits[::-1], start=1)])\n",
    "    return number"
   ]
  },
  {
   "cell_type": "code",
   "execution_count": 66,
   "id": "cee926e8",
   "metadata": {},
   "outputs": [
    {
     "data": {
      "text/plain": [
       "131"
      ]
     },
     "execution_count": 66,
     "metadata": {},
     "output_type": "execute_result"
    }
   ],
   "source": [
    "get_unsigned_number('10000011')"
   ]
  },
  {
   "cell_type": "code",
   "execution_count": 71,
   "id": "4cf7e98b",
   "metadata": {},
   "outputs": [
    {
     "data": {
      "text/plain": [
       "iinfo(min=0, max=255, dtype=uint8)"
      ]
     },
     "execution_count": 71,
     "metadata": {},
     "output_type": "execute_result"
    }
   ],
   "source": [
    "import torch\n",
    "torch.iinfo(torch.uint8)"
   ]
  },
  {
   "cell_type": "markdown",
   "id": "8a3a75b4",
   "metadata": {},
   "source": [
    "![](https://github.com/dvgodoy/FineTuningLLMs/blob/main/images/appendixB/int8.png?raw=True)\n",
    "<center>Figure B.3 - Internal representation of a signed 8-bit integer (INT8)</center>\n",
    "\n",
    "![](https://github.com/dvgodoy/FineTuningLLMs/blob/main/images/appendixB/int8_example.png?raw=True)\n",
    "<center>Figure B.4 - Example of signed integer value and its bits</center>"
   ]
  },
  {
   "cell_type": "markdown",
   "id": "3de49d0d",
   "metadata": {},
   "source": [
    "$$\n",
    "\\Large\n",
    "x = -b_{n_B}2^{n_B-1}+\\sum_{j=1}^{n_B-1}{b_j2^{j-1}}\n",
    "\\\\\n",
    "\\Large\n",
    "\\begin{aligned}\n",
    "&n_B = \\text{number of bits}\n",
    "\\\\\n",
    "&b_j = j^{\\text{th}}\\text {from right to left}\n",
    "\\\\\n",
    "&b_{n_B} = \\text{left-most bit}\n",
    "\\end{aligned}\n",
    "$$\n",
    "\n",
    "<center>Equation B.2 - Formula for computing a signed integer value from its bits</center>"
   ]
  },
  {
   "cell_type": "code",
   "execution_count": 110,
   "id": "df5e6860",
   "metadata": {},
   "outputs": [],
   "source": [
    "def get_number(bits, signed=True):\n",
    "    nb = len(bits)\n",
    "    sign = -signed*2**(nb-1)\n",
    "    number = sum([int(bit)*2**(j-1) for j, bit in enumerate(bits[signed:][::-1], start=1)])\n",
    "    return sign + number"
   ]
  },
  {
   "cell_type": "code",
   "execution_count": 114,
   "id": "06074590",
   "metadata": {},
   "outputs": [
    {
     "data": {
      "text/plain": [
       "-125"
      ]
     },
     "execution_count": 114,
     "metadata": {},
     "output_type": "execute_result"
    }
   ],
   "source": [
    "get_number('10000011', signed=True)"
   ]
  },
  {
   "cell_type": "code",
   "execution_count": 115,
   "id": "07f84984",
   "metadata": {},
   "outputs": [
    {
     "data": {
      "text/plain": [
       "'10000011'"
      ]
     },
     "execution_count": 115,
     "metadata": {},
     "output_type": "execute_result"
    }
   ],
   "source": [
    "import numpy as np\n",
    "np.binary_repr(-125, width=8)"
   ]
  },
  {
   "cell_type": "code",
   "execution_count": 73,
   "id": "ff714444",
   "metadata": {},
   "outputs": [
    {
     "data": {
      "text/plain": [
       "iinfo(min=-128, max=127, dtype=int8)"
      ]
     },
     "execution_count": 73,
     "metadata": {},
     "output_type": "execute_result"
    }
   ],
   "source": [
    "torch.iinfo(torch.int8)"
   ]
  },
  {
   "cell_type": "markdown",
   "id": "aa2b7fc0",
   "metadata": {},
   "source": [
    "### Floating Point Numbers\n",
    "\n",
    "$$\n",
    "\\Large\n",
    "\\text{FP} = \\underbrace{-1^S}_{\\text{sign}}\\underbrace{2^x}_{\\text{exponent}}\\underbrace{(1.0 + f)}_{\\text{mantissa}}\n",
    "$$\n",
    "<center>Equation B.3 - Computing a floating-point number from its sign, mantissa, and exponent</center>"
   ]
  },
  {
   "cell_type": "code",
   "execution_count": 60,
   "id": "7c3c7aee",
   "metadata": {},
   "outputs": [],
   "source": [
    "def to_fp(s, x, f):\n",
    "    return (-1)**s * 2**x * (1 + f)"
   ]
  },
  {
   "cell_type": "code",
   "execution_count": 33,
   "id": "3ffe376d",
   "metadata": {},
   "outputs": [
    {
     "name": "stdout",
     "output_type": "stream",
     "text": [
      "0.5\n",
      "0.00390625\n"
     ]
    }
   ],
   "source": [
    "f_cte = 0\n",
    "print(to_fp(s=0, x=-1, f=f_cte)) # = 1*(2**-1)*(1+0)\n",
    "print(to_fp(s=0, x=-8, f=f_cte)) # = 1*(2**-8)*(1+0)"
   ]
  },
  {
   "cell_type": "code",
   "execution_count": 35,
   "id": "79c6f39b",
   "metadata": {},
   "outputs": [
    {
     "name": "stdout",
     "output_type": "stream",
     "text": [
      "0.5\n",
      "0.75\n",
      "0.99995\n"
     ]
    }
   ],
   "source": [
    "x_cte = -1\n",
    "print(to_fp(s=0, x=x_cte, f=0)) # = 1*(2**-1)*(1+0)\n",
    "print(to_fp(s=0, x=x_cte, f=.5))# = 1*(2**-1)*(1+.5)\n",
    "print(to_fp(s=0, x=x_cte, f=.9999))# = 1*(2**-1)*(1+.99)"
   ]
  },
  {
   "cell_type": "code",
   "execution_count": 40,
   "id": "e11d7b99",
   "metadata": {},
   "outputs": [
    {
     "name": "stdout",
     "output_type": "stream",
     "text": [
      "1\n"
     ]
    }
   ],
   "source": [
    "new_x_cte = x_cte + 1\n",
    "print(to_fp(s=0, x=new_x_cte, f=0))# = 1*(2**0)*(1+0)"
   ]
  },
  {
   "cell_type": "code",
   "execution_count": 44,
   "id": "6d7106ed",
   "metadata": {},
   "outputs": [
    {
     "name": "stdout",
     "output_type": "stream",
     "text": [
      "6.2\n",
      "36.8\n",
      "384.0\n"
     ]
    }
   ],
   "source": [
    "print(to_fp(s=0, x=2, f=.55))# = 1*(2**2)*(1+.55)\n",
    "print(to_fp(s=0, x=5, f=.15))# = 1*(2**5)*(1+.15)\n",
    "print(to_fp(s=0, x=8, f=.5))# = 1*(2**8)*(1+.5)"
   ]
  },
  {
   "cell_type": "markdown",
   "id": "92cd7b2d",
   "metadata": {},
   "source": [
    "![](https://github.com/dvgodoy/FineTuningLLMs/blob/main/images/appendixB/bf16_example.png?raw=True)\n",
    "<center>Figure B.5 - Example of sign, exponent, and mantissa, and their bits</center>"
   ]
  },
  {
   "cell_type": "markdown",
   "id": "a40289e9",
   "metadata": {},
   "source": [
    "$$\n",
    "\\Large\n",
    "f = \\sum_{i=1}^{n_M}{m_i2^{-i}}\n",
    "\\\\\n",
    "\\Large\n",
    "x = \\left(\\sum_{j=1}^{n_E}{e_j2^{j-1}}\\right) - b\n",
    "\\\\\n",
    "\\Large\n",
    "b = 2^{n_E-1}-1\n",
    "\\\\\n",
    "\\Large\n",
    "\\begin{aligned}\n",
    "&n_M = \\text{number of bits in the mantissa}\n",
    "\\\\\n",
    "&m_i = i^{\\text{th}}\\text{ bit from left to right in the mantissa}\n",
    "\\\\\n",
    "&n_E = \\text{number of bits in the exponent}\n",
    "\\\\\n",
    "&e_j = j^{\\text{th}}\\text {from right to left in the exponent}\n",
    "\\end{aligned}\n",
    "$$\n",
    "<center>Equation B.4 - Formula for computing f and x from the bits in the mantissa and the exponent</center>"
   ]
  },
  {
   "cell_type": "code",
   "execution_count": 69,
   "id": "4d54740e",
   "metadata": {},
   "outputs": [],
   "source": [
    "def get_x(exponent):\n",
    "    bias = 2**(len(exponent)-1)-1\n",
    "    return sum([int(bit)*2**(j-1) for j, bit in enumerate(exponent[::-1], start=1)]) - bias\n",
    "\n",
    "def get_f(mantissa):\n",
    "    return sum([int(bit)*2**(-i) for i, bit in enumerate(mantissa, start=1)])"
   ]
  },
  {
   "cell_type": "code",
   "execution_count": 76,
   "id": "fdfd229b",
   "metadata": {},
   "outputs": [
    {
     "data": {
      "text/plain": [
       "4"
      ]
     },
     "execution_count": 76,
     "metadata": {},
     "output_type": "execute_result"
    }
   ],
   "source": [
    "exponent = '10000011'\n",
    "x = get_x(exponent)\n",
    "x"
   ]
  },
  {
   "cell_type": "code",
   "execution_count": 71,
   "id": "d07d908a",
   "metadata": {},
   "outputs": [
    {
     "data": {
      "text/plain": [
       "0.4609375"
      ]
     },
     "execution_count": 71,
     "metadata": {},
     "output_type": "execute_result"
    }
   ],
   "source": [
    "mantissa = '0111011'\n",
    "f = get_f(mantissa)\n",
    "f"
   ]
  },
  {
   "cell_type": "code",
   "execution_count": 72,
   "id": "8a2984e6",
   "metadata": {},
   "outputs": [
    {
     "data": {
      "text/plain": [
       "0.4609375"
      ]
     },
     "execution_count": 72,
     "metadata": {},
     "output_type": "execute_result"
    }
   ],
   "source": [
    "mantissa = '011101100000'\n",
    "get_f(mantissa)"
   ]
  },
  {
   "cell_type": "code",
   "execution_count": 75,
   "id": "22e5c3c5",
   "metadata": {},
   "outputs": [
    {
     "data": {
      "text/plain": [
       "23.375"
      ]
     },
     "execution_count": 75,
     "metadata": {},
     "output_type": "execute_result"
    }
   ],
   "source": [
    "to_fp(0, x, f)"
   ]
  },
  {
   "cell_type": "markdown",
   "id": "32e6e674",
   "metadata": {},
   "source": [
    "![](https://github.com/dvgodoy/FineTuningLLMs/blob/main/images/appendixB/bf16_diagram.png?raw=True)\n",
    "<center>Figure B.6 - Internal representation of the BF16 data type</center>"
   ]
  },
  {
   "cell_type": "markdown",
   "id": "1b4e363e",
   "metadata": {},
   "source": [
    "$$\n",
    "\\Large\n",
    "\\text{BF16} = -1^S \\left(1.0 + \\sum_{i=1}^{7}{m_i2^{-i}}\\right) 2^{\\left(\\sum_{j=1}^{8}{e_j2^{j-1}}\\right)-127}\n",
    "$$\n",
    "<center>Equation B.5 - Formula for computing a BF16 value from its bits</center>"
   ]
  },
  {
   "cell_type": "markdown",
   "id": "19705ed4",
   "metadata": {},
   "source": [
    "![](https://github.com/dvgodoy/FineTuningLLMs/blob/main/images/appendixB/types_comparison.png?raw=True)\n",
    "<center>Figure B.7 - Comparing the internal representations of FP32, BF16, and FP16</center>"
   ]
  },
  {
   "cell_type": "code",
   "execution_count": 58,
   "id": "332970ba",
   "metadata": {},
   "outputs": [
    {
     "data": {
      "text/plain": [
       "{'sign': '0', 'exponent': '10000011', 'mantissa': '01110110000000000000000'}"
      ]
     },
     "execution_count": 58,
     "metadata": {},
     "output_type": "execute_result"
    }
   ],
   "source": [
    "# Adapted from https://stackoverflow.com/questions/16444726/binary-representation-of-float-in-python-bits-not-hex  \n",
    "import struct\n",
    "\n",
    "def binary_fp32(num):\n",
    "    bits = ''.join('{:0>8b}'.format(c) for c in struct.pack('!f', num))\n",
    "    sign = bits[0]\n",
    "    exponent = bits[1:9]\n",
    "    mantissa = bits[9:]\n",
    "    return {'sign': sign, 'exponent': exponent, 'mantissa': mantissa}\n",
    "\n",
    "bits = binary_fp32(23.375)\n",
    "bits"
   ]
  },
  {
   "cell_type": "code",
   "execution_count": 59,
   "id": "bfaef491",
   "metadata": {},
   "outputs": [
    {
     "data": {
      "text/plain": [
       "23.375"
      ]
     },
     "execution_count": 59,
     "metadata": {},
     "output_type": "execute_result"
    }
   ],
   "source": [
    "s = int(bits['sign'])\n",
    "f = get_f(bits['mantissa'])\n",
    "x = get_x(bits['exponent'])\n",
    "to_fp(s, x, f)"
   ]
  }
 ],
 "metadata": {
  "kernelspec": {
   "display_name": "Python 3 (ipykernel)",
   "language": "python",
   "name": "python3"
  },
  "language_info": {
   "codemirror_mode": {
    "name": "ipython",
    "version": 3
   },
   "file_extension": ".py",
   "mimetype": "text/x-python",
   "name": "python",
   "nbconvert_exporter": "python",
   "pygments_lexer": "ipython3",
   "version": "3.8.18"
  }
 },
 "nbformat": 4,
 "nbformat_minor": 5
}
