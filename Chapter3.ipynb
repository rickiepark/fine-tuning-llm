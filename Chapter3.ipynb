{
  "cells": [
    {
      "cell_type": "markdown",
      "metadata": {
        "id": "view-in-github",
        "colab_type": "text"
      },
      "source": [
        "<a href=\"https://colab.research.google.com/github/rickiepark/fine-tuning-llm/blob/main/Chapter3.ipynb\" target=\"_parent\"><img src=\"https://colab.research.google.com/assets/colab-badge.svg\" alt=\"Open In Colab\"/></a>"
      ]
    },
    {
      "cell_type": "markdown",
      "id": "d578ad67",
      "metadata": {
        "id": "d578ad67"
      },
      "source": [
        "## Chapter 3: Low-Rank Adaptation (LoRA)"
      ]
    },
    {
      "cell_type": "markdown",
      "id": "9090ae39",
      "metadata": {
        "id": "9090ae39"
      },
      "source": [
        "### Spoilers\n",
        "\n",
        "In this chapter, we will:\n",
        "\n",
        "- Understand what a low-rank adapter is and why it’s useful\n",
        "- Prepare the quantized model for training\n",
        "- Use `peft` to create and attach adapters to a base model\n",
        "- Discuss configuration options for targeting layers for training"
      ]
    },
    {
      "cell_type": "markdown",
      "id": "b56b9edf",
      "metadata": {
        "id": "b56b9edf"
      },
      "source": [
        "### Setup"
      ]
    },
    {
      "cell_type": "code",
      "execution_count": 1,
      "id": "b6d9b772",
      "metadata": {
        "colab": {
          "base_uri": "https://localhost:8080/"
        },
        "id": "b6d9b772",
        "outputId": "e354f7c1-8e62-49e7-b909-ee3c04d83eef"
      },
      "outputs": [
        {
          "output_type": "stream",
          "name": "stdout",
          "text": [
            "Requirement already satisfied: datasets in /usr/local/lib/python3.11/dist-packages (2.14.4)\n",
            "Collecting bitsandbytes\n",
            "  Downloading bitsandbytes-0.46.1-py3-none-manylinux_2_24_x86_64.whl.metadata (10 kB)\n",
            "Collecting trl\n",
            "  Downloading trl-0.19.1-py3-none-any.whl.metadata (10 kB)\n",
            "Requirement already satisfied: numpy>=1.17 in /usr/local/lib/python3.11/dist-packages (from datasets) (2.0.2)\n",
            "Requirement already satisfied: pyarrow>=8.0.0 in /usr/local/lib/python3.11/dist-packages (from datasets) (18.1.0)\n",
            "Requirement already satisfied: dill<0.3.8,>=0.3.0 in /usr/local/lib/python3.11/dist-packages (from datasets) (0.3.7)\n",
            "Requirement already satisfied: pandas in /usr/local/lib/python3.11/dist-packages (from datasets) (2.2.2)\n",
            "Requirement already satisfied: requests>=2.19.0 in /usr/local/lib/python3.11/dist-packages (from datasets) (2.32.3)\n",
            "Requirement already satisfied: tqdm>=4.62.1 in /usr/local/lib/python3.11/dist-packages (from datasets) (4.67.1)\n",
            "Requirement already satisfied: xxhash in /usr/local/lib/python3.11/dist-packages (from datasets) (3.5.0)\n",
            "Requirement already satisfied: multiprocess in /usr/local/lib/python3.11/dist-packages (from datasets) (0.70.15)\n",
            "Requirement already satisfied: fsspec>=2021.11.1 in /usr/local/lib/python3.11/dist-packages (from fsspec[http]>=2021.11.1->datasets) (2025.3.2)\n",
            "Requirement already satisfied: aiohttp in /usr/local/lib/python3.11/dist-packages (from datasets) (3.11.15)\n",
            "Requirement already satisfied: huggingface-hub<1.0.0,>=0.14.0 in /usr/local/lib/python3.11/dist-packages (from datasets) (0.33.4)\n",
            "Requirement already satisfied: packaging in /usr/local/lib/python3.11/dist-packages (from datasets) (25.0)\n",
            "Requirement already satisfied: pyyaml>=5.1 in /usr/local/lib/python3.11/dist-packages (from datasets) (6.0.2)\n",
            "Requirement already satisfied: torch<3,>=2.2 in /usr/local/lib/python3.11/dist-packages (from bitsandbytes) (2.6.0+cu124)\n",
            "Requirement already satisfied: accelerate>=1.4.0 in /usr/local/lib/python3.11/dist-packages (from trl) (1.9.0)\n",
            "Collecting datasets\n",
            "  Downloading datasets-4.0.0-py3-none-any.whl.metadata (19 kB)\n",
            "Requirement already satisfied: transformers>=4.51.0 in /usr/local/lib/python3.11/dist-packages (from trl) (4.53.2)\n",
            "Requirement already satisfied: filelock in /usr/local/lib/python3.11/dist-packages (from datasets) (3.18.0)\n",
            "Collecting fsspec<=2025.3.0,>=2023.1.0 (from fsspec[http]<=2025.3.0,>=2023.1.0->datasets)\n",
            "  Downloading fsspec-2025.3.0-py3-none-any.whl.metadata (11 kB)\n",
            "Requirement already satisfied: psutil in /usr/local/lib/python3.11/dist-packages (from accelerate>=1.4.0->trl) (5.9.5)\n",
            "Requirement already satisfied: safetensors>=0.4.3 in /usr/local/lib/python3.11/dist-packages (from accelerate>=1.4.0->trl) (0.5.3)\n",
            "Requirement already satisfied: typing-extensions>=3.7.4.3 in /usr/local/lib/python3.11/dist-packages (from huggingface-hub<1.0.0,>=0.14.0->datasets) (4.14.1)\n",
            "Requirement already satisfied: hf-xet<2.0.0,>=1.1.2 in /usr/local/lib/python3.11/dist-packages (from huggingface-hub<1.0.0,>=0.14.0->datasets) (1.1.5)\n",
            "Requirement already satisfied: charset-normalizer<4,>=2 in /usr/local/lib/python3.11/dist-packages (from requests>=2.19.0->datasets) (3.4.2)\n",
            "Requirement already satisfied: idna<4,>=2.5 in /usr/local/lib/python3.11/dist-packages (from requests>=2.19.0->datasets) (3.10)\n",
            "Requirement already satisfied: urllib3<3,>=1.21.1 in /usr/local/lib/python3.11/dist-packages (from requests>=2.19.0->datasets) (2.4.0)\n",
            "Requirement already satisfied: certifi>=2017.4.17 in /usr/local/lib/python3.11/dist-packages (from requests>=2.19.0->datasets) (2025.7.14)\n",
            "Requirement already satisfied: networkx in /usr/local/lib/python3.11/dist-packages (from torch<3,>=2.2->bitsandbytes) (3.5)\n",
            "Requirement already satisfied: jinja2 in /usr/local/lib/python3.11/dist-packages (from torch<3,>=2.2->bitsandbytes) (3.1.6)\n",
            "Collecting nvidia-cuda-nvrtc-cu12==12.4.127 (from torch<3,>=2.2->bitsandbytes)\n",
            "  Downloading nvidia_cuda_nvrtc_cu12-12.4.127-py3-none-manylinux2014_x86_64.whl.metadata (1.5 kB)\n",
            "Collecting nvidia-cuda-runtime-cu12==12.4.127 (from torch<3,>=2.2->bitsandbytes)\n",
            "  Downloading nvidia_cuda_runtime_cu12-12.4.127-py3-none-manylinux2014_x86_64.whl.metadata (1.5 kB)\n",
            "Collecting nvidia-cuda-cupti-cu12==12.4.127 (from torch<3,>=2.2->bitsandbytes)\n",
            "  Downloading nvidia_cuda_cupti_cu12-12.4.127-py3-none-manylinux2014_x86_64.whl.metadata (1.6 kB)\n",
            "Collecting nvidia-cudnn-cu12==9.1.0.70 (from torch<3,>=2.2->bitsandbytes)\n",
            "  Downloading nvidia_cudnn_cu12-9.1.0.70-py3-none-manylinux2014_x86_64.whl.metadata (1.6 kB)\n",
            "Collecting nvidia-cublas-cu12==12.4.5.8 (from torch<3,>=2.2->bitsandbytes)\n",
            "  Downloading nvidia_cublas_cu12-12.4.5.8-py3-none-manylinux2014_x86_64.whl.metadata (1.5 kB)\n",
            "Collecting nvidia-cufft-cu12==11.2.1.3 (from torch<3,>=2.2->bitsandbytes)\n",
            "  Downloading nvidia_cufft_cu12-11.2.1.3-py3-none-manylinux2014_x86_64.whl.metadata (1.5 kB)\n",
            "Collecting nvidia-curand-cu12==10.3.5.147 (from torch<3,>=2.2->bitsandbytes)\n",
            "  Downloading nvidia_curand_cu12-10.3.5.147-py3-none-manylinux2014_x86_64.whl.metadata (1.5 kB)\n",
            "Collecting nvidia-cusolver-cu12==11.6.1.9 (from torch<3,>=2.2->bitsandbytes)\n",
            "  Downloading nvidia_cusolver_cu12-11.6.1.9-py3-none-manylinux2014_x86_64.whl.metadata (1.6 kB)\n",
            "Collecting nvidia-cusparse-cu12==12.3.1.170 (from torch<3,>=2.2->bitsandbytes)\n",
            "  Downloading nvidia_cusparse_cu12-12.3.1.170-py3-none-manylinux2014_x86_64.whl.metadata (1.6 kB)\n",
            "Requirement already satisfied: nvidia-cusparselt-cu12==0.6.2 in /usr/local/lib/python3.11/dist-packages (from torch<3,>=2.2->bitsandbytes) (0.6.2)\n",
            "Requirement already satisfied: nvidia-nccl-cu12==2.21.5 in /usr/local/lib/python3.11/dist-packages (from torch<3,>=2.2->bitsandbytes) (2.21.5)\n",
            "Requirement already satisfied: nvidia-nvtx-cu12==12.4.127 in /usr/local/lib/python3.11/dist-packages (from torch<3,>=2.2->bitsandbytes) (12.4.127)\n",
            "Collecting nvidia-nvjitlink-cu12==12.4.127 (from torch<3,>=2.2->bitsandbytes)\n",
            "  Downloading nvidia_nvjitlink_cu12-12.4.127-py3-none-manylinux2014_x86_64.whl.metadata (1.5 kB)\n",
            "Requirement already satisfied: triton==3.2.0 in /usr/local/lib/python3.11/dist-packages (from torch<3,>=2.2->bitsandbytes) (3.2.0)\n",
            "Requirement already satisfied: sympy==1.13.1 in /usr/local/lib/python3.11/dist-packages (from torch<3,>=2.2->bitsandbytes) (1.13.1)\n",
            "Requirement already satisfied: mpmath<1.4,>=1.1.0 in /usr/local/lib/python3.11/dist-packages (from sympy==1.13.1->torch<3,>=2.2->bitsandbytes) (1.3.0)\n",
            "Requirement already satisfied: regex!=2019.12.17 in /usr/local/lib/python3.11/dist-packages (from transformers>=4.51.0->trl) (2024.11.6)\n",
            "Requirement already satisfied: tokenizers<0.22,>=0.21 in /usr/local/lib/python3.11/dist-packages (from transformers>=4.51.0->trl) (0.21.2)\n",
            "Requirement already satisfied: python-dateutil>=2.8.2 in /usr/local/lib/python3.11/dist-packages (from pandas->datasets) (2.9.0.post0)\n",
            "Requirement already satisfied: pytz>=2020.1 in /usr/local/lib/python3.11/dist-packages (from pandas->datasets) (2025.2)\n",
            "Requirement already satisfied: tzdata>=2022.7 in /usr/local/lib/python3.11/dist-packages (from pandas->datasets) (2025.2)\n",
            "Requirement already satisfied: aiohappyeyeballs>=2.3.0 in /usr/local/lib/python3.11/dist-packages (from aiohttp->datasets) (2.6.1)\n",
            "Requirement already satisfied: aiosignal>=1.1.2 in /usr/local/lib/python3.11/dist-packages (from aiohttp->datasets) (1.4.0)\n",
            "Requirement already satisfied: attrs>=17.3.0 in /usr/local/lib/python3.11/dist-packages (from aiohttp->datasets) (25.3.0)\n",
            "Requirement already satisfied: frozenlist>=1.1.1 in /usr/local/lib/python3.11/dist-packages (from aiohttp->datasets) (1.7.0)\n",
            "Requirement already satisfied: multidict<7.0,>=4.5 in /usr/local/lib/python3.11/dist-packages (from aiohttp->datasets) (6.6.3)\n",
            "Requirement already satisfied: propcache>=0.2.0 in /usr/local/lib/python3.11/dist-packages (from aiohttp->datasets) (0.3.2)\n",
            "Requirement already satisfied: yarl<2.0,>=1.17.0 in /usr/local/lib/python3.11/dist-packages (from aiohttp->datasets) (1.20.1)\n",
            "Requirement already satisfied: six>=1.5 in /usr/local/lib/python3.11/dist-packages (from python-dateutil>=2.8.2->pandas->datasets) (1.17.0)\n",
            "Requirement already satisfied: MarkupSafe>=2.0 in /usr/local/lib/python3.11/dist-packages (from jinja2->torch<3,>=2.2->bitsandbytes) (3.0.2)\n",
            "Downloading bitsandbytes-0.46.1-py3-none-manylinux_2_24_x86_64.whl (72.9 MB)\n",
            "\u001b[2K   \u001b[90m━━━━━━━━━━━━━━━━━━━━━━━━━━━━━━━━━━━━━━━━\u001b[0m \u001b[32m72.9/72.9 MB\u001b[0m \u001b[31m9.9 MB/s\u001b[0m eta \u001b[36m0:00:00\u001b[0m\n",
            "\u001b[?25hDownloading trl-0.19.1-py3-none-any.whl (376 kB)\n",
            "\u001b[2K   \u001b[90m━━━━━━━━━━━━━━━━━━━━━━━━━━━━━━━━━━━━━━━━\u001b[0m \u001b[32m376.2/376.2 kB\u001b[0m \u001b[31m25.4 MB/s\u001b[0m eta \u001b[36m0:00:00\u001b[0m\n",
            "\u001b[?25hDownloading datasets-4.0.0-py3-none-any.whl (494 kB)\n",
            "\u001b[2K   \u001b[90m━━━━━━━━━━━━━━━━━━━━━━━━━━━━━━━━━━━━━━━━\u001b[0m \u001b[32m494.8/494.8 kB\u001b[0m \u001b[31m36.7 MB/s\u001b[0m eta \u001b[36m0:00:00\u001b[0m\n",
            "\u001b[?25hDownloading fsspec-2025.3.0-py3-none-any.whl (193 kB)\n",
            "\u001b[2K   \u001b[90m━━━━━━━━━━━━━━━━━━━━━━━━━━━━━━━━━━━━━━━━\u001b[0m \u001b[32m193.6/193.6 kB\u001b[0m \u001b[31m17.7 MB/s\u001b[0m eta \u001b[36m0:00:00\u001b[0m\n",
            "\u001b[?25hDownloading nvidia_cublas_cu12-12.4.5.8-py3-none-manylinux2014_x86_64.whl (363.4 MB)\n",
            "\u001b[2K   \u001b[90m━━━━━━━━━━━━━━━━━━━━━━━━━━━━━━━━━━━━━━━━\u001b[0m \u001b[32m363.4/363.4 MB\u001b[0m \u001b[31m4.4 MB/s\u001b[0m eta \u001b[36m0:00:00\u001b[0m\n",
            "\u001b[?25hDownloading nvidia_cuda_cupti_cu12-12.4.127-py3-none-manylinux2014_x86_64.whl (13.8 MB)\n",
            "\u001b[2K   \u001b[90m━━━━━━━━━━━━━━━━━━━━━━━━━━━━━━━━━━━━━━━━\u001b[0m \u001b[32m13.8/13.8 MB\u001b[0m \u001b[31m51.3 MB/s\u001b[0m eta \u001b[36m0:00:00\u001b[0m\n",
            "\u001b[?25hDownloading nvidia_cuda_nvrtc_cu12-12.4.127-py3-none-manylinux2014_x86_64.whl (24.6 MB)\n",
            "\u001b[2K   \u001b[90m━━━━━━━━━━━━━━━━━━━━━━━━━━━━━━━━━━━━━━━━\u001b[0m \u001b[32m24.6/24.6 MB\u001b[0m \u001b[31m32.7 MB/s\u001b[0m eta \u001b[36m0:00:00\u001b[0m\n",
            "\u001b[?25hDownloading nvidia_cuda_runtime_cu12-12.4.127-py3-none-manylinux2014_x86_64.whl (883 kB)\n",
            "\u001b[2K   \u001b[90m━━━━━━━━━━━━━━━━━━━━━━━━━━━━━━━━━━━━━━━━\u001b[0m \u001b[32m883.7/883.7 kB\u001b[0m \u001b[31m51.4 MB/s\u001b[0m eta \u001b[36m0:00:00\u001b[0m\n",
            "\u001b[?25hDownloading nvidia_cudnn_cu12-9.1.0.70-py3-none-manylinux2014_x86_64.whl (664.8 MB)\n",
            "\u001b[2K   \u001b[90m━━━━━━━━━━━━━━━━━━━━━━━━━━━━━━━━━━━━━━━━\u001b[0m \u001b[32m664.8/664.8 MB\u001b[0m \u001b[31m1.5 MB/s\u001b[0m eta \u001b[36m0:00:00\u001b[0m\n",
            "\u001b[?25hDownloading nvidia_cufft_cu12-11.2.1.3-py3-none-manylinux2014_x86_64.whl (211.5 MB)\n",
            "\u001b[2K   \u001b[90m━━━━━━━━━━━━━━━━━━━━━━━━━━━━━━━━━━━━━━━━\u001b[0m \u001b[32m211.5/211.5 MB\u001b[0m \u001b[31m7.0 MB/s\u001b[0m eta \u001b[36m0:00:00\u001b[0m\n",
            "\u001b[?25hDownloading nvidia_curand_cu12-10.3.5.147-py3-none-manylinux2014_x86_64.whl (56.3 MB)\n",
            "\u001b[2K   \u001b[90m━━━━━━━━━━━━━━━━━━━━━━━━━━━━━━━━━━━━━━━━\u001b[0m \u001b[32m56.3/56.3 MB\u001b[0m \u001b[31m13.7 MB/s\u001b[0m eta \u001b[36m0:00:00\u001b[0m\n",
            "\u001b[?25hDownloading nvidia_cusolver_cu12-11.6.1.9-py3-none-manylinux2014_x86_64.whl (127.9 MB)\n",
            "\u001b[2K   \u001b[90m━━━━━━━━━━━━━━━━━━━━━━━━━━━━━━━━━━━━━━━━\u001b[0m \u001b[32m127.9/127.9 MB\u001b[0m \u001b[31m7.6 MB/s\u001b[0m eta \u001b[36m0:00:00\u001b[0m\n",
            "\u001b[?25hDownloading nvidia_cusparse_cu12-12.3.1.170-py3-none-manylinux2014_x86_64.whl (207.5 MB)\n",
            "\u001b[2K   \u001b[90m━━━━━━━━━━━━━━━━━━━━━━━━━━━━━━━━━━━━━━━━\u001b[0m \u001b[32m207.5/207.5 MB\u001b[0m \u001b[31m2.0 MB/s\u001b[0m eta \u001b[36m0:00:00\u001b[0m\n",
            "\u001b[?25hDownloading nvidia_nvjitlink_cu12-12.4.127-py3-none-manylinux2014_x86_64.whl (21.1 MB)\n",
            "\u001b[2K   \u001b[90m━━━━━━━━━━━━━━━━━━━━━━━━━━━━━━━━━━━━━━━━\u001b[0m \u001b[32m21.1/21.1 MB\u001b[0m \u001b[31m46.2 MB/s\u001b[0m eta \u001b[36m0:00:00\u001b[0m\n",
            "\u001b[?25hInstalling collected packages: nvidia-nvjitlink-cu12, nvidia-curand-cu12, nvidia-cufft-cu12, nvidia-cuda-runtime-cu12, nvidia-cuda-nvrtc-cu12, nvidia-cuda-cupti-cu12, nvidia-cublas-cu12, fsspec, nvidia-cusparse-cu12, nvidia-cudnn-cu12, nvidia-cusolver-cu12, datasets, bitsandbytes, trl\n",
            "  Attempting uninstall: nvidia-nvjitlink-cu12\n",
            "    Found existing installation: nvidia-nvjitlink-cu12 12.5.82\n",
            "    Uninstalling nvidia-nvjitlink-cu12-12.5.82:\n",
            "      Successfully uninstalled nvidia-nvjitlink-cu12-12.5.82\n",
            "  Attempting uninstall: nvidia-curand-cu12\n",
            "    Found existing installation: nvidia-curand-cu12 10.3.6.82\n",
            "    Uninstalling nvidia-curand-cu12-10.3.6.82:\n",
            "      Successfully uninstalled nvidia-curand-cu12-10.3.6.82\n",
            "  Attempting uninstall: nvidia-cufft-cu12\n",
            "    Found existing installation: nvidia-cufft-cu12 11.2.3.61\n",
            "    Uninstalling nvidia-cufft-cu12-11.2.3.61:\n",
            "      Successfully uninstalled nvidia-cufft-cu12-11.2.3.61\n",
            "  Attempting uninstall: nvidia-cuda-runtime-cu12\n",
            "    Found existing installation: nvidia-cuda-runtime-cu12 12.5.82\n",
            "    Uninstalling nvidia-cuda-runtime-cu12-12.5.82:\n",
            "      Successfully uninstalled nvidia-cuda-runtime-cu12-12.5.82\n",
            "  Attempting uninstall: nvidia-cuda-nvrtc-cu12\n",
            "    Found existing installation: nvidia-cuda-nvrtc-cu12 12.5.82\n",
            "    Uninstalling nvidia-cuda-nvrtc-cu12-12.5.82:\n",
            "      Successfully uninstalled nvidia-cuda-nvrtc-cu12-12.5.82\n",
            "  Attempting uninstall: nvidia-cuda-cupti-cu12\n",
            "    Found existing installation: nvidia-cuda-cupti-cu12 12.5.82\n",
            "    Uninstalling nvidia-cuda-cupti-cu12-12.5.82:\n",
            "      Successfully uninstalled nvidia-cuda-cupti-cu12-12.5.82\n",
            "  Attempting uninstall: nvidia-cublas-cu12\n",
            "    Found existing installation: nvidia-cublas-cu12 12.5.3.2\n",
            "    Uninstalling nvidia-cublas-cu12-12.5.3.2:\n",
            "      Successfully uninstalled nvidia-cublas-cu12-12.5.3.2\n",
            "  Attempting uninstall: fsspec\n",
            "    Found existing installation: fsspec 2025.3.2\n",
            "    Uninstalling fsspec-2025.3.2:\n",
            "      Successfully uninstalled fsspec-2025.3.2\n",
            "  Attempting uninstall: nvidia-cusparse-cu12\n",
            "    Found existing installation: nvidia-cusparse-cu12 12.5.1.3\n",
            "    Uninstalling nvidia-cusparse-cu12-12.5.1.3:\n",
            "      Successfully uninstalled nvidia-cusparse-cu12-12.5.1.3\n",
            "  Attempting uninstall: nvidia-cudnn-cu12\n",
            "    Found existing installation: nvidia-cudnn-cu12 9.3.0.75\n",
            "    Uninstalling nvidia-cudnn-cu12-9.3.0.75:\n",
            "      Successfully uninstalled nvidia-cudnn-cu12-9.3.0.75\n",
            "  Attempting uninstall: nvidia-cusolver-cu12\n",
            "    Found existing installation: nvidia-cusolver-cu12 11.6.3.83\n",
            "    Uninstalling nvidia-cusolver-cu12-11.6.3.83:\n",
            "      Successfully uninstalled nvidia-cusolver-cu12-11.6.3.83\n",
            "  Attempting uninstall: datasets\n",
            "    Found existing installation: datasets 2.14.4\n",
            "    Uninstalling datasets-2.14.4:\n",
            "      Successfully uninstalled datasets-2.14.4\n",
            "\u001b[31mERROR: pip's dependency resolver does not currently take into account all the packages that are installed. This behaviour is the source of the following dependency conflicts.\n",
            "gcsfs 2025.3.2 requires fsspec==2025.3.2, but you have fsspec 2025.3.0 which is incompatible.\u001b[0m\u001b[31m\n",
            "\u001b[0mSuccessfully installed bitsandbytes-0.46.1 datasets-4.0.0 fsspec-2025.3.0 nvidia-cublas-cu12-12.4.5.8 nvidia-cuda-cupti-cu12-12.4.127 nvidia-cuda-nvrtc-cu12-12.4.127 nvidia-cuda-runtime-cu12-12.4.127 nvidia-cudnn-cu12-9.1.0.70 nvidia-cufft-cu12-11.2.1.3 nvidia-curand-cu12-10.3.5.147 nvidia-cusolver-cu12-11.6.1.9 nvidia-cusparse-cu12-12.3.1.170 nvidia-nvjitlink-cu12-12.4.127 trl-0.19.1\n"
          ]
        }
      ],
      "source": [
        "# If you're running on Colab\n",
        "!pip install datasets bitsandbytes trl"
      ]
    },
    {
      "cell_type": "code",
      "execution_count": 2,
      "id": "dc0bf629",
      "metadata": {
        "id": "dc0bf629"
      },
      "outputs": [],
      "source": [
        "# If you're running on runpod.io's Jupyter Template\n",
        "#!pip install datasets bitsandbytes trl transformers peft huggingface-hub accelerate safetensors pandas matplotlib"
      ]
    },
    {
      "cell_type": "markdown",
      "id": "e7cf5859",
      "metadata": {
        "id": "e7cf5859"
      },
      "source": [
        "### Imports"
      ]
    },
    {
      "cell_type": "code",
      "execution_count": 3,
      "id": "c093a0aa",
      "metadata": {
        "id": "c093a0aa"
      },
      "outputs": [],
      "source": [
        "import numpy as np\n",
        "import torch\n",
        "import torch.nn as nn\n",
        "from copy import deepcopy\n",
        "from numpy.linalg import matrix_rank\n",
        "from peft import LoraConfig, get_peft_model, prepare_model_for_kbit_training\n",
        "from transformers import AutoModelForCausalLM, BitsAndBytesConfig"
      ]
    },
    {
      "cell_type": "markdown",
      "id": "a573c625",
      "metadata": {
        "id": "a573c625"
      },
      "source": [
        "### The Goal\n",
        "\n",
        "We attach adapters to the huge linear layers in an LLM to drastically reduce the number of trainable parameters. We can easily shrink the number of trainable parameters down to less than 1% of their original number. By reducing both computation (fewer gradients to compute) and memory footprint (fewer parameters tracked by the optimizer), we achieve significant efficiency gains. Keep in mind, however, that low-rank adapters are unlikely to match the performance of full-model tuning, and their effectiveness may vary depending on the base model and the task."
      ]
    },
    {
      "cell_type": "markdown",
      "id": "1d220e57",
      "metadata": {
        "id": "1d220e57"
      },
      "source": [
        "### Pre-Reqs\n",
        "\n",
        "![](https://github.com/dvgodoy/FineTuningLLMs/blob/main/images/ch3/matmul.png?raw=True)\n",
        "<center>Figure 3.1 - Matrix multiplication</center>"
      ]
    },
    {
      "cell_type": "markdown",
      "id": "f32ad170",
      "metadata": {
        "id": "f32ad170"
      },
      "source": [
        "### Low-Rank Adaptation in a Nutshell\n",
        "\n",
        "![](https://github.com/dvgodoy/FineTuningLLMs/blob/main/images/ch3/two_matrices.png?raw=True)\n",
        "<center>Figure 3.2 - Multiplying two low-rank matrices</center>"
      ]
    },
    {
      "cell_type": "code",
      "execution_count": 4,
      "id": "59057a29",
      "metadata": {
        "colab": {
          "base_uri": "https://localhost:8080/"
        },
        "id": "59057a29",
        "outputId": "17b015ba-841e-40ae-d91a-f9b962ffa200"
      },
      "outputs": [
        {
          "output_type": "execute_result",
          "data": {
            "text/plain": [
              "(torch.Size([1024, 1024]), 1048576)"
            ]
          },
          "metadata": {},
          "execution_count": 4
        }
      ],
      "source": [
        "base_layer = nn.Linear(1024, 1024, bias=False)\n",
        "base_layer.weight.shape, base_layer.weight.numel()"
      ]
    },
    {
      "cell_type": "markdown",
      "id": "5b7bcba3",
      "metadata": {
        "id": "5b7bcba3"
      },
      "source": [
        "![](https://github.com/dvgodoy/FineTuningLLMs/blob/main/images/ch3/lowrank_matrices.png?raw=True)\n",
        "<center>Figure 3.3 - Frozen weights and low-rank matrices</center>"
      ]
    },
    {
      "cell_type": "code",
      "execution_count": 5,
      "id": "d28cb90b",
      "metadata": {
        "colab": {
          "base_uri": "https://localhost:8080/"
        },
        "id": "d28cb90b",
        "outputId": "48ab86ba-36ea-4992-e804-307e7441aed5"
      },
      "outputs": [
        {
          "output_type": "execute_result",
          "data": {
            "text/plain": [
              "(Linear(in_features=1024, out_features=8, bias=False),\n",
              " Linear(in_features=8, out_features=1024, bias=False))"
            ]
          },
          "metadata": {},
          "execution_count": 5
        }
      ],
      "source": [
        "torch.manual_seed(11)\n",
        "r = 8\n",
        "layer_A = nn.Linear(base_layer.in_features, r, bias=False)\n",
        "layer_B = nn.Linear(r, base_layer.out_features, bias=False)\n",
        "layer_A, layer_B"
      ]
    },
    {
      "cell_type": "code",
      "execution_count": 6,
      "id": "fb1f95a3",
      "metadata": {
        "colab": {
          "base_uri": "https://localhost:8080/"
        },
        "id": "fb1f95a3",
        "outputId": "d93bf7c6-af8f-46ab-96dd-cb06882eeb99"
      },
      "outputs": [
        {
          "output_type": "execute_result",
          "data": {
            "text/plain": [
              "(8192, 8192)"
            ]
          },
          "metadata": {},
          "execution_count": 6
        }
      ],
      "source": [
        "layer_A.weight.numel(), layer_B.weight.numel()"
      ]
    },
    {
      "cell_type": "code",
      "execution_count": 7,
      "id": "d10aee54",
      "metadata": {
        "colab": {
          "base_uri": "https://localhost:8080/"
        },
        "id": "d10aee54",
        "outputId": "09fdc674-3ec0-4385-d809-8b1fc9589ad1"
      },
      "outputs": [
        {
          "output_type": "execute_result",
          "data": {
            "text/plain": [
              "(torch.Size([1024, 1024]), 1048576)"
            ]
          },
          "metadata": {},
          "execution_count": 7
        }
      ],
      "source": [
        "composite = layer_B.weight @ layer_A.weight\n",
        "composite.shape, composite.numel()"
      ]
    },
    {
      "cell_type": "code",
      "execution_count": 8,
      "id": "d43acb37",
      "metadata": {
        "colab": {
          "base_uri": "https://localhost:8080/"
        },
        "id": "d43acb37",
        "outputId": "a9c42f82-f8c9-42ac-d2ff-e056a28cc1fb"
      },
      "outputs": [
        {
          "output_type": "execute_result",
          "data": {
            "text/plain": [
              "np.int64(8)"
            ]
          },
          "metadata": {},
          "execution_count": 8
        }
      ],
      "source": [
        "matrix_rank(composite.detach().numpy())"
      ]
    },
    {
      "cell_type": "markdown",
      "id": "ff63efc8",
      "metadata": {
        "id": "ff63efc8"
      },
      "source": [
        "$$\n",
        "\\Large\n",
        "\\text{output} = X @ (W + B @ A)^T\n",
        "$$\n",
        "<center>Equation 3.1 - Adding the resulting product to the weights</center>"
      ]
    },
    {
      "cell_type": "code",
      "execution_count": 9,
      "id": "c9c9e8e4",
      "metadata": {
        "colab": {
          "base_uri": "https://localhost:8080/"
        },
        "id": "c9c9e8e4",
        "outputId": "195aef79-fbfe-4f06-ac0c-deb81c825631"
      },
      "outputs": [
        {
          "output_type": "execute_result",
          "data": {
            "text/plain": [
              "tensor([[ 0.5498, -0.0263, -0.2520,  ...,  0.3093,  0.3296, -0.1130]],\n",
              "       grad_fn=<MmBackward0>)"
            ]
          },
          "metadata": {},
          "execution_count": 9
        }
      ],
      "source": [
        "torch.manual_seed(19)\n",
        "batch = torch.randn(1, 1024)\n",
        "\n",
        "batch @ (base_layer.weight.data + layer_B.weight @ layer_A.weight).T"
      ]
    },
    {
      "cell_type": "markdown",
      "id": "2753fad4",
      "metadata": {
        "id": "2753fad4"
      },
      "source": [
        "$$\n",
        "\\Large\n",
        "\\text{output} = \\underbrace{X @ W^T}_{O_W} + \\underbrace{X @ (B @ A)^T}_{O_{AB}}\n",
        "$$\n",
        "<center>Equation 3.2 - Using two forward passes</center>\n",
        "\n",
        "![](https://github.com/dvgodoy/FineTuningLLMs/blob/main/images/ch3/forward.png?raw=True)\n",
        "<center>Figure 3.4 - Using two forward passes</center>"
      ]
    },
    {
      "cell_type": "code",
      "execution_count": 10,
      "id": "13473a5d",
      "metadata": {
        "colab": {
          "base_uri": "https://localhost:8080/"
        },
        "id": "13473a5d",
        "outputId": "607abdd6-42c5-4827-f610-0b4f9a5bc9d9"
      },
      "outputs": [
        {
          "output_type": "execute_result",
          "data": {
            "text/plain": [
              "(tensor([[ 0.5856, -0.0493,  0.2087,  ...,  0.6013,  0.1352, -0.6171]]),\n",
              " tensor([[-0.0357,  0.0230, -0.4607,  ..., -0.2920,  0.1944,  0.5041]],\n",
              "        grad_fn=<MmBackward0>))"
            ]
          },
          "metadata": {},
          "execution_count": 10
        }
      ],
      "source": [
        "regular_output = batch @ base_layer.weight.data.T\n",
        "additional_output = batch @ (layer_B.weight @ layer_A.weight).T\n",
        "regular_output, additional_output"
      ]
    },
    {
      "cell_type": "markdown",
      "id": "a894d27d",
      "metadata": {
        "id": "a894d27d"
      },
      "source": [
        "$$\n",
        "\\Large\n",
        "\\text{additional} = X @ (B @ A)^T = \\underbrace{\\underbrace{(X @ A^T)}_{O_A} @ B^T}_{O_{AB}}\n",
        "$$\n",
        "<center>Equation 3.3 - Chaining the adapter’s forward passes</center>"
      ]
    },
    {
      "cell_type": "code",
      "execution_count": 11,
      "id": "e1bf4baa",
      "metadata": {
        "colab": {
          "base_uri": "https://localhost:8080/"
        },
        "id": "e1bf4baa",
        "outputId": "3fb77ad2-2966-4e49-82a0-e3048d5ab237"
      },
      "outputs": [
        {
          "output_type": "execute_result",
          "data": {
            "text/plain": [
              "tensor([[-0.0357,  0.0230, -0.4607,  ..., -0.2920,  0.1944,  0.5041]],\n",
              "       grad_fn=<MmBackward0>)"
            ]
          },
          "metadata": {},
          "execution_count": 11
        }
      ],
      "source": [
        "out_A = (batch @ layer_A.weight.T)\n",
        "additional_output = out_A @ layer_B.weight.T\n",
        "additional_output"
      ]
    },
    {
      "cell_type": "code",
      "execution_count": 12,
      "id": "853fe68e",
      "metadata": {
        "colab": {
          "base_uri": "https://localhost:8080/"
        },
        "id": "853fe68e",
        "outputId": "8c4c83b6-cf9f-4b94-ffa4-12b23940163c"
      },
      "outputs": [
        {
          "output_type": "execute_result",
          "data": {
            "text/plain": [
              "(tensor([[ 0.5856, -0.0493,  0.2087,  ...,  0.6013,  0.1352, -0.6171]],\n",
              "        grad_fn=<MmBackward0>),\n",
              " tensor([[-0.0357,  0.0230, -0.4607,  ..., -0.2920,  0.1944,  0.5041]],\n",
              "        grad_fn=<MmBackward0>),\n",
              " tensor([[ 0.5498, -0.0263, -0.2520,  ...,  0.3093,  0.3296, -0.1130]],\n",
              "        grad_fn=<AddBackward0>))"
            ]
          },
          "metadata": {},
          "execution_count": 12
        }
      ],
      "source": [
        "regular_output = base_layer(batch)\n",
        "out_A = layer_A(batch)\n",
        "additional_output = layer_B(out_A)\n",
        "output = regular_output + additional_output\n",
        "regular_output, additional_output, output"
      ]
    },
    {
      "cell_type": "markdown",
      "id": "f09c6072",
      "metadata": {
        "id": "f09c6072"
      },
      "source": [
        "$$\n",
        "\\Large\n",
        "\\text{output} = X @ W^T + \\frac{\\alpha}{r}\\left[X @ (B @ A)^T\\right]\n",
        "$$\n",
        "<center>Equation 3.4 - LoRA’s alpha</center>"
      ]
    },
    {
      "cell_type": "code",
      "execution_count": 13,
      "id": "2d5604dc",
      "metadata": {
        "id": "2d5604dc",
        "outputId": "0dce3be2-a6f1-4072-81da-cc6c445763cb",
        "colab": {
          "base_uri": "https://localhost:8080/"
        }
      },
      "outputs": [
        {
          "output_type": "execute_result",
          "data": {
            "text/plain": [
              "tensor([[ 0.5141, -0.0033, -0.7127,  ...,  0.0172,  0.5240,  0.3911]],\n",
              "       grad_fn=<AddBackward0>)"
            ]
          },
          "metadata": {},
          "execution_count": 13
        }
      ],
      "source": [
        "alpha = 2*r\n",
        "output = regular_output + (alpha / r) * additional_output\n",
        "output"
      ]
    },
    {
      "cell_type": "markdown",
      "id": "2eab264b",
      "metadata": {
        "id": "2eab264b"
      },
      "source": [
        "### The Road So Far"
      ]
    },
    {
      "cell_type": "code",
      "execution_count": 14,
      "id": "9a4e5d2e-8b15-43e2-879d-e4481f7fa7cd",
      "metadata": {
        "id": "9a4e5d2e-8b15-43e2-879d-e4481f7fa7cd",
        "outputId": "df66bf1d-1fab-4da6-e520-7fc89077e927",
        "colab": {
          "base_uri": "https://localhost:8080/",
          "height": 260,
          "referenced_widgets": [
            "c10d1e90f1414031ae85ef005fd659ab",
            "673255107d5b495e9ed2f4ecb1bd262f",
            "ccb4021380024e88a8ef24a2d10bff55",
            "6784a386a747480eae01042166bc0bc7",
            "ed650bb596ee4b97918efc53736fba98",
            "54fdfe44328f43d2b7221d2977e1652d",
            "d510daa403e94f89b330a2f35c10a645",
            "2a0cadadc47d423e8c67f46ed2614e5b",
            "28e63f9692ea4709b2a5da6fe58793fc",
            "56279b549c1949f280ccb1db382a76d9",
            "5a42d5cc1b2444c8a1b7a8974b30e4c7",
            "7fe07976fab442d5900f156ec7b01cd0",
            "89b20f911e0042e29310785ad5df6ac4",
            "0c08f17b85714a66834ce4ef8f360832",
            "da8b10ac31b6439490880008d333fb97",
            "7caf81e801b24b35bcadc5984fa72e03",
            "8a37ef057622452aaf4b32792a2001c5",
            "30f601b9ae01499f9f1bd4e3b699a108",
            "4f87154125754e14b05f31fc1aa4b80f",
            "e6f465c04d5742d2ae5362b192d7bbd2",
            "bb32e9127e644f139b88dee60aec80b5",
            "01c180a4f4ff4709b3e1590e173f6dad",
            "e60d14118129428cb82569f94e49276e",
            "cca18564dead4f6bb774a7f28b05153b",
            "f390bac37fbf42969a439b99c1668d21",
            "17f9841d4eaf4b71a10ad0109740ebcc",
            "7e804fc1b3a74b86be0db9c08574e33b",
            "e8415033716941e480827c39f2f21392",
            "ab2c1fb721b643a1876da7abcacfb9e7",
            "da7cf16f56e4419b9d2e9e49fad35542",
            "5abb2967ad8347be907bb5a3611d2fe4",
            "4cb59e28eb0a48e2b395f3a68bd69006",
            "4ed823235e7a4c56a783e8f8064839d3",
            "9d774628c0c943fe9e93220df1147bad",
            "2325553efdf74dfca42b6a9189daff88",
            "04a70a6d56de452896eaeba14efc5e57",
            "890b392a1aea4e08854ad4026446d596",
            "75ecaacf315440c3aea863f4da86ba95",
            "8d286dad065344f88261e6e727229c09",
            "cdb4665966744b609487e2bb1badb187",
            "89bea15a45ff47fb9f76dd822ece473a",
            "57bf620fa97148bdada8ba080f14d4b2",
            "3a2c975daff548b6b27d91586edf0d82",
            "75a172a7bf404fdaaa473de9ec761aa1"
          ]
        }
      },
      "outputs": [
        {
          "output_type": "stream",
          "name": "stderr",
          "text": [
            "/usr/local/lib/python3.11/dist-packages/huggingface_hub/utils/_auth.py:104: UserWarning: \n",
            "Error while fetching `HF_TOKEN` secret value from your vault: 'Requesting secret HF_TOKEN timed out. Secrets can only be fetched when running from the Colab UI.'.\n",
            "You are not authenticated with the Hugging Face Hub in this notebook.\n",
            "If the error persists, please let us know by opening an issue on GitHub (https://github.com/huggingface/huggingface_hub/issues/new).\n",
            "  warnings.warn(\n"
          ]
        },
        {
          "output_type": "display_data",
          "data": {
            "text/plain": [
              "config.json:   0%|          | 0.00/644 [00:00<?, ?B/s]"
            ],
            "application/vnd.jupyter.widget-view+json": {
              "version_major": 2,
              "version_minor": 0,
              "model_id": "c10d1e90f1414031ae85ef005fd659ab"
            }
          },
          "metadata": {}
        },
        {
          "output_type": "display_data",
          "data": {
            "text/plain": [
              "pytorch_model.bin:   0%|          | 0.00/663M [00:00<?, ?B/s]"
            ],
            "application/vnd.jupyter.widget-view+json": {
              "version_major": 2,
              "version_minor": 0,
              "model_id": "7fe07976fab442d5900f156ec7b01cd0"
            }
          },
          "metadata": {}
        },
        {
          "output_type": "display_data",
          "data": {
            "text/plain": [
              "model.safetensors:   0%|          | 0.00/662M [00:00<?, ?B/s]"
            ],
            "application/vnd.jupyter.widget-view+json": {
              "version_major": 2,
              "version_minor": 0,
              "model_id": "e60d14118129428cb82569f94e49276e"
            }
          },
          "metadata": {}
        },
        {
          "output_type": "display_data",
          "data": {
            "text/plain": [
              "generation_config.json:   0%|          | 0.00/137 [00:00<?, ?B/s]"
            ],
            "application/vnd.jupyter.widget-view+json": {
              "version_major": 2,
              "version_minor": 0,
              "model_id": "9d774628c0c943fe9e93220df1147bad"
            }
          },
          "metadata": {}
        }
      ],
      "source": [
        "supported = torch.cuda.is_bf16_supported(including_emulation=False)\n",
        "compute_dtype = (torch.bfloat16 if supported else torch.float32)\n",
        "\n",
        "nf4_config = BitsAndBytesConfig(\n",
        "   load_in_4bit=True,\n",
        "   bnb_4bit_quant_type=\"nf4\",\n",
        "   bnb_4bit_use_double_quant=True,\n",
        "   bnb_4bit_compute_dtype=compute_dtype\n",
        ")\n",
        "\n",
        "model_q4 = AutoModelForCausalLM.from_pretrained(\"facebook/opt-350m\",\n",
        "                                                device_map='cuda:0',\n",
        "                                                torch_dtype=compute_dtype,\n",
        "                                                quantization_config=nf4_config)"
      ]
    },
    {
      "cell_type": "markdown",
      "id": "d54d8255",
      "metadata": {
        "id": "d54d8255"
      },
      "source": [
        "### Parameter Types and Gradients\n",
        "\n",
        "****\n",
        "**Summary of \"Parameter Types and Gradients\"**\n",
        "- quantization only freezes the linear layers that have been quantized\n",
        "- after quantization, a model can be prepared using the `prepare_model_for_kbit_training()` function\n",
        "  - it freezes **all** layers\n",
        "  - it casts every non-quantized 16-bit layer to FP32 to improve training\n",
        "  - it enables gradient checkpointing\n",
        "- you'll be able to unfreeze layers of your choice later on using the LoRA configuration\n",
        "****"
      ]
    },
    {
      "cell_type": "code",
      "execution_count": 15,
      "id": "210ca55c",
      "metadata": {
        "colab": {
          "base_uri": "https://localhost:8080/"
        },
        "id": "210ca55c",
        "outputId": "5444418e-516b-47a7-cfc1-318e681de95c",
        "scrolled": true
      },
      "outputs": [
        {
          "output_type": "execute_result",
          "data": {
            "text/plain": [
              "[('decoder.embed_tokens.weight', torch.float32),\n",
              " ('decoder.embed_positions.weight', torch.float32),\n",
              " ('decoder.layers.0.self_attn_layer_norm.weight', torch.float32),\n",
              " ('decoder.layers.0.self_attn_layer_norm.bias', torch.float32),\n",
              " ('decoder.layers.0.final_layer_norm.weight', torch.float32),\n",
              " ('decoder.layers.0.final_layer_norm.bias', torch.float32),\n",
              " ('decoder.layers.1.self_attn_layer_norm.weight', torch.float32),\n",
              " ('decoder.layers.1.self_attn_layer_norm.bias', torch.float32),\n",
              " ('decoder.layers.1.final_layer_norm.weight', torch.float32),\n",
              " ('decoder.layers.1.final_layer_norm.bias', torch.float32),\n",
              " ('decoder.layers.2.self_attn_layer_norm.weight', torch.float32),\n",
              " ('decoder.layers.2.self_attn_layer_norm.bias', torch.float32),\n",
              " ('decoder.layers.2.final_layer_norm.weight', torch.float32),\n",
              " ('decoder.layers.2.final_layer_norm.bias', torch.float32),\n",
              " ('decoder.layers.3.self_attn_layer_norm.weight', torch.float32),\n",
              " ('decoder.layers.3.self_attn_layer_norm.bias', torch.float32),\n",
              " ('decoder.layers.3.final_layer_norm.weight', torch.float32),\n",
              " ('decoder.layers.3.final_layer_norm.bias', torch.float32),\n",
              " ('decoder.layers.4.self_attn_layer_norm.weight', torch.float32),\n",
              " ('decoder.layers.4.self_attn_layer_norm.bias', torch.float32),\n",
              " ('decoder.layers.4.final_layer_norm.weight', torch.float32),\n",
              " ('decoder.layers.4.final_layer_norm.bias', torch.float32),\n",
              " ('decoder.layers.5.self_attn_layer_norm.weight', torch.float32),\n",
              " ('decoder.layers.5.self_attn_layer_norm.bias', torch.float32),\n",
              " ('decoder.layers.5.final_layer_norm.weight', torch.float32),\n",
              " ('decoder.layers.5.final_layer_norm.bias', torch.float32),\n",
              " ('decoder.layers.6.self_attn_layer_norm.weight', torch.float32),\n",
              " ('decoder.layers.6.self_attn_layer_norm.bias', torch.float32),\n",
              " ('decoder.layers.6.final_layer_norm.weight', torch.float32),\n",
              " ('decoder.layers.6.final_layer_norm.bias', torch.float32),\n",
              " ('decoder.layers.7.self_attn_layer_norm.weight', torch.float32),\n",
              " ('decoder.layers.7.self_attn_layer_norm.bias', torch.float32),\n",
              " ('decoder.layers.7.final_layer_norm.weight', torch.float32),\n",
              " ('decoder.layers.7.final_layer_norm.bias', torch.float32),\n",
              " ('decoder.layers.8.self_attn_layer_norm.weight', torch.float32),\n",
              " ('decoder.layers.8.self_attn_layer_norm.bias', torch.float32),\n",
              " ('decoder.layers.8.final_layer_norm.weight', torch.float32),\n",
              " ('decoder.layers.8.final_layer_norm.bias', torch.float32),\n",
              " ('decoder.layers.9.self_attn_layer_norm.weight', torch.float32),\n",
              " ('decoder.layers.9.self_attn_layer_norm.bias', torch.float32),\n",
              " ('decoder.layers.9.final_layer_norm.weight', torch.float32),\n",
              " ('decoder.layers.9.final_layer_norm.bias', torch.float32),\n",
              " ('decoder.layers.10.self_attn_layer_norm.weight', torch.float32),\n",
              " ('decoder.layers.10.self_attn_layer_norm.bias', torch.float32),\n",
              " ('decoder.layers.10.final_layer_norm.weight', torch.float32),\n",
              " ('decoder.layers.10.final_layer_norm.bias', torch.float32),\n",
              " ('decoder.layers.11.self_attn_layer_norm.weight', torch.float32),\n",
              " ('decoder.layers.11.self_attn_layer_norm.bias', torch.float32),\n",
              " ('decoder.layers.11.final_layer_norm.weight', torch.float32),\n",
              " ('decoder.layers.11.final_layer_norm.bias', torch.float32),\n",
              " ('decoder.layers.12.self_attn_layer_norm.weight', torch.float32),\n",
              " ('decoder.layers.12.self_attn_layer_norm.bias', torch.float32),\n",
              " ('decoder.layers.12.final_layer_norm.weight', torch.float32),\n",
              " ('decoder.layers.12.final_layer_norm.bias', torch.float32),\n",
              " ('decoder.layers.13.self_attn_layer_norm.weight', torch.float32),\n",
              " ('decoder.layers.13.self_attn_layer_norm.bias', torch.float32),\n",
              " ('decoder.layers.13.final_layer_norm.weight', torch.float32),\n",
              " ('decoder.layers.13.final_layer_norm.bias', torch.float32),\n",
              " ('decoder.layers.14.self_attn_layer_norm.weight', torch.float32),\n",
              " ('decoder.layers.14.self_attn_layer_norm.bias', torch.float32),\n",
              " ('decoder.layers.14.final_layer_norm.weight', torch.float32),\n",
              " ('decoder.layers.14.final_layer_norm.bias', torch.float32),\n",
              " ('decoder.layers.15.self_attn_layer_norm.weight', torch.float32),\n",
              " ('decoder.layers.15.self_attn_layer_norm.bias', torch.float32),\n",
              " ('decoder.layers.15.final_layer_norm.weight', torch.float32),\n",
              " ('decoder.layers.15.final_layer_norm.bias', torch.float32),\n",
              " ('decoder.layers.16.self_attn_layer_norm.weight', torch.float32),\n",
              " ('decoder.layers.16.self_attn_layer_norm.bias', torch.float32),\n",
              " ('decoder.layers.16.final_layer_norm.weight', torch.float32),\n",
              " ('decoder.layers.16.final_layer_norm.bias', torch.float32),\n",
              " ('decoder.layers.17.self_attn_layer_norm.weight', torch.float32),\n",
              " ('decoder.layers.17.self_attn_layer_norm.bias', torch.float32),\n",
              " ('decoder.layers.17.final_layer_norm.weight', torch.float32),\n",
              " ('decoder.layers.17.final_layer_norm.bias', torch.float32),\n",
              " ('decoder.layers.18.self_attn_layer_norm.weight', torch.float32),\n",
              " ('decoder.layers.18.self_attn_layer_norm.bias', torch.float32),\n",
              " ('decoder.layers.18.final_layer_norm.weight', torch.float32),\n",
              " ('decoder.layers.18.final_layer_norm.bias', torch.float32),\n",
              " ('decoder.layers.19.self_attn_layer_norm.weight', torch.float32),\n",
              " ('decoder.layers.19.self_attn_layer_norm.bias', torch.float32),\n",
              " ('decoder.layers.19.final_layer_norm.weight', torch.float32),\n",
              " ('decoder.layers.19.final_layer_norm.bias', torch.float32),\n",
              " ('decoder.layers.20.self_attn_layer_norm.weight', torch.float32),\n",
              " ('decoder.layers.20.self_attn_layer_norm.bias', torch.float32),\n",
              " ('decoder.layers.20.final_layer_norm.weight', torch.float32),\n",
              " ('decoder.layers.20.final_layer_norm.bias', torch.float32),\n",
              " ('decoder.layers.21.self_attn_layer_norm.weight', torch.float32),\n",
              " ('decoder.layers.21.self_attn_layer_norm.bias', torch.float32),\n",
              " ('decoder.layers.21.final_layer_norm.weight', torch.float32),\n",
              " ('decoder.layers.21.final_layer_norm.bias', torch.float32),\n",
              " ('decoder.layers.22.self_attn_layer_norm.weight', torch.float32),\n",
              " ('decoder.layers.22.self_attn_layer_norm.bias', torch.float32),\n",
              " ('decoder.layers.22.final_layer_norm.weight', torch.float32),\n",
              " ('decoder.layers.22.final_layer_norm.bias', torch.float32),\n",
              " ('decoder.layers.23.self_attn_layer_norm.weight', torch.float32),\n",
              " ('decoder.layers.23.self_attn_layer_norm.bias', torch.float32),\n",
              " ('decoder.layers.23.final_layer_norm.weight', torch.float32),\n",
              " ('decoder.layers.23.final_layer_norm.bias', torch.float32)]"
            ]
          },
          "metadata": {},
          "execution_count": 15
        }
      ],
      "source": [
        "def trainable_parms(model):\n",
        "    parms = [(name, param.dtype) for name, param in model.named_parameters() if param.requires_grad]\n",
        "    return parms\n",
        "\n",
        "trainable_parms(model_q4.model)"
      ]
    },
    {
      "cell_type": "markdown",
      "id": "d13c94df",
      "metadata": {
        "id": "d13c94df"
      },
      "source": [
        "#### `prepare_model_for_kbit_training()`"
      ]
    },
    {
      "cell_type": "code",
      "execution_count": 16,
      "id": "77a8093b",
      "metadata": {
        "colab": {
          "base_uri": "https://localhost:8080/"
        },
        "id": "77a8093b",
        "outputId": "55e33a2c-ad2a-4015-8afc-00fe116ad545"
      },
      "outputs": [
        {
          "output_type": "execute_result",
          "data": {
            "text/plain": [
              "OPTForCausalLM(\n",
              "  (model): OPTModel(\n",
              "    (decoder): OPTDecoder(\n",
              "      (embed_tokens): Embedding(50272, 512, padding_idx=1)\n",
              "      (embed_positions): OPTLearnedPositionalEmbedding(2050, 1024)\n",
              "      (project_out): Linear4bit(in_features=1024, out_features=512, bias=False)\n",
              "      (project_in): Linear4bit(in_features=512, out_features=1024, bias=False)\n",
              "      (layers): ModuleList(\n",
              "        (0-23): 24 x OPTDecoderLayer(\n",
              "          (self_attn): OPTAttention(\n",
              "            (k_proj): Linear4bit(in_features=1024, out_features=1024, bias=True)\n",
              "            (v_proj): Linear4bit(in_features=1024, out_features=1024, bias=True)\n",
              "            (q_proj): Linear4bit(in_features=1024, out_features=1024, bias=True)\n",
              "            (out_proj): Linear4bit(in_features=1024, out_features=1024, bias=True)\n",
              "          )\n",
              "          (activation_fn): ReLU()\n",
              "          (self_attn_layer_norm): LayerNorm((1024,), eps=1e-05, elementwise_affine=True)\n",
              "          (fc1): Linear4bit(in_features=1024, out_features=4096, bias=True)\n",
              "          (fc2): Linear4bit(in_features=4096, out_features=1024, bias=True)\n",
              "          (final_layer_norm): LayerNorm((1024,), eps=1e-05, elementwise_affine=True)\n",
              "        )\n",
              "      )\n",
              "    )\n",
              "  )\n",
              "  (lm_head): Linear(in_features=512, out_features=50272, bias=False)\n",
              ")"
            ]
          },
          "metadata": {},
          "execution_count": 16
        }
      ],
      "source": [
        "prepared_model = prepare_model_for_kbit_training(model_q4,\n",
        "                                        use_gradient_checkpointing=True,\n",
        "                                        gradient_checkpointing_kwargs={'use_reentrant': False})\n",
        "prepared_model"
      ]
    },
    {
      "cell_type": "code",
      "execution_count": 17,
      "id": "709936d7",
      "metadata": {
        "colab": {
          "base_uri": "https://localhost:8080/"
        },
        "id": "709936d7",
        "outputId": "d65b45c7-2371-4548-a4bf-3455348703c8",
        "scrolled": true
      },
      "outputs": [
        {
          "output_type": "execute_result",
          "data": {
            "text/plain": [
              "[]"
            ]
          },
          "metadata": {},
          "execution_count": 17
        }
      ],
      "source": [
        "trainable_parms(prepared_model)"
      ]
    },
    {
      "cell_type": "code",
      "execution_count": 18,
      "id": "4277e665",
      "metadata": {
        "id": "4277e665"
      },
      "outputs": [],
      "source": [
        "def parms_of_dtype(model, dtype=torch.float32):\n",
        "    parms = [name for name, param in model.named_parameters() if param.dtype == dtype]\n",
        "    return parms"
      ]
    },
    {
      "cell_type": "code",
      "execution_count": 19,
      "id": "43586616",
      "metadata": {
        "colab": {
          "base_uri": "https://localhost:8080/"
        },
        "id": "43586616",
        "outputId": "31af21ba-d1f7-4871-d399-8b24efe8ca55"
      },
      "outputs": [
        {
          "output_type": "execute_result",
          "data": {
            "text/plain": [
              "['model.decoder.embed_tokens.weight',\n",
              " 'model.decoder.embed_positions.weight',\n",
              " 'model.decoder.layers.0.self_attn.k_proj.bias',\n",
              " 'model.decoder.layers.0.self_attn.v_proj.bias',\n",
              " 'model.decoder.layers.0.self_attn.q_proj.bias',\n",
              " 'model.decoder.layers.0.self_attn.out_proj.bias',\n",
              " 'model.decoder.layers.0.self_attn_layer_norm.weight',\n",
              " 'model.decoder.layers.0.self_attn_layer_norm.bias',\n",
              " 'model.decoder.layers.0.fc1.bias',\n",
              " 'model.decoder.layers.0.fc2.bias',\n",
              " 'model.decoder.layers.0.final_layer_norm.weight',\n",
              " 'model.decoder.layers.0.final_layer_norm.bias',\n",
              " 'model.decoder.layers.1.self_attn.k_proj.bias',\n",
              " 'model.decoder.layers.1.self_attn.v_proj.bias',\n",
              " 'model.decoder.layers.1.self_attn.q_proj.bias',\n",
              " 'model.decoder.layers.1.self_attn.out_proj.bias',\n",
              " 'model.decoder.layers.1.self_attn_layer_norm.weight',\n",
              " 'model.decoder.layers.1.self_attn_layer_norm.bias',\n",
              " 'model.decoder.layers.1.fc1.bias',\n",
              " 'model.decoder.layers.1.fc2.bias',\n",
              " 'model.decoder.layers.1.final_layer_norm.weight',\n",
              " 'model.decoder.layers.1.final_layer_norm.bias',\n",
              " 'model.decoder.layers.2.self_attn.k_proj.bias',\n",
              " 'model.decoder.layers.2.self_attn.v_proj.bias',\n",
              " 'model.decoder.layers.2.self_attn.q_proj.bias',\n",
              " 'model.decoder.layers.2.self_attn.out_proj.bias',\n",
              " 'model.decoder.layers.2.self_attn_layer_norm.weight',\n",
              " 'model.decoder.layers.2.self_attn_layer_norm.bias',\n",
              " 'model.decoder.layers.2.fc1.bias',\n",
              " 'model.decoder.layers.2.fc2.bias',\n",
              " 'model.decoder.layers.2.final_layer_norm.weight',\n",
              " 'model.decoder.layers.2.final_layer_norm.bias',\n",
              " 'model.decoder.layers.3.self_attn.k_proj.bias',\n",
              " 'model.decoder.layers.3.self_attn.v_proj.bias',\n",
              " 'model.decoder.layers.3.self_attn.q_proj.bias',\n",
              " 'model.decoder.layers.3.self_attn.out_proj.bias',\n",
              " 'model.decoder.layers.3.self_attn_layer_norm.weight',\n",
              " 'model.decoder.layers.3.self_attn_layer_norm.bias',\n",
              " 'model.decoder.layers.3.fc1.bias',\n",
              " 'model.decoder.layers.3.fc2.bias',\n",
              " 'model.decoder.layers.3.final_layer_norm.weight',\n",
              " 'model.decoder.layers.3.final_layer_norm.bias',\n",
              " 'model.decoder.layers.4.self_attn.k_proj.bias',\n",
              " 'model.decoder.layers.4.self_attn.v_proj.bias',\n",
              " 'model.decoder.layers.4.self_attn.q_proj.bias',\n",
              " 'model.decoder.layers.4.self_attn.out_proj.bias',\n",
              " 'model.decoder.layers.4.self_attn_layer_norm.weight',\n",
              " 'model.decoder.layers.4.self_attn_layer_norm.bias',\n",
              " 'model.decoder.layers.4.fc1.bias',\n",
              " 'model.decoder.layers.4.fc2.bias',\n",
              " 'model.decoder.layers.4.final_layer_norm.weight',\n",
              " 'model.decoder.layers.4.final_layer_norm.bias',\n",
              " 'model.decoder.layers.5.self_attn.k_proj.bias',\n",
              " 'model.decoder.layers.5.self_attn.v_proj.bias',\n",
              " 'model.decoder.layers.5.self_attn.q_proj.bias',\n",
              " 'model.decoder.layers.5.self_attn.out_proj.bias',\n",
              " 'model.decoder.layers.5.self_attn_layer_norm.weight',\n",
              " 'model.decoder.layers.5.self_attn_layer_norm.bias',\n",
              " 'model.decoder.layers.5.fc1.bias',\n",
              " 'model.decoder.layers.5.fc2.bias',\n",
              " 'model.decoder.layers.5.final_layer_norm.weight',\n",
              " 'model.decoder.layers.5.final_layer_norm.bias',\n",
              " 'model.decoder.layers.6.self_attn.k_proj.bias',\n",
              " 'model.decoder.layers.6.self_attn.v_proj.bias',\n",
              " 'model.decoder.layers.6.self_attn.q_proj.bias',\n",
              " 'model.decoder.layers.6.self_attn.out_proj.bias',\n",
              " 'model.decoder.layers.6.self_attn_layer_norm.weight',\n",
              " 'model.decoder.layers.6.self_attn_layer_norm.bias',\n",
              " 'model.decoder.layers.6.fc1.bias',\n",
              " 'model.decoder.layers.6.fc2.bias',\n",
              " 'model.decoder.layers.6.final_layer_norm.weight',\n",
              " 'model.decoder.layers.6.final_layer_norm.bias',\n",
              " 'model.decoder.layers.7.self_attn.k_proj.bias',\n",
              " 'model.decoder.layers.7.self_attn.v_proj.bias',\n",
              " 'model.decoder.layers.7.self_attn.q_proj.bias',\n",
              " 'model.decoder.layers.7.self_attn.out_proj.bias',\n",
              " 'model.decoder.layers.7.self_attn_layer_norm.weight',\n",
              " 'model.decoder.layers.7.self_attn_layer_norm.bias',\n",
              " 'model.decoder.layers.7.fc1.bias',\n",
              " 'model.decoder.layers.7.fc2.bias',\n",
              " 'model.decoder.layers.7.final_layer_norm.weight',\n",
              " 'model.decoder.layers.7.final_layer_norm.bias',\n",
              " 'model.decoder.layers.8.self_attn.k_proj.bias',\n",
              " 'model.decoder.layers.8.self_attn.v_proj.bias',\n",
              " 'model.decoder.layers.8.self_attn.q_proj.bias',\n",
              " 'model.decoder.layers.8.self_attn.out_proj.bias',\n",
              " 'model.decoder.layers.8.self_attn_layer_norm.weight',\n",
              " 'model.decoder.layers.8.self_attn_layer_norm.bias',\n",
              " 'model.decoder.layers.8.fc1.bias',\n",
              " 'model.decoder.layers.8.fc2.bias',\n",
              " 'model.decoder.layers.8.final_layer_norm.weight',\n",
              " 'model.decoder.layers.8.final_layer_norm.bias',\n",
              " 'model.decoder.layers.9.self_attn.k_proj.bias',\n",
              " 'model.decoder.layers.9.self_attn.v_proj.bias',\n",
              " 'model.decoder.layers.9.self_attn.q_proj.bias',\n",
              " 'model.decoder.layers.9.self_attn.out_proj.bias',\n",
              " 'model.decoder.layers.9.self_attn_layer_norm.weight',\n",
              " 'model.decoder.layers.9.self_attn_layer_norm.bias',\n",
              " 'model.decoder.layers.9.fc1.bias',\n",
              " 'model.decoder.layers.9.fc2.bias',\n",
              " 'model.decoder.layers.9.final_layer_norm.weight',\n",
              " 'model.decoder.layers.9.final_layer_norm.bias',\n",
              " 'model.decoder.layers.10.self_attn.k_proj.bias',\n",
              " 'model.decoder.layers.10.self_attn.v_proj.bias',\n",
              " 'model.decoder.layers.10.self_attn.q_proj.bias',\n",
              " 'model.decoder.layers.10.self_attn.out_proj.bias',\n",
              " 'model.decoder.layers.10.self_attn_layer_norm.weight',\n",
              " 'model.decoder.layers.10.self_attn_layer_norm.bias',\n",
              " 'model.decoder.layers.10.fc1.bias',\n",
              " 'model.decoder.layers.10.fc2.bias',\n",
              " 'model.decoder.layers.10.final_layer_norm.weight',\n",
              " 'model.decoder.layers.10.final_layer_norm.bias',\n",
              " 'model.decoder.layers.11.self_attn.k_proj.bias',\n",
              " 'model.decoder.layers.11.self_attn.v_proj.bias',\n",
              " 'model.decoder.layers.11.self_attn.q_proj.bias',\n",
              " 'model.decoder.layers.11.self_attn.out_proj.bias',\n",
              " 'model.decoder.layers.11.self_attn_layer_norm.weight',\n",
              " 'model.decoder.layers.11.self_attn_layer_norm.bias',\n",
              " 'model.decoder.layers.11.fc1.bias',\n",
              " 'model.decoder.layers.11.fc2.bias',\n",
              " 'model.decoder.layers.11.final_layer_norm.weight',\n",
              " 'model.decoder.layers.11.final_layer_norm.bias',\n",
              " 'model.decoder.layers.12.self_attn.k_proj.bias',\n",
              " 'model.decoder.layers.12.self_attn.v_proj.bias',\n",
              " 'model.decoder.layers.12.self_attn.q_proj.bias',\n",
              " 'model.decoder.layers.12.self_attn.out_proj.bias',\n",
              " 'model.decoder.layers.12.self_attn_layer_norm.weight',\n",
              " 'model.decoder.layers.12.self_attn_layer_norm.bias',\n",
              " 'model.decoder.layers.12.fc1.bias',\n",
              " 'model.decoder.layers.12.fc2.bias',\n",
              " 'model.decoder.layers.12.final_layer_norm.weight',\n",
              " 'model.decoder.layers.12.final_layer_norm.bias',\n",
              " 'model.decoder.layers.13.self_attn.k_proj.bias',\n",
              " 'model.decoder.layers.13.self_attn.v_proj.bias',\n",
              " 'model.decoder.layers.13.self_attn.q_proj.bias',\n",
              " 'model.decoder.layers.13.self_attn.out_proj.bias',\n",
              " 'model.decoder.layers.13.self_attn_layer_norm.weight',\n",
              " 'model.decoder.layers.13.self_attn_layer_norm.bias',\n",
              " 'model.decoder.layers.13.fc1.bias',\n",
              " 'model.decoder.layers.13.fc2.bias',\n",
              " 'model.decoder.layers.13.final_layer_norm.weight',\n",
              " 'model.decoder.layers.13.final_layer_norm.bias',\n",
              " 'model.decoder.layers.14.self_attn.k_proj.bias',\n",
              " 'model.decoder.layers.14.self_attn.v_proj.bias',\n",
              " 'model.decoder.layers.14.self_attn.q_proj.bias',\n",
              " 'model.decoder.layers.14.self_attn.out_proj.bias',\n",
              " 'model.decoder.layers.14.self_attn_layer_norm.weight',\n",
              " 'model.decoder.layers.14.self_attn_layer_norm.bias',\n",
              " 'model.decoder.layers.14.fc1.bias',\n",
              " 'model.decoder.layers.14.fc2.bias',\n",
              " 'model.decoder.layers.14.final_layer_norm.weight',\n",
              " 'model.decoder.layers.14.final_layer_norm.bias',\n",
              " 'model.decoder.layers.15.self_attn.k_proj.bias',\n",
              " 'model.decoder.layers.15.self_attn.v_proj.bias',\n",
              " 'model.decoder.layers.15.self_attn.q_proj.bias',\n",
              " 'model.decoder.layers.15.self_attn.out_proj.bias',\n",
              " 'model.decoder.layers.15.self_attn_layer_norm.weight',\n",
              " 'model.decoder.layers.15.self_attn_layer_norm.bias',\n",
              " 'model.decoder.layers.15.fc1.bias',\n",
              " 'model.decoder.layers.15.fc2.bias',\n",
              " 'model.decoder.layers.15.final_layer_norm.weight',\n",
              " 'model.decoder.layers.15.final_layer_norm.bias',\n",
              " 'model.decoder.layers.16.self_attn.k_proj.bias',\n",
              " 'model.decoder.layers.16.self_attn.v_proj.bias',\n",
              " 'model.decoder.layers.16.self_attn.q_proj.bias',\n",
              " 'model.decoder.layers.16.self_attn.out_proj.bias',\n",
              " 'model.decoder.layers.16.self_attn_layer_norm.weight',\n",
              " 'model.decoder.layers.16.self_attn_layer_norm.bias',\n",
              " 'model.decoder.layers.16.fc1.bias',\n",
              " 'model.decoder.layers.16.fc2.bias',\n",
              " 'model.decoder.layers.16.final_layer_norm.weight',\n",
              " 'model.decoder.layers.16.final_layer_norm.bias',\n",
              " 'model.decoder.layers.17.self_attn.k_proj.bias',\n",
              " 'model.decoder.layers.17.self_attn.v_proj.bias',\n",
              " 'model.decoder.layers.17.self_attn.q_proj.bias',\n",
              " 'model.decoder.layers.17.self_attn.out_proj.bias',\n",
              " 'model.decoder.layers.17.self_attn_layer_norm.weight',\n",
              " 'model.decoder.layers.17.self_attn_layer_norm.bias',\n",
              " 'model.decoder.layers.17.fc1.bias',\n",
              " 'model.decoder.layers.17.fc2.bias',\n",
              " 'model.decoder.layers.17.final_layer_norm.weight',\n",
              " 'model.decoder.layers.17.final_layer_norm.bias',\n",
              " 'model.decoder.layers.18.self_attn.k_proj.bias',\n",
              " 'model.decoder.layers.18.self_attn.v_proj.bias',\n",
              " 'model.decoder.layers.18.self_attn.q_proj.bias',\n",
              " 'model.decoder.layers.18.self_attn.out_proj.bias',\n",
              " 'model.decoder.layers.18.self_attn_layer_norm.weight',\n",
              " 'model.decoder.layers.18.self_attn_layer_norm.bias',\n",
              " 'model.decoder.layers.18.fc1.bias',\n",
              " 'model.decoder.layers.18.fc2.bias',\n",
              " 'model.decoder.layers.18.final_layer_norm.weight',\n",
              " 'model.decoder.layers.18.final_layer_norm.bias',\n",
              " 'model.decoder.layers.19.self_attn.k_proj.bias',\n",
              " 'model.decoder.layers.19.self_attn.v_proj.bias',\n",
              " 'model.decoder.layers.19.self_attn.q_proj.bias',\n",
              " 'model.decoder.layers.19.self_attn.out_proj.bias',\n",
              " 'model.decoder.layers.19.self_attn_layer_norm.weight',\n",
              " 'model.decoder.layers.19.self_attn_layer_norm.bias',\n",
              " 'model.decoder.layers.19.fc1.bias',\n",
              " 'model.decoder.layers.19.fc2.bias',\n",
              " 'model.decoder.layers.19.final_layer_norm.weight',\n",
              " 'model.decoder.layers.19.final_layer_norm.bias',\n",
              " 'model.decoder.layers.20.self_attn.k_proj.bias',\n",
              " 'model.decoder.layers.20.self_attn.v_proj.bias',\n",
              " 'model.decoder.layers.20.self_attn.q_proj.bias',\n",
              " 'model.decoder.layers.20.self_attn.out_proj.bias',\n",
              " 'model.decoder.layers.20.self_attn_layer_norm.weight',\n",
              " 'model.decoder.layers.20.self_attn_layer_norm.bias',\n",
              " 'model.decoder.layers.20.fc1.bias',\n",
              " 'model.decoder.layers.20.fc2.bias',\n",
              " 'model.decoder.layers.20.final_layer_norm.weight',\n",
              " 'model.decoder.layers.20.final_layer_norm.bias',\n",
              " 'model.decoder.layers.21.self_attn.k_proj.bias',\n",
              " 'model.decoder.layers.21.self_attn.v_proj.bias',\n",
              " 'model.decoder.layers.21.self_attn.q_proj.bias',\n",
              " 'model.decoder.layers.21.self_attn.out_proj.bias',\n",
              " 'model.decoder.layers.21.self_attn_layer_norm.weight',\n",
              " 'model.decoder.layers.21.self_attn_layer_norm.bias',\n",
              " 'model.decoder.layers.21.fc1.bias',\n",
              " 'model.decoder.layers.21.fc2.bias',\n",
              " 'model.decoder.layers.21.final_layer_norm.weight',\n",
              " 'model.decoder.layers.21.final_layer_norm.bias',\n",
              " 'model.decoder.layers.22.self_attn.k_proj.bias',\n",
              " 'model.decoder.layers.22.self_attn.v_proj.bias',\n",
              " 'model.decoder.layers.22.self_attn.q_proj.bias',\n",
              " 'model.decoder.layers.22.self_attn.out_proj.bias',\n",
              " 'model.decoder.layers.22.self_attn_layer_norm.weight',\n",
              " 'model.decoder.layers.22.self_attn_layer_norm.bias',\n",
              " 'model.decoder.layers.22.fc1.bias',\n",
              " 'model.decoder.layers.22.fc2.bias',\n",
              " 'model.decoder.layers.22.final_layer_norm.weight',\n",
              " 'model.decoder.layers.22.final_layer_norm.bias',\n",
              " 'model.decoder.layers.23.self_attn.k_proj.bias',\n",
              " 'model.decoder.layers.23.self_attn.v_proj.bias',\n",
              " 'model.decoder.layers.23.self_attn.q_proj.bias',\n",
              " 'model.decoder.layers.23.self_attn.out_proj.bias',\n",
              " 'model.decoder.layers.23.self_attn_layer_norm.weight',\n",
              " 'model.decoder.layers.23.self_attn_layer_norm.bias',\n",
              " 'model.decoder.layers.23.fc1.bias',\n",
              " 'model.decoder.layers.23.fc2.bias',\n",
              " 'model.decoder.layers.23.final_layer_norm.weight',\n",
              " 'model.decoder.layers.23.final_layer_norm.bias']"
            ]
          },
          "metadata": {},
          "execution_count": 19
        }
      ],
      "source": [
        "parms_of_dtype(prepared_model)"
      ]
    },
    {
      "cell_type": "code",
      "execution_count": 20,
      "id": "55f83018",
      "metadata": {
        "colab": {
          "base_uri": "https://localhost:8080/"
        },
        "id": "55f83018",
        "outputId": "4c271af3-4aac-4ac7-a870-31427886f553"
      },
      "outputs": [
        {
          "output_type": "execute_result",
          "data": {
            "text/plain": [
              "264.15104"
            ]
          },
          "metadata": {},
          "execution_count": 20
        }
      ],
      "source": [
        "prepared_model.get_memory_footprint()/1e6"
      ]
    },
    {
      "cell_type": "markdown",
      "id": "6f1b2537",
      "metadata": {
        "id": "6f1b2537"
      },
      "source": [
        "### PEFT\n",
        "\n",
        "\"_🤗 PEFT (Parameter-Efficient Fine-Tuning) is a library for efficiently adapting large pretrained models to various downstream applications without fine-tuning all of a model’s parameters because it is prohibitively costly. PEFT methods only fine-tune a small number of (extra) model parameters - significantly decreasing computational and storage costs - while yielding performance comparable to a fully fine-tuned model. This makes it more accessible to train and store large language models (LLMs) on consumer hardware._\n",
        "\n",
        "_PEFT is integrated with the Transformers, Diffusers, and Accelerate libraries to provide a faster and easier way to load, train, and use large models for inference._\"\n",
        "\n",
        "****\n",
        "**Summary of \"PEFT\"**\n",
        "- the basic configuration below should work well in many cases\n",
        "```python\n",
        "config = LoraConfig(\n",
        "    r=16,\n",
        "    lora_alpha=32,\n",
        "    lora_dropout=0.05,\n",
        "    bias=\"none\",\n",
        "    task_type=\"CAUSAL_LM\",\n",
        ")\n",
        "peft_model = get_peft_model(model, config)\n",
        "```\n",
        "- ranks of 8, 16, or 32 are typical, but using higher values shouldn’t significantly impact the model’s memory footprint.\n",
        "- the scaling factor, `lora_alpha` is typically twice the rank.\n",
        "- if your model has `Conv1D` layers, add `fan_in_fan_out=True` to your configuration\n",
        "- if your model was recently released, you may need to specify the `target_modules` manually\n",
        "  - typically, use the names of the massive linear layers in the attention module.\n",
        "- by default, only the adapters are trainable\n",
        "  - if you'd like to train other layers, such as layer norms, add them to the `modules_to_save` argument\n",
        "  - if you're adding your own tokens to the tokenizer, you'll need to also train vocabulary-related layers such as embeddings and the model's head\n",
        "****"
      ]
    },
    {
      "cell_type": "code",
      "execution_count": 21,
      "id": "c3e78bf0",
      "metadata": {
        "colab": {
          "base_uri": "https://localhost:8080/"
        },
        "id": "c3e78bf0",
        "outputId": "fdbf9957-718a-45c2-9828-4d86a31374c1"
      },
      "outputs": [
        {
          "output_type": "execute_result",
          "data": {
            "text/plain": [
              "LoraConfig(task_type=None, peft_type=<PeftType.LORA: 'LORA'>, auto_mapping=None, base_model_name_or_path=None, revision=None, inference_mode=False, r=8, target_modules=None, exclude_modules=None, lora_alpha=8, lora_dropout=0.0, fan_in_fan_out=False, bias='none', use_rslora=False, modules_to_save=None, init_lora_weights=True, layers_to_transform=None, layers_pattern=None, rank_pattern={}, alpha_pattern={}, megatron_config=None, megatron_core='megatron.core', trainable_token_indices=None, loftq_config={}, eva_config=None, corda_config=None, use_dora=False, use_qalora=False, qalora_group_size=16, layer_replication=None, runtime_config=LoraRuntimeConfig(ephemeral_gpu_offload=False), lora_bias=False)"
            ]
          },
          "metadata": {},
          "execution_count": 21
        }
      ],
      "source": [
        "lora_config = LoraConfig()\n",
        "lora_config"
      ]
    },
    {
      "cell_type": "code",
      "execution_count": 22,
      "id": "e3647c9d",
      "metadata": {
        "id": "e3647c9d"
      },
      "outputs": [],
      "source": [
        "config = LoraConfig(\n",
        "    r=8,\n",
        "    lora_alpha=16,\n",
        "    lora_dropout=0.05,\n",
        "    bias=\"none\",\n",
        "    task_type=\"CAUSAL_LM\",\n",
        ")"
      ]
    },
    {
      "cell_type": "markdown",
      "id": "6471b64b",
      "metadata": {
        "id": "6471b64b"
      },
      "source": [
        "### `target_modules`\n",
        "\n",
        "Since there are new models and architectures being released on a weekly basis, chances are that there is no preconfigured list of target layers in your currently installed version of the PEFT library. In this case, you’ll be greeted with the following error:\n",
        "\n",
        "***\n",
        "`ValueError: Please specify `target_modules` in `peft_config``\n",
        "***\n",
        "\n",
        "Once you have the names, you can use yet another configuration argument: target_modules, which is either\n",
        "the name or a list of the names of the modules to which you want to apply the adapters.\n",
        "\n",
        "**Supported Models**\n",
        "\n",
        "If you'd like to check if a given model's architecture is already supported by the installed version of the `peft` package, you can do the following:"
      ]
    },
    {
      "cell_type": "code",
      "execution_count": 23,
      "id": "3d85ac9d",
      "metadata": {
        "colab": {
          "base_uri": "https://localhost:8080/"
        },
        "id": "3d85ac9d",
        "outputId": "84992f3a-84b7-4f53-a4f4-7d9a86238838"
      },
      "outputs": [
        {
          "output_type": "execute_result",
          "data": {
            "text/plain": [
              "dict_keys(['t5', 'mt5', 'bart', 'gpt2', 'bloom', 'blip-2', 'opt', 'gptj', 'gpt_neox', 'gpt_neo', 'bert', 'roberta', 'xlm-roberta', 'electra', 'deberta-v2', 'deberta', 'layoutlm', 'llama', 'llama4', 'chatglm', 'gpt_bigcode', 'mpt', 'RefinedWebModel', 'RefinedWeb', 'falcon', 'btlm', 'codegen', 'mistral', 'mixtral', 'stablelm', 'phi', 'gemma', 'gemma2', 'gemma3_text', 'qwen2', 'qwen3'])"
            ]
          },
          "metadata": {},
          "execution_count": 23
        }
      ],
      "source": [
        "from peft.utils.constants import TRANSFORMERS_MODELS_TO_LORA_TARGET_MODULES_MAPPING\n",
        "TRANSFORMERS_MODELS_TO_LORA_TARGET_MODULES_MAPPING.keys()"
      ]
    },
    {
      "cell_type": "code",
      "execution_count": 24,
      "id": "9a153a16",
      "metadata": {
        "colab": {
          "base_uri": "https://localhost:8080/"
        },
        "id": "9a153a16",
        "outputId": "292eb895-f268-42fd-bbd5-9826e066eba4"
      },
      "outputs": [
        {
          "output_type": "execute_result",
          "data": {
            "text/plain": [
              "['q_proj', 'v_proj', 'fc1', 'fc2']"
            ]
          },
          "metadata": {},
          "execution_count": 24
        }
      ],
      "source": [
        "TRANSFORMERS_MODELS_TO_LORA_TARGET_MODULES_MAPPING['phi']"
      ]
    },
    {
      "cell_type": "markdown",
      "id": "4055fc23",
      "metadata": {
        "id": "4055fc23"
      },
      "source": [
        "#### The PEFT Model"
      ]
    },
    {
      "cell_type": "code",
      "execution_count": 25,
      "id": "73bb5a74",
      "metadata": {
        "colab": {
          "base_uri": "https://localhost:8080/"
        },
        "id": "73bb5a74",
        "outputId": "4642f215-b500-4767-ae0a-4e506dc26e16"
      },
      "outputs": [
        {
          "output_type": "execute_result",
          "data": {
            "text/plain": [
              "PeftModelForCausalLM(\n",
              "  (base_model): LoraModel(\n",
              "    (model): OPTForCausalLM(\n",
              "      (model): OPTModel(\n",
              "        (decoder): OPTDecoder(\n",
              "          (embed_tokens): Embedding(50272, 512, padding_idx=1)\n",
              "          (embed_positions): OPTLearnedPositionalEmbedding(2050, 1024)\n",
              "          (project_out): Linear4bit(in_features=1024, out_features=512, bias=False)\n",
              "          (project_in): Linear4bit(in_features=512, out_features=1024, bias=False)\n",
              "          (layers): ModuleList(\n",
              "            (0-23): 24 x OPTDecoderLayer(\n",
              "              (self_attn): OPTAttention(\n",
              "                (k_proj): Linear4bit(in_features=1024, out_features=1024, bias=True)\n",
              "                (v_proj): lora.Linear4bit(\n",
              "                  (base_layer): Linear4bit(in_features=1024, out_features=1024, bias=True)\n",
              "                  (lora_dropout): ModuleDict(\n",
              "                    (default): Dropout(p=0.05, inplace=False)\n",
              "                  )\n",
              "                  (lora_A): ModuleDict(\n",
              "                    (default): Linear(in_features=1024, out_features=8, bias=False)\n",
              "                  )\n",
              "                  (lora_B): ModuleDict(\n",
              "                    (default): Linear(in_features=8, out_features=1024, bias=False)\n",
              "                  )\n",
              "                  (lora_embedding_A): ParameterDict()\n",
              "                  (lora_embedding_B): ParameterDict()\n",
              "                  (lora_magnitude_vector): ModuleDict()\n",
              "                )\n",
              "                (q_proj): lora.Linear4bit(\n",
              "                  (base_layer): Linear4bit(in_features=1024, out_features=1024, bias=True)\n",
              "                  (lora_dropout): ModuleDict(\n",
              "                    (default): Dropout(p=0.05, inplace=False)\n",
              "                  )\n",
              "                  (lora_A): ModuleDict(\n",
              "                    (default): Linear(in_features=1024, out_features=8, bias=False)\n",
              "                  )\n",
              "                  (lora_B): ModuleDict(\n",
              "                    (default): Linear(in_features=8, out_features=1024, bias=False)\n",
              "                  )\n",
              "                  (lora_embedding_A): ParameterDict()\n",
              "                  (lora_embedding_B): ParameterDict()\n",
              "                  (lora_magnitude_vector): ModuleDict()\n",
              "                )\n",
              "                (out_proj): Linear4bit(in_features=1024, out_features=1024, bias=True)\n",
              "              )\n",
              "              (activation_fn): ReLU()\n",
              "              (self_attn_layer_norm): LayerNorm((1024,), eps=1e-05, elementwise_affine=True)\n",
              "              (fc1): Linear4bit(in_features=1024, out_features=4096, bias=True)\n",
              "              (fc2): Linear4bit(in_features=4096, out_features=1024, bias=True)\n",
              "              (final_layer_norm): LayerNorm((1024,), eps=1e-05, elementwise_affine=True)\n",
              "            )\n",
              "          )\n",
              "        )\n",
              "      )\n",
              "      (lm_head): Linear(in_features=512, out_features=50272, bias=False)\n",
              "    )\n",
              "  )\n",
              ")"
            ]
          },
          "metadata": {},
          "execution_count": 25
        }
      ],
      "source": [
        "peft_model = get_peft_model(prepared_model, config, adapter_name='default')\n",
        "peft_model"
      ]
    },
    {
      "cell_type": "code",
      "execution_count": 26,
      "id": "aa9ef650",
      "metadata": {
        "colab": {
          "base_uri": "https://localhost:8080/"
        },
        "id": "aa9ef650",
        "outputId": "96ee8684-16d3-4d5e-fd53-285d4847bee6"
      },
      "outputs": [
        {
          "output_type": "execute_result",
          "data": {
            "text/plain": [
              "['q_proj', 'v_proj']"
            ]
          },
          "metadata": {},
          "execution_count": 26
        }
      ],
      "source": [
        "TRANSFORMERS_MODELS_TO_LORA_TARGET_MODULES_MAPPING['opt']"
      ]
    },
    {
      "cell_type": "code",
      "execution_count": 27,
      "id": "402db03b",
      "metadata": {
        "colab": {
          "base_uri": "https://localhost:8080/"
        },
        "id": "402db03b",
        "outputId": "25d711a3-b439-41bd-e117-3ed4a46955ff"
      },
      "outputs": [
        {
          "output_type": "execute_result",
          "data": {
            "text/plain": [
              "lora.Linear4bit(\n",
              "  (base_layer): Linear4bit(in_features=1024, out_features=1024, bias=True)\n",
              "  (lora_dropout): ModuleDict(\n",
              "    (default): Dropout(p=0.05, inplace=False)\n",
              "  )\n",
              "  (lora_A): ModuleDict(\n",
              "    (default): Linear(in_features=1024, out_features=8, bias=False)\n",
              "  )\n",
              "  (lora_B): ModuleDict(\n",
              "    (default): Linear(in_features=8, out_features=1024, bias=False)\n",
              "  )\n",
              "  (lora_embedding_A): ParameterDict()\n",
              "  (lora_embedding_B): ParameterDict()\n",
              "  (lora_magnitude_vector): ModuleDict()\n",
              ")"
            ]
          },
          "metadata": {},
          "execution_count": 27
        }
      ],
      "source": [
        "lin = peft_model.base_model.model.model.decoder.layers[0].self_attn.q_proj\n",
        "lin"
      ]
    },
    {
      "cell_type": "code",
      "execution_count": 28,
      "id": "424d82f5",
      "metadata": {
        "colab": {
          "base_uri": "https://localhost:8080/"
        },
        "id": "424d82f5",
        "outputId": "ea161e71-57bb-4c29-f2e9-d26cad6a6a9a"
      },
      "outputs": [
        {
          "output_type": "stream",
          "name": "stdout",
          "text": [
            "trainable params: 786,432 || all params: 331,982,848 || trainable%: 0.2369\n"
          ]
        }
      ],
      "source": [
        "peft_model.print_trainable_parameters()"
      ]
    },
    {
      "cell_type": "code",
      "execution_count": 29,
      "id": "a8e1eec1",
      "metadata": {
        "colab": {
          "base_uri": "https://localhost:8080/"
        },
        "id": "a8e1eec1",
        "outputId": "cadbda2a-b532-4916-8245-047b5e1db25c"
      },
      "outputs": [
        {
          "output_type": "execute_result",
          "data": {
            "text/plain": [
              "[('model.decoder.layers.0.self_attn.v_proj.lora_A.default.weight',\n",
              "  torch.float32),\n",
              " ('model.decoder.layers.0.self_attn.v_proj.lora_B.default.weight',\n",
              "  torch.float32),\n",
              " ('model.decoder.layers.0.self_attn.q_proj.lora_A.default.weight',\n",
              "  torch.float32),\n",
              " ('model.decoder.layers.0.self_attn.q_proj.lora_B.default.weight',\n",
              "  torch.float32),\n",
              " ('model.decoder.layers.1.self_attn.v_proj.lora_A.default.weight',\n",
              "  torch.float32),\n",
              " ('model.decoder.layers.1.self_attn.v_proj.lora_B.default.weight',\n",
              "  torch.float32),\n",
              " ('model.decoder.layers.1.self_attn.q_proj.lora_A.default.weight',\n",
              "  torch.float32),\n",
              " ('model.decoder.layers.1.self_attn.q_proj.lora_B.default.weight',\n",
              "  torch.float32),\n",
              " ('model.decoder.layers.2.self_attn.v_proj.lora_A.default.weight',\n",
              "  torch.float32),\n",
              " ('model.decoder.layers.2.self_attn.v_proj.lora_B.default.weight',\n",
              "  torch.float32),\n",
              " ('model.decoder.layers.2.self_attn.q_proj.lora_A.default.weight',\n",
              "  torch.float32),\n",
              " ('model.decoder.layers.2.self_attn.q_proj.lora_B.default.weight',\n",
              "  torch.float32),\n",
              " ('model.decoder.layers.3.self_attn.v_proj.lora_A.default.weight',\n",
              "  torch.float32),\n",
              " ('model.decoder.layers.3.self_attn.v_proj.lora_B.default.weight',\n",
              "  torch.float32),\n",
              " ('model.decoder.layers.3.self_attn.q_proj.lora_A.default.weight',\n",
              "  torch.float32),\n",
              " ('model.decoder.layers.3.self_attn.q_proj.lora_B.default.weight',\n",
              "  torch.float32),\n",
              " ('model.decoder.layers.4.self_attn.v_proj.lora_A.default.weight',\n",
              "  torch.float32),\n",
              " ('model.decoder.layers.4.self_attn.v_proj.lora_B.default.weight',\n",
              "  torch.float32),\n",
              " ('model.decoder.layers.4.self_attn.q_proj.lora_A.default.weight',\n",
              "  torch.float32),\n",
              " ('model.decoder.layers.4.self_attn.q_proj.lora_B.default.weight',\n",
              "  torch.float32),\n",
              " ('model.decoder.layers.5.self_attn.v_proj.lora_A.default.weight',\n",
              "  torch.float32),\n",
              " ('model.decoder.layers.5.self_attn.v_proj.lora_B.default.weight',\n",
              "  torch.float32),\n",
              " ('model.decoder.layers.5.self_attn.q_proj.lora_A.default.weight',\n",
              "  torch.float32),\n",
              " ('model.decoder.layers.5.self_attn.q_proj.lora_B.default.weight',\n",
              "  torch.float32),\n",
              " ('model.decoder.layers.6.self_attn.v_proj.lora_A.default.weight',\n",
              "  torch.float32),\n",
              " ('model.decoder.layers.6.self_attn.v_proj.lora_B.default.weight',\n",
              "  torch.float32),\n",
              " ('model.decoder.layers.6.self_attn.q_proj.lora_A.default.weight',\n",
              "  torch.float32),\n",
              " ('model.decoder.layers.6.self_attn.q_proj.lora_B.default.weight',\n",
              "  torch.float32),\n",
              " ('model.decoder.layers.7.self_attn.v_proj.lora_A.default.weight',\n",
              "  torch.float32),\n",
              " ('model.decoder.layers.7.self_attn.v_proj.lora_B.default.weight',\n",
              "  torch.float32),\n",
              " ('model.decoder.layers.7.self_attn.q_proj.lora_A.default.weight',\n",
              "  torch.float32),\n",
              " ('model.decoder.layers.7.self_attn.q_proj.lora_B.default.weight',\n",
              "  torch.float32),\n",
              " ('model.decoder.layers.8.self_attn.v_proj.lora_A.default.weight',\n",
              "  torch.float32),\n",
              " ('model.decoder.layers.8.self_attn.v_proj.lora_B.default.weight',\n",
              "  torch.float32),\n",
              " ('model.decoder.layers.8.self_attn.q_proj.lora_A.default.weight',\n",
              "  torch.float32),\n",
              " ('model.decoder.layers.8.self_attn.q_proj.lora_B.default.weight',\n",
              "  torch.float32),\n",
              " ('model.decoder.layers.9.self_attn.v_proj.lora_A.default.weight',\n",
              "  torch.float32),\n",
              " ('model.decoder.layers.9.self_attn.v_proj.lora_B.default.weight',\n",
              "  torch.float32),\n",
              " ('model.decoder.layers.9.self_attn.q_proj.lora_A.default.weight',\n",
              "  torch.float32),\n",
              " ('model.decoder.layers.9.self_attn.q_proj.lora_B.default.weight',\n",
              "  torch.float32),\n",
              " ('model.decoder.layers.10.self_attn.v_proj.lora_A.default.weight',\n",
              "  torch.float32),\n",
              " ('model.decoder.layers.10.self_attn.v_proj.lora_B.default.weight',\n",
              "  torch.float32),\n",
              " ('model.decoder.layers.10.self_attn.q_proj.lora_A.default.weight',\n",
              "  torch.float32),\n",
              " ('model.decoder.layers.10.self_attn.q_proj.lora_B.default.weight',\n",
              "  torch.float32),\n",
              " ('model.decoder.layers.11.self_attn.v_proj.lora_A.default.weight',\n",
              "  torch.float32),\n",
              " ('model.decoder.layers.11.self_attn.v_proj.lora_B.default.weight',\n",
              "  torch.float32),\n",
              " ('model.decoder.layers.11.self_attn.q_proj.lora_A.default.weight',\n",
              "  torch.float32),\n",
              " ('model.decoder.layers.11.self_attn.q_proj.lora_B.default.weight',\n",
              "  torch.float32),\n",
              " ('model.decoder.layers.12.self_attn.v_proj.lora_A.default.weight',\n",
              "  torch.float32),\n",
              " ('model.decoder.layers.12.self_attn.v_proj.lora_B.default.weight',\n",
              "  torch.float32),\n",
              " ('model.decoder.layers.12.self_attn.q_proj.lora_A.default.weight',\n",
              "  torch.float32),\n",
              " ('model.decoder.layers.12.self_attn.q_proj.lora_B.default.weight',\n",
              "  torch.float32),\n",
              " ('model.decoder.layers.13.self_attn.v_proj.lora_A.default.weight',\n",
              "  torch.float32),\n",
              " ('model.decoder.layers.13.self_attn.v_proj.lora_B.default.weight',\n",
              "  torch.float32),\n",
              " ('model.decoder.layers.13.self_attn.q_proj.lora_A.default.weight',\n",
              "  torch.float32),\n",
              " ('model.decoder.layers.13.self_attn.q_proj.lora_B.default.weight',\n",
              "  torch.float32),\n",
              " ('model.decoder.layers.14.self_attn.v_proj.lora_A.default.weight',\n",
              "  torch.float32),\n",
              " ('model.decoder.layers.14.self_attn.v_proj.lora_B.default.weight',\n",
              "  torch.float32),\n",
              " ('model.decoder.layers.14.self_attn.q_proj.lora_A.default.weight',\n",
              "  torch.float32),\n",
              " ('model.decoder.layers.14.self_attn.q_proj.lora_B.default.weight',\n",
              "  torch.float32),\n",
              " ('model.decoder.layers.15.self_attn.v_proj.lora_A.default.weight',\n",
              "  torch.float32),\n",
              " ('model.decoder.layers.15.self_attn.v_proj.lora_B.default.weight',\n",
              "  torch.float32),\n",
              " ('model.decoder.layers.15.self_attn.q_proj.lora_A.default.weight',\n",
              "  torch.float32),\n",
              " ('model.decoder.layers.15.self_attn.q_proj.lora_B.default.weight',\n",
              "  torch.float32),\n",
              " ('model.decoder.layers.16.self_attn.v_proj.lora_A.default.weight',\n",
              "  torch.float32),\n",
              " ('model.decoder.layers.16.self_attn.v_proj.lora_B.default.weight',\n",
              "  torch.float32),\n",
              " ('model.decoder.layers.16.self_attn.q_proj.lora_A.default.weight',\n",
              "  torch.float32),\n",
              " ('model.decoder.layers.16.self_attn.q_proj.lora_B.default.weight',\n",
              "  torch.float32),\n",
              " ('model.decoder.layers.17.self_attn.v_proj.lora_A.default.weight',\n",
              "  torch.float32),\n",
              " ('model.decoder.layers.17.self_attn.v_proj.lora_B.default.weight',\n",
              "  torch.float32),\n",
              " ('model.decoder.layers.17.self_attn.q_proj.lora_A.default.weight',\n",
              "  torch.float32),\n",
              " ('model.decoder.layers.17.self_attn.q_proj.lora_B.default.weight',\n",
              "  torch.float32),\n",
              " ('model.decoder.layers.18.self_attn.v_proj.lora_A.default.weight',\n",
              "  torch.float32),\n",
              " ('model.decoder.layers.18.self_attn.v_proj.lora_B.default.weight',\n",
              "  torch.float32),\n",
              " ('model.decoder.layers.18.self_attn.q_proj.lora_A.default.weight',\n",
              "  torch.float32),\n",
              " ('model.decoder.layers.18.self_attn.q_proj.lora_B.default.weight',\n",
              "  torch.float32),\n",
              " ('model.decoder.layers.19.self_attn.v_proj.lora_A.default.weight',\n",
              "  torch.float32),\n",
              " ('model.decoder.layers.19.self_attn.v_proj.lora_B.default.weight',\n",
              "  torch.float32),\n",
              " ('model.decoder.layers.19.self_attn.q_proj.lora_A.default.weight',\n",
              "  torch.float32),\n",
              " ('model.decoder.layers.19.self_attn.q_proj.lora_B.default.weight',\n",
              "  torch.float32),\n",
              " ('model.decoder.layers.20.self_attn.v_proj.lora_A.default.weight',\n",
              "  torch.float32),\n",
              " ('model.decoder.layers.20.self_attn.v_proj.lora_B.default.weight',\n",
              "  torch.float32),\n",
              " ('model.decoder.layers.20.self_attn.q_proj.lora_A.default.weight',\n",
              "  torch.float32),\n",
              " ('model.decoder.layers.20.self_attn.q_proj.lora_B.default.weight',\n",
              "  torch.float32),\n",
              " ('model.decoder.layers.21.self_attn.v_proj.lora_A.default.weight',\n",
              "  torch.float32),\n",
              " ('model.decoder.layers.21.self_attn.v_proj.lora_B.default.weight',\n",
              "  torch.float32),\n",
              " ('model.decoder.layers.21.self_attn.q_proj.lora_A.default.weight',\n",
              "  torch.float32),\n",
              " ('model.decoder.layers.21.self_attn.q_proj.lora_B.default.weight',\n",
              "  torch.float32),\n",
              " ('model.decoder.layers.22.self_attn.v_proj.lora_A.default.weight',\n",
              "  torch.float32),\n",
              " ('model.decoder.layers.22.self_attn.v_proj.lora_B.default.weight',\n",
              "  torch.float32),\n",
              " ('model.decoder.layers.22.self_attn.q_proj.lora_A.default.weight',\n",
              "  torch.float32),\n",
              " ('model.decoder.layers.22.self_attn.q_proj.lora_B.default.weight',\n",
              "  torch.float32),\n",
              " ('model.decoder.layers.23.self_attn.v_proj.lora_A.default.weight',\n",
              "  torch.float32),\n",
              " ('model.decoder.layers.23.self_attn.v_proj.lora_B.default.weight',\n",
              "  torch.float32),\n",
              " ('model.decoder.layers.23.self_attn.q_proj.lora_A.default.weight',\n",
              "  torch.float32),\n",
              " ('model.decoder.layers.23.self_attn.q_proj.lora_B.default.weight',\n",
              "  torch.float32)]"
            ]
          },
          "metadata": {},
          "execution_count": 29
        }
      ],
      "source": [
        "trainable_parms(peft_model.base_model.model)"
      ]
    },
    {
      "cell_type": "markdown",
      "id": "0565b542",
      "metadata": {
        "id": "0565b542"
      },
      "source": [
        "#### `modules_to_save`"
      ]
    },
    {
      "cell_type": "code",
      "execution_count": 30,
      "id": "ed675139",
      "metadata": {
        "id": "ed675139"
      },
      "outputs": [],
      "source": [
        "config = LoraConfig(\n",
        "    r=8,\n",
        "    lora_alpha=16,\n",
        "    lora_dropout=0.05,\n",
        "    bias=\"none\",\n",
        "    task_type=\"CAUSAL_LM\",\n",
        "    modules_to_save=['layer_norm']\n",
        ")"
      ]
    },
    {
      "cell_type": "code",
      "execution_count": 31,
      "id": "0aca96ce",
      "metadata": {
        "id": "0aca96ce"
      },
      "outputs": [],
      "source": [
        "# Since the model is modified in-place, we need to unload adapters\n",
        "# from previous configuration to avoid mixing them.\n",
        "# In a regular workflow, you'd load configuration only once and\n",
        "# this wouldn't be needed.\n",
        "_ = peft_model.unload()"
      ]
    },
    {
      "cell_type": "code",
      "execution_count": 32,
      "id": "43f0c0be",
      "metadata": {
        "colab": {
          "base_uri": "https://localhost:8080/",
          "height": 94
        },
        "id": "43f0c0be",
        "outputId": "19302281-72c7-4e60-ca7b-a8f63f97a72a"
      },
      "outputs": [
        {
          "output_type": "stream",
          "name": "stderr",
          "text": [
            "/usr/local/lib/python3.11/dist-packages/peft/tuners/tuners_utils.py:190: UserWarning: Already found a `peft_config` attribute in the model. This will lead to having multiple adapters in the model. Make sure to know what you are doing!\n",
            "  warnings.warn(\n"
          ]
        },
        {
          "output_type": "stream",
          "name": "stdout",
          "text": [
            "trainable params: 884,736 || all params: 332,081,152 || trainable%: 0.2664\n"
          ]
        }
      ],
      "source": [
        "peft_model = get_peft_model(prepared_model, config)\n",
        "peft_model.print_trainable_parameters()"
      ]
    },
    {
      "cell_type": "markdown",
      "id": "f3b6c873",
      "metadata": {
        "id": "f3b6c873"
      },
      "source": [
        "#### Embeddings"
      ]
    },
    {
      "cell_type": "code",
      "execution_count": 33,
      "id": "9414bbfa",
      "metadata": {
        "id": "9414bbfa"
      },
      "outputs": [],
      "source": [
        "config = LoraConfig(\n",
        "    r=8,\n",
        "    lora_alpha=16,\n",
        "    lora_dropout=0.05,\n",
        "    bias=\"none\",\n",
        "    task_type=\"CAUSAL_LM\",\n",
        "    modules_to_save=['layer_norm', 'embed_tokens']\n",
        ")"
      ]
    },
    {
      "cell_type": "code",
      "execution_count": 34,
      "id": "c5434635",
      "metadata": {
        "id": "c5434635"
      },
      "outputs": [],
      "source": [
        "# Since the model is modified in-place, we need to unload adapters\n",
        "# from previous configuration to avoid mixing them.\n",
        "# In a regular workflow, you'd load configuration only once and\n",
        "# this wouldn't be needed.\n",
        "_ = peft_model.unload()"
      ]
    },
    {
      "cell_type": "code",
      "execution_count": 35,
      "id": "2ce91d50",
      "metadata": {
        "colab": {
          "base_uri": "https://localhost:8080/"
        },
        "id": "2ce91d50",
        "outputId": "fea129de-1af1-4221-f736-e2e47bfdca20"
      },
      "outputs": [
        {
          "output_type": "stream",
          "name": "stdout",
          "text": [
            "trainable params: 26,624,000 || all params: 357,820,416 || trainable%: 7.4406\n"
          ]
        }
      ],
      "source": [
        "peft_model = get_peft_model(prepared_model, config)\n",
        "peft_model.print_trainable_parameters()"
      ]
    },
    {
      "cell_type": "code",
      "execution_count": 36,
      "id": "f5e995e3",
      "metadata": {
        "id": "f5e995e3"
      },
      "outputs": [],
      "source": [
        "config = LoraConfig(\n",
        "    r=8,\n",
        "    lora_alpha=16,\n",
        "    lora_dropout=0.05,\n",
        "    bias=\"none\",\n",
        "    task_type=\"CAUSAL_LM\",\n",
        "    target_modules=['embed_tokens', 'q_proj', 'v_proj']\n",
        ")"
      ]
    },
    {
      "cell_type": "code",
      "execution_count": 37,
      "id": "fc4922bb",
      "metadata": {
        "id": "fc4922bb"
      },
      "outputs": [],
      "source": [
        "# Since the model is modified in-place, we need to unload adapters\n",
        "# from previous configuration to avoid mixing them.\n",
        "# In a regular workflow, you'd load configuration only once and\n",
        "# this wouldn't be needed.\n",
        "_ = peft_model.unload()"
      ]
    },
    {
      "cell_type": "code",
      "execution_count": 38,
      "id": "1f639794",
      "metadata": {
        "colab": {
          "base_uri": "https://localhost:8080/"
        },
        "id": "1f639794",
        "outputId": "b3cc8655-fd4b-4269-ceb8-541718193ddf"
      },
      "outputs": [
        {
          "output_type": "stream",
          "name": "stdout",
          "text": [
            "trainable params: 1,192,704 || all params: 358,128,384 || trainable%: 0.3330\n"
          ]
        },
        {
          "output_type": "stream",
          "name": "stderr",
          "text": [
            "/usr/local/lib/python3.11/dist-packages/peft/tuners/tuners_utils.py:574: UserWarning: Model with `tie_word_embeddings=True` and the tied_target_modules=['model.decoder.embed_tokens'] are part of the adapter. This can lead to complications, for example when merging the adapter or converting your model to formats other than safetensors. See for example https://github.com/huggingface/peft/issues/2018.\n",
            "  warnings.warn(\n"
          ]
        }
      ],
      "source": [
        "peft_model = get_peft_model(prepared_model, config)\n",
        "peft_model.print_trainable_parameters()"
      ]
    },
    {
      "cell_type": "code",
      "execution_count": 39,
      "id": "8375dd51",
      "metadata": {
        "colab": {
          "base_uri": "https://localhost:8080/"
        },
        "id": "8375dd51",
        "outputId": "07355aaa-00f9-4a2f-e9d7-e8b750bca3a0"
      },
      "outputs": [
        {
          "output_type": "execute_result",
          "data": {
            "text/plain": [
              "lora.Embedding(\n",
              "  (base_layer): Embedding(50272, 512, padding_idx=1)\n",
              "  (lora_dropout): ModuleDict(\n",
              "    (default): Dropout(p=0.05, inplace=False)\n",
              "  )\n",
              "  (lora_A): ModuleDict()\n",
              "  (lora_B): ModuleDict()\n",
              "  (lora_embedding_A): ParameterDict(  (default): Parameter containing: [torch.cuda.FloatTensor of size 8x50272 (cuda:0)])\n",
              "  (lora_embedding_B): ParameterDict(  (default): Parameter containing: [torch.cuda.FloatTensor of size 512x8 (cuda:0)])\n",
              "  (lora_magnitude_vector): ModuleDict()\n",
              ")"
            ]
          },
          "metadata": {},
          "execution_count": 39
        }
      ],
      "source": [
        "lin = peft_model.base_model.model.model.decoder.embed_tokens\n",
        "lin"
      ]
    },
    {
      "cell_type": "markdown",
      "id": "b26dc0a9",
      "metadata": {
        "id": "b26dc0a9"
      },
      "source": [
        "#### Managing Adapters"
      ]
    },
    {
      "cell_type": "code",
      "execution_count": 40,
      "id": "55eb913a",
      "metadata": {
        "colab": {
          "base_uri": "https://localhost:8080/",
          "height": 157,
          "referenced_widgets": [
            "3d6f18b7c8fa439183e65a222664f77a",
            "2d61c85e9f794f169656b2c1988bc1cf",
            "1eab5bd292344892a1fefafeb23076d6",
            "18ad68b12175454d816ea0ecf1126655",
            "c53cf7b4dd1a4e40bfab123c366193e2",
            "4b2ecb7c14fb415aab76b6f0f44d735a",
            "a17c244873584480a1f6ebca0fcf4c7c",
            "e54dbed583fa437f92ae4a12d7330687",
            "7fb4b906fc7a49dba90f28c8d3b82c4b",
            "306ce9a8a71e40d695fc5cc7d4452db7",
            "d5b224fccd764280ae67891882f5dede",
            "21410d8f757c4f72af6cbbf2a6910dfa",
            "7283fb1b36334a8e8e6a302c9690c6c4",
            "4aefe2c6bbd945be81bb57f570b1472f",
            "4ee0c05912ca4ff5b1d045162b4044cf",
            "52e1ee62af9e4982b6690ac4b39ee01d",
            "8b58e9ab7ec04c379ddfbb49baf70ca1",
            "c89d3c136302425c82b6d954ee2e763b",
            "26412b21ea784e1d93c78d2abfab6e17",
            "000df4b5209c4c3aa4c0c9898b1fb4c3",
            "f0d6ca8f385b41ad9502cd4ac426f8e5",
            "9669a2e8c58047b5bef635f1a4add6a6"
          ]
        },
        "id": "55eb913a",
        "outputId": "0854fc11-cf4f-4567-a4db-c2f25255ee92"
      },
      "outputs": [
        {
          "output_type": "display_data",
          "data": {
            "text/plain": [
              "adapter_config.json:   0%|          | 0.00/642 [00:00<?, ?B/s]"
            ],
            "application/vnd.jupyter.widget-view+json": {
              "version_major": 2,
              "version_minor": 0,
              "model_id": "3d6f18b7c8fa439183e65a222664f77a"
            }
          },
          "metadata": {}
        },
        {
          "output_type": "display_data",
          "data": {
            "text/plain": [
              "adapter_model.safetensors:   0%|          | 0.00/3.16M [00:00<?, ?B/s]"
            ],
            "application/vnd.jupyter.widget-view+json": {
              "version_major": 2,
              "version_minor": 0,
              "model_id": "21410d8f757c4f72af6cbbf2a6910dfa"
            }
          },
          "metadata": {}
        },
        {
          "output_type": "execute_result",
          "data": {
            "text/plain": [
              "ModuleDict(\n",
              "  (default): Linear(in_features=1024, out_features=8, bias=False)\n",
              "  (yoda): Linear(in_features=1024, out_features=8, bias=False)\n",
              ")"
            ]
          },
          "metadata": {},
          "execution_count": 40
        }
      ],
      "source": [
        "peft_model.load_adapter('dvgodoy/opt-350m-lora-yoda', adapter_name='yoda')\n",
        "lora_A = peft_model.base_model.model.model.decoder.layers[0].self_attn.q_proj.lora_A\n",
        "lora_A"
      ]
    },
    {
      "cell_type": "code",
      "execution_count": 41,
      "id": "2ceb7063",
      "metadata": {
        "colab": {
          "base_uri": "https://localhost:8080/"
        },
        "id": "2ceb7063",
        "outputId": "d7cfd449-7f74-4a83-d953-bd9b86feab73"
      },
      "outputs": [
        {
          "output_type": "stream",
          "name": "stderr",
          "text": [
            "/usr/local/lib/python3.11/dist-packages/peft/tuners/tuners_utils.py:574: UserWarning: Model with `tie_word_embeddings=True` and the tied_target_modules=['model.decoder.embed_tokens', 'model.decoder.embed_tokens'] are part of the adapter. This can lead to complications, for example when merging the adapter or converting your model to formats other than safetensors. See for example https://github.com/huggingface/peft/issues/2018.\n",
            "  warnings.warn(\n"
          ]
        },
        {
          "output_type": "execute_result",
          "data": {
            "text/plain": [
              "ModuleDict(\n",
              "  (default): Linear(in_features=1024, out_features=8, bias=False)\n",
              "  (yoda): Linear(in_features=1024, out_features=8, bias=False)\n",
              "  (third): Linear(in_features=1024, out_features=8, bias=False)\n",
              ")"
            ]
          },
          "metadata": {},
          "execution_count": 41
        }
      ],
      "source": [
        "peft_model.add_adapter(adapter_name='third', peft_config=config)\n",
        "lora_A"
      ]
    },
    {
      "cell_type": "code",
      "execution_count": 42,
      "id": "689d0c63",
      "metadata": {
        "colab": {
          "base_uri": "https://localhost:8080/"
        },
        "id": "689d0c63",
        "outputId": "f27009c5-4ae0-4bed-c2c9-2afff24ff360"
      },
      "outputs": [
        {
          "output_type": "execute_result",
          "data": {
            "text/plain": [
              "ModuleDict(\n",
              "  (default): Linear(in_features=1024, out_features=8, bias=False)\n",
              "  (yoda): Linear(in_features=1024, out_features=8, bias=False)\n",
              ")"
            ]
          },
          "metadata": {},
          "execution_count": 42
        }
      ],
      "source": [
        "peft_model.delete_adapter(adapter_name='third')\n",
        "lora_A"
      ]
    },
    {
      "cell_type": "code",
      "execution_count": 43,
      "id": "f65d0bb0",
      "metadata": {
        "colab": {
          "base_uri": "https://localhost:8080/"
        },
        "id": "f65d0bb0",
        "outputId": "1fa610c7-6e9b-41ac-e508-f674016f07b4"
      },
      "outputs": [
        {
          "output_type": "execute_result",
          "data": {
            "text/plain": [
              "dict_keys(['default', 'yoda'])"
            ]
          },
          "metadata": {},
          "execution_count": 43
        }
      ],
      "source": [
        "peft_model.peft_config.keys()"
      ]
    },
    {
      "cell_type": "code",
      "execution_count": 44,
      "id": "aed93286",
      "metadata": {
        "colab": {
          "base_uri": "https://localhost:8080/",
          "height": 36
        },
        "id": "aed93286",
        "outputId": "78af47f7-989d-456c-d199-76041263e790"
      },
      "outputs": [
        {
          "output_type": "execute_result",
          "data": {
            "text/plain": [
              "'default'"
            ],
            "application/vnd.google.colaboratory.intrinsic+json": {
              "type": "string"
            }
          },
          "metadata": {},
          "execution_count": 44
        }
      ],
      "source": [
        "peft_model.active_adapter"
      ]
    },
    {
      "cell_type": "code",
      "execution_count": 45,
      "id": "8a4a6d06",
      "metadata": {
        "colab": {
          "base_uri": "https://localhost:8080/",
          "height": 36
        },
        "id": "8a4a6d06",
        "outputId": "c5115556-e554-4036-aa32-e1c1b7129139"
      },
      "outputs": [
        {
          "output_type": "execute_result",
          "data": {
            "text/plain": [
              "'yoda'"
            ],
            "application/vnd.google.colaboratory.intrinsic+json": {
              "type": "string"
            }
          },
          "metadata": {},
          "execution_count": 45
        }
      ],
      "source": [
        "peft_model.set_adapter('yoda')\n",
        "peft_model.active_adapter"
      ]
    },
    {
      "cell_type": "markdown",
      "id": "c29965d0",
      "metadata": {
        "id": "c29965d0"
      },
      "source": [
        "```python\n",
        "with peft_model.disable_adapter():\n",
        "    original_outputs = peft_model(inputs)\n",
        "\n",
        "original_outputs = peft_model.base_model(inputs)\n",
        "```"
      ]
    },
    {
      "cell_type": "code",
      "execution_count": 46,
      "id": "da1989ad",
      "metadata": {
        "colab": {
          "base_uri": "https://localhost:8080/",
          "height": 532
        },
        "id": "da1989ad",
        "outputId": "2c79d014-3d0a-4e24-830b-e01b0d620104"
      },
      "outputs": [
        {
          "output_type": "stream",
          "name": "stderr",
          "text": [
            "/usr/local/lib/python3.11/dist-packages/peft/tuners/tuners_utils.py:415: UserWarning: Model with `tie_word_embeddings=True` and the tied_target_modules=['model.decoder.embed_tokens', 'model.decoder.embed_tokens'] are part of the adapter. This can lead to complications. You can opt to merge the adapter after cloning the weights (to untie the embeddings). You can untie the embeddings by loading the model with `tie_word_embeddings=False`. For example:\n",
            "```python\n",
            "from transformers import AutoModelForCausalLM\n",
            "\n",
            "# Load original tied model\n",
            "model = AutoModelForCausalLM.from_pretrained(\"google/gemma-2-2b-it\", tie_word_embeddings=False)\n",
            "\n",
            "# Set the randomly initialized lm_head to the previously tied embeddings\n",
            "model.lm_head.weight.data = model.model.embed_tokens.weight.data.clone()\n",
            "\n",
            "# Save the untied model\n",
            "untied_model_dir = \"dir/for/untied/model\"\n",
            "model.save_pretrained(untied_model_dir)\n",
            "model.config.save_pretrained(untied_model_dir)\n",
            "\n",
            "# Now use the original model but in untied format\n",
            "model = AutoModelForCausalLM.from_pretrained(untied_model_dir)\n",
            "```\n",
            "\n",
            "  warnings.warn(\n",
            "/usr/local/lib/python3.11/dist-packages/peft/tuners/lora/bnb.py:348: UserWarning: Merge lora module to 4-bit linear may get different generations due to rounding errors.\n",
            "  warnings.warn(\n"
          ]
        },
        {
          "output_type": "execute_result",
          "data": {
            "text/plain": [
              "ModuleDict(\n",
              "  (default): Linear(in_features=1024, out_features=8, bias=False)\n",
              "  (yoda): Linear(in_features=1024, out_features=8, bias=False)\n",
              ")"
            ]
          },
          "metadata": {},
          "execution_count": 46
        }
      ],
      "source": [
        "peft_model.merge_adapter(adapter_names=['yoda'])\n",
        "lora_A"
      ]
    },
    {
      "cell_type": "code",
      "execution_count": 47,
      "id": "c2018ce5",
      "metadata": {
        "colab": {
          "base_uri": "https://localhost:8080/"
        },
        "id": "c2018ce5",
        "outputId": "2f35ff8b-a2fa-4031-cba0-c298c9ed4066"
      },
      "outputs": [
        {
          "output_type": "execute_result",
          "data": {
            "text/plain": [
              "OPTAttention(\n",
              "  (k_proj): Linear4bit(in_features=1024, out_features=1024, bias=True)\n",
              "  (v_proj): Linear4bit(in_features=1024, out_features=1024, bias=True)\n",
              "  (q_proj): Linear4bit(in_features=1024, out_features=1024, bias=True)\n",
              "  (out_proj): Linear4bit(in_features=1024, out_features=1024, bias=True)\n",
              ")"
            ]
          },
          "metadata": {},
          "execution_count": 47
        }
      ],
      "source": [
        "peft_model.unload()\n",
        "peft_model.base_model.model.model.decoder.layers[0].self_attn"
      ]
    },
    {
      "cell_type": "markdown",
      "id": "ab320816",
      "metadata": {
        "id": "ab320816"
      },
      "source": [
        "### Coming Up in \"Fine-Tuning LLMs\"\n",
        "\n",
        "Low-rank adapters saved the day by swooping in and enabling fast and cheap fine-tuning for LLMs. These humongous models, although powerful, are masters of a single trade—predicting the next token—thus remaining limited by the structure of their inputs. A new kind of input must be developed to enable these creatures to chat. Learn more about the incredible tale of chat templates in the next chapter of \"Fine-Tuning LLMs.\""
      ]
    }
  ],
  "metadata": {
    "accelerator": "GPU",
    "colab": {
      "gpuType": "T4",
      "provenance": [],
      "include_colab_link": true
    },
    "kernelspec": {
      "display_name": "Python 3 (ipykernel)",
      "language": "python",
      "name": "python3"
    },
    "language_info": {
      "codemirror_mode": {
        "name": "ipython",
        "version": 3
      },
      "file_extension": ".py",
      "mimetype": "text/x-python",
      "name": "python",
      "nbconvert_exporter": "python",
      "pygments_lexer": "ipython3",
      "version": "3.11.5"
    },
    "widgets": {
      "application/vnd.jupyter.widget-state+json": {
        "c10d1e90f1414031ae85ef005fd659ab": {
          "model_module": "@jupyter-widgets/controls",
          "model_name": "HBoxModel",
          "model_module_version": "1.5.0",
          "state": {
            "_dom_classes": [],
            "_model_module": "@jupyter-widgets/controls",
            "_model_module_version": "1.5.0",
            "_model_name": "HBoxModel",
            "_view_count": null,
            "_view_module": "@jupyter-widgets/controls",
            "_view_module_version": "1.5.0",
            "_view_name": "HBoxView",
            "box_style": "",
            "children": [
              "IPY_MODEL_673255107d5b495e9ed2f4ecb1bd262f",
              "IPY_MODEL_ccb4021380024e88a8ef24a2d10bff55",
              "IPY_MODEL_6784a386a747480eae01042166bc0bc7"
            ],
            "layout": "IPY_MODEL_ed650bb596ee4b97918efc53736fba98"
          }
        },
        "673255107d5b495e9ed2f4ecb1bd262f": {
          "model_module": "@jupyter-widgets/controls",
          "model_name": "HTMLModel",
          "model_module_version": "1.5.0",
          "state": {
            "_dom_classes": [],
            "_model_module": "@jupyter-widgets/controls",
            "_model_module_version": "1.5.0",
            "_model_name": "HTMLModel",
            "_view_count": null,
            "_view_module": "@jupyter-widgets/controls",
            "_view_module_version": "1.5.0",
            "_view_name": "HTMLView",
            "description": "",
            "description_tooltip": null,
            "layout": "IPY_MODEL_54fdfe44328f43d2b7221d2977e1652d",
            "placeholder": "​",
            "style": "IPY_MODEL_d510daa403e94f89b330a2f35c10a645",
            "value": "config.json: 100%"
          }
        },
        "ccb4021380024e88a8ef24a2d10bff55": {
          "model_module": "@jupyter-widgets/controls",
          "model_name": "FloatProgressModel",
          "model_module_version": "1.5.0",
          "state": {
            "_dom_classes": [],
            "_model_module": "@jupyter-widgets/controls",
            "_model_module_version": "1.5.0",
            "_model_name": "FloatProgressModel",
            "_view_count": null,
            "_view_module": "@jupyter-widgets/controls",
            "_view_module_version": "1.5.0",
            "_view_name": "ProgressView",
            "bar_style": "success",
            "description": "",
            "description_tooltip": null,
            "layout": "IPY_MODEL_2a0cadadc47d423e8c67f46ed2614e5b",
            "max": 644,
            "min": 0,
            "orientation": "horizontal",
            "style": "IPY_MODEL_28e63f9692ea4709b2a5da6fe58793fc",
            "value": 644
          }
        },
        "6784a386a747480eae01042166bc0bc7": {
          "model_module": "@jupyter-widgets/controls",
          "model_name": "HTMLModel",
          "model_module_version": "1.5.0",
          "state": {
            "_dom_classes": [],
            "_model_module": "@jupyter-widgets/controls",
            "_model_module_version": "1.5.0",
            "_model_name": "HTMLModel",
            "_view_count": null,
            "_view_module": "@jupyter-widgets/controls",
            "_view_module_version": "1.5.0",
            "_view_name": "HTMLView",
            "description": "",
            "description_tooltip": null,
            "layout": "IPY_MODEL_56279b549c1949f280ccb1db382a76d9",
            "placeholder": "​",
            "style": "IPY_MODEL_5a42d5cc1b2444c8a1b7a8974b30e4c7",
            "value": " 644/644 [00:00&lt;00:00, 21.6kB/s]"
          }
        },
        "ed650bb596ee4b97918efc53736fba98": {
          "model_module": "@jupyter-widgets/base",
          "model_name": "LayoutModel",
          "model_module_version": "1.2.0",
          "state": {
            "_model_module": "@jupyter-widgets/base",
            "_model_module_version": "1.2.0",
            "_model_name": "LayoutModel",
            "_view_count": null,
            "_view_module": "@jupyter-widgets/base",
            "_view_module_version": "1.2.0",
            "_view_name": "LayoutView",
            "align_content": null,
            "align_items": null,
            "align_self": null,
            "border": null,
            "bottom": null,
            "display": null,
            "flex": null,
            "flex_flow": null,
            "grid_area": null,
            "grid_auto_columns": null,
            "grid_auto_flow": null,
            "grid_auto_rows": null,
            "grid_column": null,
            "grid_gap": null,
            "grid_row": null,
            "grid_template_areas": null,
            "grid_template_columns": null,
            "grid_template_rows": null,
            "height": null,
            "justify_content": null,
            "justify_items": null,
            "left": null,
            "margin": null,
            "max_height": null,
            "max_width": null,
            "min_height": null,
            "min_width": null,
            "object_fit": null,
            "object_position": null,
            "order": null,
            "overflow": null,
            "overflow_x": null,
            "overflow_y": null,
            "padding": null,
            "right": null,
            "top": null,
            "visibility": null,
            "width": null
          }
        },
        "54fdfe44328f43d2b7221d2977e1652d": {
          "model_module": "@jupyter-widgets/base",
          "model_name": "LayoutModel",
          "model_module_version": "1.2.0",
          "state": {
            "_model_module": "@jupyter-widgets/base",
            "_model_module_version": "1.2.0",
            "_model_name": "LayoutModel",
            "_view_count": null,
            "_view_module": "@jupyter-widgets/base",
            "_view_module_version": "1.2.0",
            "_view_name": "LayoutView",
            "align_content": null,
            "align_items": null,
            "align_self": null,
            "border": null,
            "bottom": null,
            "display": null,
            "flex": null,
            "flex_flow": null,
            "grid_area": null,
            "grid_auto_columns": null,
            "grid_auto_flow": null,
            "grid_auto_rows": null,
            "grid_column": null,
            "grid_gap": null,
            "grid_row": null,
            "grid_template_areas": null,
            "grid_template_columns": null,
            "grid_template_rows": null,
            "height": null,
            "justify_content": null,
            "justify_items": null,
            "left": null,
            "margin": null,
            "max_height": null,
            "max_width": null,
            "min_height": null,
            "min_width": null,
            "object_fit": null,
            "object_position": null,
            "order": null,
            "overflow": null,
            "overflow_x": null,
            "overflow_y": null,
            "padding": null,
            "right": null,
            "top": null,
            "visibility": null,
            "width": null
          }
        },
        "d510daa403e94f89b330a2f35c10a645": {
          "model_module": "@jupyter-widgets/controls",
          "model_name": "DescriptionStyleModel",
          "model_module_version": "1.5.0",
          "state": {
            "_model_module": "@jupyter-widgets/controls",
            "_model_module_version": "1.5.0",
            "_model_name": "DescriptionStyleModel",
            "_view_count": null,
            "_view_module": "@jupyter-widgets/base",
            "_view_module_version": "1.2.0",
            "_view_name": "StyleView",
            "description_width": ""
          }
        },
        "2a0cadadc47d423e8c67f46ed2614e5b": {
          "model_module": "@jupyter-widgets/base",
          "model_name": "LayoutModel",
          "model_module_version": "1.2.0",
          "state": {
            "_model_module": "@jupyter-widgets/base",
            "_model_module_version": "1.2.0",
            "_model_name": "LayoutModel",
            "_view_count": null,
            "_view_module": "@jupyter-widgets/base",
            "_view_module_version": "1.2.0",
            "_view_name": "LayoutView",
            "align_content": null,
            "align_items": null,
            "align_self": null,
            "border": null,
            "bottom": null,
            "display": null,
            "flex": null,
            "flex_flow": null,
            "grid_area": null,
            "grid_auto_columns": null,
            "grid_auto_flow": null,
            "grid_auto_rows": null,
            "grid_column": null,
            "grid_gap": null,
            "grid_row": null,
            "grid_template_areas": null,
            "grid_template_columns": null,
            "grid_template_rows": null,
            "height": null,
            "justify_content": null,
            "justify_items": null,
            "left": null,
            "margin": null,
            "max_height": null,
            "max_width": null,
            "min_height": null,
            "min_width": null,
            "object_fit": null,
            "object_position": null,
            "order": null,
            "overflow": null,
            "overflow_x": null,
            "overflow_y": null,
            "padding": null,
            "right": null,
            "top": null,
            "visibility": null,
            "width": null
          }
        },
        "28e63f9692ea4709b2a5da6fe58793fc": {
          "model_module": "@jupyter-widgets/controls",
          "model_name": "ProgressStyleModel",
          "model_module_version": "1.5.0",
          "state": {
            "_model_module": "@jupyter-widgets/controls",
            "_model_module_version": "1.5.0",
            "_model_name": "ProgressStyleModel",
            "_view_count": null,
            "_view_module": "@jupyter-widgets/base",
            "_view_module_version": "1.2.0",
            "_view_name": "StyleView",
            "bar_color": null,
            "description_width": ""
          }
        },
        "56279b549c1949f280ccb1db382a76d9": {
          "model_module": "@jupyter-widgets/base",
          "model_name": "LayoutModel",
          "model_module_version": "1.2.0",
          "state": {
            "_model_module": "@jupyter-widgets/base",
            "_model_module_version": "1.2.0",
            "_model_name": "LayoutModel",
            "_view_count": null,
            "_view_module": "@jupyter-widgets/base",
            "_view_module_version": "1.2.0",
            "_view_name": "LayoutView",
            "align_content": null,
            "align_items": null,
            "align_self": null,
            "border": null,
            "bottom": null,
            "display": null,
            "flex": null,
            "flex_flow": null,
            "grid_area": null,
            "grid_auto_columns": null,
            "grid_auto_flow": null,
            "grid_auto_rows": null,
            "grid_column": null,
            "grid_gap": null,
            "grid_row": null,
            "grid_template_areas": null,
            "grid_template_columns": null,
            "grid_template_rows": null,
            "height": null,
            "justify_content": null,
            "justify_items": null,
            "left": null,
            "margin": null,
            "max_height": null,
            "max_width": null,
            "min_height": null,
            "min_width": null,
            "object_fit": null,
            "object_position": null,
            "order": null,
            "overflow": null,
            "overflow_x": null,
            "overflow_y": null,
            "padding": null,
            "right": null,
            "top": null,
            "visibility": null,
            "width": null
          }
        },
        "5a42d5cc1b2444c8a1b7a8974b30e4c7": {
          "model_module": "@jupyter-widgets/controls",
          "model_name": "DescriptionStyleModel",
          "model_module_version": "1.5.0",
          "state": {
            "_model_module": "@jupyter-widgets/controls",
            "_model_module_version": "1.5.0",
            "_model_name": "DescriptionStyleModel",
            "_view_count": null,
            "_view_module": "@jupyter-widgets/base",
            "_view_module_version": "1.2.0",
            "_view_name": "StyleView",
            "description_width": ""
          }
        },
        "7fe07976fab442d5900f156ec7b01cd0": {
          "model_module": "@jupyter-widgets/controls",
          "model_name": "HBoxModel",
          "model_module_version": "1.5.0",
          "state": {
            "_dom_classes": [],
            "_model_module": "@jupyter-widgets/controls",
            "_model_module_version": "1.5.0",
            "_model_name": "HBoxModel",
            "_view_count": null,
            "_view_module": "@jupyter-widgets/controls",
            "_view_module_version": "1.5.0",
            "_view_name": "HBoxView",
            "box_style": "",
            "children": [
              "IPY_MODEL_89b20f911e0042e29310785ad5df6ac4",
              "IPY_MODEL_0c08f17b85714a66834ce4ef8f360832",
              "IPY_MODEL_da8b10ac31b6439490880008d333fb97"
            ],
            "layout": "IPY_MODEL_7caf81e801b24b35bcadc5984fa72e03"
          }
        },
        "89b20f911e0042e29310785ad5df6ac4": {
          "model_module": "@jupyter-widgets/controls",
          "model_name": "HTMLModel",
          "model_module_version": "1.5.0",
          "state": {
            "_dom_classes": [],
            "_model_module": "@jupyter-widgets/controls",
            "_model_module_version": "1.5.0",
            "_model_name": "HTMLModel",
            "_view_count": null,
            "_view_module": "@jupyter-widgets/controls",
            "_view_module_version": "1.5.0",
            "_view_name": "HTMLView",
            "description": "",
            "description_tooltip": null,
            "layout": "IPY_MODEL_8a37ef057622452aaf4b32792a2001c5",
            "placeholder": "​",
            "style": "IPY_MODEL_30f601b9ae01499f9f1bd4e3b699a108",
            "value": "pytorch_model.bin: 100%"
          }
        },
        "0c08f17b85714a66834ce4ef8f360832": {
          "model_module": "@jupyter-widgets/controls",
          "model_name": "FloatProgressModel",
          "model_module_version": "1.5.0",
          "state": {
            "_dom_classes": [],
            "_model_module": "@jupyter-widgets/controls",
            "_model_module_version": "1.5.0",
            "_model_name": "FloatProgressModel",
            "_view_count": null,
            "_view_module": "@jupyter-widgets/controls",
            "_view_module_version": "1.5.0",
            "_view_name": "ProgressView",
            "bar_style": "success",
            "description": "",
            "description_tooltip": null,
            "layout": "IPY_MODEL_4f87154125754e14b05f31fc1aa4b80f",
            "max": 662513657,
            "min": 0,
            "orientation": "horizontal",
            "style": "IPY_MODEL_e6f465c04d5742d2ae5362b192d7bbd2",
            "value": 662513657
          }
        },
        "da8b10ac31b6439490880008d333fb97": {
          "model_module": "@jupyter-widgets/controls",
          "model_name": "HTMLModel",
          "model_module_version": "1.5.0",
          "state": {
            "_dom_classes": [],
            "_model_module": "@jupyter-widgets/controls",
            "_model_module_version": "1.5.0",
            "_model_name": "HTMLModel",
            "_view_count": null,
            "_view_module": "@jupyter-widgets/controls",
            "_view_module_version": "1.5.0",
            "_view_name": "HTMLView",
            "description": "",
            "description_tooltip": null,
            "layout": "IPY_MODEL_bb32e9127e644f139b88dee60aec80b5",
            "placeholder": "​",
            "style": "IPY_MODEL_01c180a4f4ff4709b3e1590e173f6dad",
            "value": " 663M/663M [00:14&lt;00:00, 52.0MB/s]"
          }
        },
        "7caf81e801b24b35bcadc5984fa72e03": {
          "model_module": "@jupyter-widgets/base",
          "model_name": "LayoutModel",
          "model_module_version": "1.2.0",
          "state": {
            "_model_module": "@jupyter-widgets/base",
            "_model_module_version": "1.2.0",
            "_model_name": "LayoutModel",
            "_view_count": null,
            "_view_module": "@jupyter-widgets/base",
            "_view_module_version": "1.2.0",
            "_view_name": "LayoutView",
            "align_content": null,
            "align_items": null,
            "align_self": null,
            "border": null,
            "bottom": null,
            "display": null,
            "flex": null,
            "flex_flow": null,
            "grid_area": null,
            "grid_auto_columns": null,
            "grid_auto_flow": null,
            "grid_auto_rows": null,
            "grid_column": null,
            "grid_gap": null,
            "grid_row": null,
            "grid_template_areas": null,
            "grid_template_columns": null,
            "grid_template_rows": null,
            "height": null,
            "justify_content": null,
            "justify_items": null,
            "left": null,
            "margin": null,
            "max_height": null,
            "max_width": null,
            "min_height": null,
            "min_width": null,
            "object_fit": null,
            "object_position": null,
            "order": null,
            "overflow": null,
            "overflow_x": null,
            "overflow_y": null,
            "padding": null,
            "right": null,
            "top": null,
            "visibility": null,
            "width": null
          }
        },
        "8a37ef057622452aaf4b32792a2001c5": {
          "model_module": "@jupyter-widgets/base",
          "model_name": "LayoutModel",
          "model_module_version": "1.2.0",
          "state": {
            "_model_module": "@jupyter-widgets/base",
            "_model_module_version": "1.2.0",
            "_model_name": "LayoutModel",
            "_view_count": null,
            "_view_module": "@jupyter-widgets/base",
            "_view_module_version": "1.2.0",
            "_view_name": "LayoutView",
            "align_content": null,
            "align_items": null,
            "align_self": null,
            "border": null,
            "bottom": null,
            "display": null,
            "flex": null,
            "flex_flow": null,
            "grid_area": null,
            "grid_auto_columns": null,
            "grid_auto_flow": null,
            "grid_auto_rows": null,
            "grid_column": null,
            "grid_gap": null,
            "grid_row": null,
            "grid_template_areas": null,
            "grid_template_columns": null,
            "grid_template_rows": null,
            "height": null,
            "justify_content": null,
            "justify_items": null,
            "left": null,
            "margin": null,
            "max_height": null,
            "max_width": null,
            "min_height": null,
            "min_width": null,
            "object_fit": null,
            "object_position": null,
            "order": null,
            "overflow": null,
            "overflow_x": null,
            "overflow_y": null,
            "padding": null,
            "right": null,
            "top": null,
            "visibility": null,
            "width": null
          }
        },
        "30f601b9ae01499f9f1bd4e3b699a108": {
          "model_module": "@jupyter-widgets/controls",
          "model_name": "DescriptionStyleModel",
          "model_module_version": "1.5.0",
          "state": {
            "_model_module": "@jupyter-widgets/controls",
            "_model_module_version": "1.5.0",
            "_model_name": "DescriptionStyleModel",
            "_view_count": null,
            "_view_module": "@jupyter-widgets/base",
            "_view_module_version": "1.2.0",
            "_view_name": "StyleView",
            "description_width": ""
          }
        },
        "4f87154125754e14b05f31fc1aa4b80f": {
          "model_module": "@jupyter-widgets/base",
          "model_name": "LayoutModel",
          "model_module_version": "1.2.0",
          "state": {
            "_model_module": "@jupyter-widgets/base",
            "_model_module_version": "1.2.0",
            "_model_name": "LayoutModel",
            "_view_count": null,
            "_view_module": "@jupyter-widgets/base",
            "_view_module_version": "1.2.0",
            "_view_name": "LayoutView",
            "align_content": null,
            "align_items": null,
            "align_self": null,
            "border": null,
            "bottom": null,
            "display": null,
            "flex": null,
            "flex_flow": null,
            "grid_area": null,
            "grid_auto_columns": null,
            "grid_auto_flow": null,
            "grid_auto_rows": null,
            "grid_column": null,
            "grid_gap": null,
            "grid_row": null,
            "grid_template_areas": null,
            "grid_template_columns": null,
            "grid_template_rows": null,
            "height": null,
            "justify_content": null,
            "justify_items": null,
            "left": null,
            "margin": null,
            "max_height": null,
            "max_width": null,
            "min_height": null,
            "min_width": null,
            "object_fit": null,
            "object_position": null,
            "order": null,
            "overflow": null,
            "overflow_x": null,
            "overflow_y": null,
            "padding": null,
            "right": null,
            "top": null,
            "visibility": null,
            "width": null
          }
        },
        "e6f465c04d5742d2ae5362b192d7bbd2": {
          "model_module": "@jupyter-widgets/controls",
          "model_name": "ProgressStyleModel",
          "model_module_version": "1.5.0",
          "state": {
            "_model_module": "@jupyter-widgets/controls",
            "_model_module_version": "1.5.0",
            "_model_name": "ProgressStyleModel",
            "_view_count": null,
            "_view_module": "@jupyter-widgets/base",
            "_view_module_version": "1.2.0",
            "_view_name": "StyleView",
            "bar_color": null,
            "description_width": ""
          }
        },
        "bb32e9127e644f139b88dee60aec80b5": {
          "model_module": "@jupyter-widgets/base",
          "model_name": "LayoutModel",
          "model_module_version": "1.2.0",
          "state": {
            "_model_module": "@jupyter-widgets/base",
            "_model_module_version": "1.2.0",
            "_model_name": "LayoutModel",
            "_view_count": null,
            "_view_module": "@jupyter-widgets/base",
            "_view_module_version": "1.2.0",
            "_view_name": "LayoutView",
            "align_content": null,
            "align_items": null,
            "align_self": null,
            "border": null,
            "bottom": null,
            "display": null,
            "flex": null,
            "flex_flow": null,
            "grid_area": null,
            "grid_auto_columns": null,
            "grid_auto_flow": null,
            "grid_auto_rows": null,
            "grid_column": null,
            "grid_gap": null,
            "grid_row": null,
            "grid_template_areas": null,
            "grid_template_columns": null,
            "grid_template_rows": null,
            "height": null,
            "justify_content": null,
            "justify_items": null,
            "left": null,
            "margin": null,
            "max_height": null,
            "max_width": null,
            "min_height": null,
            "min_width": null,
            "object_fit": null,
            "object_position": null,
            "order": null,
            "overflow": null,
            "overflow_x": null,
            "overflow_y": null,
            "padding": null,
            "right": null,
            "top": null,
            "visibility": null,
            "width": null
          }
        },
        "01c180a4f4ff4709b3e1590e173f6dad": {
          "model_module": "@jupyter-widgets/controls",
          "model_name": "DescriptionStyleModel",
          "model_module_version": "1.5.0",
          "state": {
            "_model_module": "@jupyter-widgets/controls",
            "_model_module_version": "1.5.0",
            "_model_name": "DescriptionStyleModel",
            "_view_count": null,
            "_view_module": "@jupyter-widgets/base",
            "_view_module_version": "1.2.0",
            "_view_name": "StyleView",
            "description_width": ""
          }
        },
        "e60d14118129428cb82569f94e49276e": {
          "model_module": "@jupyter-widgets/controls",
          "model_name": "HBoxModel",
          "model_module_version": "1.5.0",
          "state": {
            "_dom_classes": [],
            "_model_module": "@jupyter-widgets/controls",
            "_model_module_version": "1.5.0",
            "_model_name": "HBoxModel",
            "_view_count": null,
            "_view_module": "@jupyter-widgets/controls",
            "_view_module_version": "1.5.0",
            "_view_name": "HBoxView",
            "box_style": "",
            "children": [
              "IPY_MODEL_cca18564dead4f6bb774a7f28b05153b",
              "IPY_MODEL_f390bac37fbf42969a439b99c1668d21",
              "IPY_MODEL_17f9841d4eaf4b71a10ad0109740ebcc"
            ],
            "layout": "IPY_MODEL_7e804fc1b3a74b86be0db9c08574e33b"
          }
        },
        "cca18564dead4f6bb774a7f28b05153b": {
          "model_module": "@jupyter-widgets/controls",
          "model_name": "HTMLModel",
          "model_module_version": "1.5.0",
          "state": {
            "_dom_classes": [],
            "_model_module": "@jupyter-widgets/controls",
            "_model_module_version": "1.5.0",
            "_model_name": "HTMLModel",
            "_view_count": null,
            "_view_module": "@jupyter-widgets/controls",
            "_view_module_version": "1.5.0",
            "_view_name": "HTMLView",
            "description": "",
            "description_tooltip": null,
            "layout": "IPY_MODEL_e8415033716941e480827c39f2f21392",
            "placeholder": "​",
            "style": "IPY_MODEL_ab2c1fb721b643a1876da7abcacfb9e7",
            "value": "model.safetensors: 100%"
          }
        },
        "f390bac37fbf42969a439b99c1668d21": {
          "model_module": "@jupyter-widgets/controls",
          "model_name": "FloatProgressModel",
          "model_module_version": "1.5.0",
          "state": {
            "_dom_classes": [],
            "_model_module": "@jupyter-widgets/controls",
            "_model_module_version": "1.5.0",
            "_model_name": "FloatProgressModel",
            "_view_count": null,
            "_view_module": "@jupyter-widgets/controls",
            "_view_module_version": "1.5.0",
            "_view_name": "ProgressView",
            "bar_style": "success",
            "description": "",
            "description_tooltip": null,
            "layout": "IPY_MODEL_da7cf16f56e4419b9d2e9e49fad35542",
            "max": 662435448,
            "min": 0,
            "orientation": "horizontal",
            "style": "IPY_MODEL_5abb2967ad8347be907bb5a3611d2fe4",
            "value": 662435448
          }
        },
        "17f9841d4eaf4b71a10ad0109740ebcc": {
          "model_module": "@jupyter-widgets/controls",
          "model_name": "HTMLModel",
          "model_module_version": "1.5.0",
          "state": {
            "_dom_classes": [],
            "_model_module": "@jupyter-widgets/controls",
            "_model_module_version": "1.5.0",
            "_model_name": "HTMLModel",
            "_view_count": null,
            "_view_module": "@jupyter-widgets/controls",
            "_view_module_version": "1.5.0",
            "_view_name": "HTMLView",
            "description": "",
            "description_tooltip": null,
            "layout": "IPY_MODEL_4cb59e28eb0a48e2b395f3a68bd69006",
            "placeholder": "​",
            "style": "IPY_MODEL_4ed823235e7a4c56a783e8f8064839d3",
            "value": " 662M/662M [00:13&lt;00:00, 76.0MB/s]"
          }
        },
        "7e804fc1b3a74b86be0db9c08574e33b": {
          "model_module": "@jupyter-widgets/base",
          "model_name": "LayoutModel",
          "model_module_version": "1.2.0",
          "state": {
            "_model_module": "@jupyter-widgets/base",
            "_model_module_version": "1.2.0",
            "_model_name": "LayoutModel",
            "_view_count": null,
            "_view_module": "@jupyter-widgets/base",
            "_view_module_version": "1.2.0",
            "_view_name": "LayoutView",
            "align_content": null,
            "align_items": null,
            "align_self": null,
            "border": null,
            "bottom": null,
            "display": null,
            "flex": null,
            "flex_flow": null,
            "grid_area": null,
            "grid_auto_columns": null,
            "grid_auto_flow": null,
            "grid_auto_rows": null,
            "grid_column": null,
            "grid_gap": null,
            "grid_row": null,
            "grid_template_areas": null,
            "grid_template_columns": null,
            "grid_template_rows": null,
            "height": null,
            "justify_content": null,
            "justify_items": null,
            "left": null,
            "margin": null,
            "max_height": null,
            "max_width": null,
            "min_height": null,
            "min_width": null,
            "object_fit": null,
            "object_position": null,
            "order": null,
            "overflow": null,
            "overflow_x": null,
            "overflow_y": null,
            "padding": null,
            "right": null,
            "top": null,
            "visibility": null,
            "width": null
          }
        },
        "e8415033716941e480827c39f2f21392": {
          "model_module": "@jupyter-widgets/base",
          "model_name": "LayoutModel",
          "model_module_version": "1.2.0",
          "state": {
            "_model_module": "@jupyter-widgets/base",
            "_model_module_version": "1.2.0",
            "_model_name": "LayoutModel",
            "_view_count": null,
            "_view_module": "@jupyter-widgets/base",
            "_view_module_version": "1.2.0",
            "_view_name": "LayoutView",
            "align_content": null,
            "align_items": null,
            "align_self": null,
            "border": null,
            "bottom": null,
            "display": null,
            "flex": null,
            "flex_flow": null,
            "grid_area": null,
            "grid_auto_columns": null,
            "grid_auto_flow": null,
            "grid_auto_rows": null,
            "grid_column": null,
            "grid_gap": null,
            "grid_row": null,
            "grid_template_areas": null,
            "grid_template_columns": null,
            "grid_template_rows": null,
            "height": null,
            "justify_content": null,
            "justify_items": null,
            "left": null,
            "margin": null,
            "max_height": null,
            "max_width": null,
            "min_height": null,
            "min_width": null,
            "object_fit": null,
            "object_position": null,
            "order": null,
            "overflow": null,
            "overflow_x": null,
            "overflow_y": null,
            "padding": null,
            "right": null,
            "top": null,
            "visibility": null,
            "width": null
          }
        },
        "ab2c1fb721b643a1876da7abcacfb9e7": {
          "model_module": "@jupyter-widgets/controls",
          "model_name": "DescriptionStyleModel",
          "model_module_version": "1.5.0",
          "state": {
            "_model_module": "@jupyter-widgets/controls",
            "_model_module_version": "1.5.0",
            "_model_name": "DescriptionStyleModel",
            "_view_count": null,
            "_view_module": "@jupyter-widgets/base",
            "_view_module_version": "1.2.0",
            "_view_name": "StyleView",
            "description_width": ""
          }
        },
        "da7cf16f56e4419b9d2e9e49fad35542": {
          "model_module": "@jupyter-widgets/base",
          "model_name": "LayoutModel",
          "model_module_version": "1.2.0",
          "state": {
            "_model_module": "@jupyter-widgets/base",
            "_model_module_version": "1.2.0",
            "_model_name": "LayoutModel",
            "_view_count": null,
            "_view_module": "@jupyter-widgets/base",
            "_view_module_version": "1.2.0",
            "_view_name": "LayoutView",
            "align_content": null,
            "align_items": null,
            "align_self": null,
            "border": null,
            "bottom": null,
            "display": null,
            "flex": null,
            "flex_flow": null,
            "grid_area": null,
            "grid_auto_columns": null,
            "grid_auto_flow": null,
            "grid_auto_rows": null,
            "grid_column": null,
            "grid_gap": null,
            "grid_row": null,
            "grid_template_areas": null,
            "grid_template_columns": null,
            "grid_template_rows": null,
            "height": null,
            "justify_content": null,
            "justify_items": null,
            "left": null,
            "margin": null,
            "max_height": null,
            "max_width": null,
            "min_height": null,
            "min_width": null,
            "object_fit": null,
            "object_position": null,
            "order": null,
            "overflow": null,
            "overflow_x": null,
            "overflow_y": null,
            "padding": null,
            "right": null,
            "top": null,
            "visibility": null,
            "width": null
          }
        },
        "5abb2967ad8347be907bb5a3611d2fe4": {
          "model_module": "@jupyter-widgets/controls",
          "model_name": "ProgressStyleModel",
          "model_module_version": "1.5.0",
          "state": {
            "_model_module": "@jupyter-widgets/controls",
            "_model_module_version": "1.5.0",
            "_model_name": "ProgressStyleModel",
            "_view_count": null,
            "_view_module": "@jupyter-widgets/base",
            "_view_module_version": "1.2.0",
            "_view_name": "StyleView",
            "bar_color": null,
            "description_width": ""
          }
        },
        "4cb59e28eb0a48e2b395f3a68bd69006": {
          "model_module": "@jupyter-widgets/base",
          "model_name": "LayoutModel",
          "model_module_version": "1.2.0",
          "state": {
            "_model_module": "@jupyter-widgets/base",
            "_model_module_version": "1.2.0",
            "_model_name": "LayoutModel",
            "_view_count": null,
            "_view_module": "@jupyter-widgets/base",
            "_view_module_version": "1.2.0",
            "_view_name": "LayoutView",
            "align_content": null,
            "align_items": null,
            "align_self": null,
            "border": null,
            "bottom": null,
            "display": null,
            "flex": null,
            "flex_flow": null,
            "grid_area": null,
            "grid_auto_columns": null,
            "grid_auto_flow": null,
            "grid_auto_rows": null,
            "grid_column": null,
            "grid_gap": null,
            "grid_row": null,
            "grid_template_areas": null,
            "grid_template_columns": null,
            "grid_template_rows": null,
            "height": null,
            "justify_content": null,
            "justify_items": null,
            "left": null,
            "margin": null,
            "max_height": null,
            "max_width": null,
            "min_height": null,
            "min_width": null,
            "object_fit": null,
            "object_position": null,
            "order": null,
            "overflow": null,
            "overflow_x": null,
            "overflow_y": null,
            "padding": null,
            "right": null,
            "top": null,
            "visibility": null,
            "width": null
          }
        },
        "4ed823235e7a4c56a783e8f8064839d3": {
          "model_module": "@jupyter-widgets/controls",
          "model_name": "DescriptionStyleModel",
          "model_module_version": "1.5.0",
          "state": {
            "_model_module": "@jupyter-widgets/controls",
            "_model_module_version": "1.5.0",
            "_model_name": "DescriptionStyleModel",
            "_view_count": null,
            "_view_module": "@jupyter-widgets/base",
            "_view_module_version": "1.2.0",
            "_view_name": "StyleView",
            "description_width": ""
          }
        },
        "9d774628c0c943fe9e93220df1147bad": {
          "model_module": "@jupyter-widgets/controls",
          "model_name": "HBoxModel",
          "model_module_version": "1.5.0",
          "state": {
            "_dom_classes": [],
            "_model_module": "@jupyter-widgets/controls",
            "_model_module_version": "1.5.0",
            "_model_name": "HBoxModel",
            "_view_count": null,
            "_view_module": "@jupyter-widgets/controls",
            "_view_module_version": "1.5.0",
            "_view_name": "HBoxView",
            "box_style": "",
            "children": [
              "IPY_MODEL_2325553efdf74dfca42b6a9189daff88",
              "IPY_MODEL_04a70a6d56de452896eaeba14efc5e57",
              "IPY_MODEL_890b392a1aea4e08854ad4026446d596"
            ],
            "layout": "IPY_MODEL_75ecaacf315440c3aea863f4da86ba95"
          }
        },
        "2325553efdf74dfca42b6a9189daff88": {
          "model_module": "@jupyter-widgets/controls",
          "model_name": "HTMLModel",
          "model_module_version": "1.5.0",
          "state": {
            "_dom_classes": [],
            "_model_module": "@jupyter-widgets/controls",
            "_model_module_version": "1.5.0",
            "_model_name": "HTMLModel",
            "_view_count": null,
            "_view_module": "@jupyter-widgets/controls",
            "_view_module_version": "1.5.0",
            "_view_name": "HTMLView",
            "description": "",
            "description_tooltip": null,
            "layout": "IPY_MODEL_8d286dad065344f88261e6e727229c09",
            "placeholder": "​",
            "style": "IPY_MODEL_cdb4665966744b609487e2bb1badb187",
            "value": "generation_config.json: 100%"
          }
        },
        "04a70a6d56de452896eaeba14efc5e57": {
          "model_module": "@jupyter-widgets/controls",
          "model_name": "FloatProgressModel",
          "model_module_version": "1.5.0",
          "state": {
            "_dom_classes": [],
            "_model_module": "@jupyter-widgets/controls",
            "_model_module_version": "1.5.0",
            "_model_name": "FloatProgressModel",
            "_view_count": null,
            "_view_module": "@jupyter-widgets/controls",
            "_view_module_version": "1.5.0",
            "_view_name": "ProgressView",
            "bar_style": "success",
            "description": "",
            "description_tooltip": null,
            "layout": "IPY_MODEL_89bea15a45ff47fb9f76dd822ece473a",
            "max": 137,
            "min": 0,
            "orientation": "horizontal",
            "style": "IPY_MODEL_57bf620fa97148bdada8ba080f14d4b2",
            "value": 137
          }
        },
        "890b392a1aea4e08854ad4026446d596": {
          "model_module": "@jupyter-widgets/controls",
          "model_name": "HTMLModel",
          "model_module_version": "1.5.0",
          "state": {
            "_dom_classes": [],
            "_model_module": "@jupyter-widgets/controls",
            "_model_module_version": "1.5.0",
            "_model_name": "HTMLModel",
            "_view_count": null,
            "_view_module": "@jupyter-widgets/controls",
            "_view_module_version": "1.5.0",
            "_view_name": "HTMLView",
            "description": "",
            "description_tooltip": null,
            "layout": "IPY_MODEL_3a2c975daff548b6b27d91586edf0d82",
            "placeholder": "​",
            "style": "IPY_MODEL_75a172a7bf404fdaaa473de9ec761aa1",
            "value": " 137/137 [00:00&lt;00:00, 12.7kB/s]"
          }
        },
        "75ecaacf315440c3aea863f4da86ba95": {
          "model_module": "@jupyter-widgets/base",
          "model_name": "LayoutModel",
          "model_module_version": "1.2.0",
          "state": {
            "_model_module": "@jupyter-widgets/base",
            "_model_module_version": "1.2.0",
            "_model_name": "LayoutModel",
            "_view_count": null,
            "_view_module": "@jupyter-widgets/base",
            "_view_module_version": "1.2.0",
            "_view_name": "LayoutView",
            "align_content": null,
            "align_items": null,
            "align_self": null,
            "border": null,
            "bottom": null,
            "display": null,
            "flex": null,
            "flex_flow": null,
            "grid_area": null,
            "grid_auto_columns": null,
            "grid_auto_flow": null,
            "grid_auto_rows": null,
            "grid_column": null,
            "grid_gap": null,
            "grid_row": null,
            "grid_template_areas": null,
            "grid_template_columns": null,
            "grid_template_rows": null,
            "height": null,
            "justify_content": null,
            "justify_items": null,
            "left": null,
            "margin": null,
            "max_height": null,
            "max_width": null,
            "min_height": null,
            "min_width": null,
            "object_fit": null,
            "object_position": null,
            "order": null,
            "overflow": null,
            "overflow_x": null,
            "overflow_y": null,
            "padding": null,
            "right": null,
            "top": null,
            "visibility": null,
            "width": null
          }
        },
        "8d286dad065344f88261e6e727229c09": {
          "model_module": "@jupyter-widgets/base",
          "model_name": "LayoutModel",
          "model_module_version": "1.2.0",
          "state": {
            "_model_module": "@jupyter-widgets/base",
            "_model_module_version": "1.2.0",
            "_model_name": "LayoutModel",
            "_view_count": null,
            "_view_module": "@jupyter-widgets/base",
            "_view_module_version": "1.2.0",
            "_view_name": "LayoutView",
            "align_content": null,
            "align_items": null,
            "align_self": null,
            "border": null,
            "bottom": null,
            "display": null,
            "flex": null,
            "flex_flow": null,
            "grid_area": null,
            "grid_auto_columns": null,
            "grid_auto_flow": null,
            "grid_auto_rows": null,
            "grid_column": null,
            "grid_gap": null,
            "grid_row": null,
            "grid_template_areas": null,
            "grid_template_columns": null,
            "grid_template_rows": null,
            "height": null,
            "justify_content": null,
            "justify_items": null,
            "left": null,
            "margin": null,
            "max_height": null,
            "max_width": null,
            "min_height": null,
            "min_width": null,
            "object_fit": null,
            "object_position": null,
            "order": null,
            "overflow": null,
            "overflow_x": null,
            "overflow_y": null,
            "padding": null,
            "right": null,
            "top": null,
            "visibility": null,
            "width": null
          }
        },
        "cdb4665966744b609487e2bb1badb187": {
          "model_module": "@jupyter-widgets/controls",
          "model_name": "DescriptionStyleModel",
          "model_module_version": "1.5.0",
          "state": {
            "_model_module": "@jupyter-widgets/controls",
            "_model_module_version": "1.5.0",
            "_model_name": "DescriptionStyleModel",
            "_view_count": null,
            "_view_module": "@jupyter-widgets/base",
            "_view_module_version": "1.2.0",
            "_view_name": "StyleView",
            "description_width": ""
          }
        },
        "89bea15a45ff47fb9f76dd822ece473a": {
          "model_module": "@jupyter-widgets/base",
          "model_name": "LayoutModel",
          "model_module_version": "1.2.0",
          "state": {
            "_model_module": "@jupyter-widgets/base",
            "_model_module_version": "1.2.0",
            "_model_name": "LayoutModel",
            "_view_count": null,
            "_view_module": "@jupyter-widgets/base",
            "_view_module_version": "1.2.0",
            "_view_name": "LayoutView",
            "align_content": null,
            "align_items": null,
            "align_self": null,
            "border": null,
            "bottom": null,
            "display": null,
            "flex": null,
            "flex_flow": null,
            "grid_area": null,
            "grid_auto_columns": null,
            "grid_auto_flow": null,
            "grid_auto_rows": null,
            "grid_column": null,
            "grid_gap": null,
            "grid_row": null,
            "grid_template_areas": null,
            "grid_template_columns": null,
            "grid_template_rows": null,
            "height": null,
            "justify_content": null,
            "justify_items": null,
            "left": null,
            "margin": null,
            "max_height": null,
            "max_width": null,
            "min_height": null,
            "min_width": null,
            "object_fit": null,
            "object_position": null,
            "order": null,
            "overflow": null,
            "overflow_x": null,
            "overflow_y": null,
            "padding": null,
            "right": null,
            "top": null,
            "visibility": null,
            "width": null
          }
        },
        "57bf620fa97148bdada8ba080f14d4b2": {
          "model_module": "@jupyter-widgets/controls",
          "model_name": "ProgressStyleModel",
          "model_module_version": "1.5.0",
          "state": {
            "_model_module": "@jupyter-widgets/controls",
            "_model_module_version": "1.5.0",
            "_model_name": "ProgressStyleModel",
            "_view_count": null,
            "_view_module": "@jupyter-widgets/base",
            "_view_module_version": "1.2.0",
            "_view_name": "StyleView",
            "bar_color": null,
            "description_width": ""
          }
        },
        "3a2c975daff548b6b27d91586edf0d82": {
          "model_module": "@jupyter-widgets/base",
          "model_name": "LayoutModel",
          "model_module_version": "1.2.0",
          "state": {
            "_model_module": "@jupyter-widgets/base",
            "_model_module_version": "1.2.0",
            "_model_name": "LayoutModel",
            "_view_count": null,
            "_view_module": "@jupyter-widgets/base",
            "_view_module_version": "1.2.0",
            "_view_name": "LayoutView",
            "align_content": null,
            "align_items": null,
            "align_self": null,
            "border": null,
            "bottom": null,
            "display": null,
            "flex": null,
            "flex_flow": null,
            "grid_area": null,
            "grid_auto_columns": null,
            "grid_auto_flow": null,
            "grid_auto_rows": null,
            "grid_column": null,
            "grid_gap": null,
            "grid_row": null,
            "grid_template_areas": null,
            "grid_template_columns": null,
            "grid_template_rows": null,
            "height": null,
            "justify_content": null,
            "justify_items": null,
            "left": null,
            "margin": null,
            "max_height": null,
            "max_width": null,
            "min_height": null,
            "min_width": null,
            "object_fit": null,
            "object_position": null,
            "order": null,
            "overflow": null,
            "overflow_x": null,
            "overflow_y": null,
            "padding": null,
            "right": null,
            "top": null,
            "visibility": null,
            "width": null
          }
        },
        "75a172a7bf404fdaaa473de9ec761aa1": {
          "model_module": "@jupyter-widgets/controls",
          "model_name": "DescriptionStyleModel",
          "model_module_version": "1.5.0",
          "state": {
            "_model_module": "@jupyter-widgets/controls",
            "_model_module_version": "1.5.0",
            "_model_name": "DescriptionStyleModel",
            "_view_count": null,
            "_view_module": "@jupyter-widgets/base",
            "_view_module_version": "1.2.0",
            "_view_name": "StyleView",
            "description_width": ""
          }
        },
        "3d6f18b7c8fa439183e65a222664f77a": {
          "model_module": "@jupyter-widgets/controls",
          "model_name": "HBoxModel",
          "model_module_version": "1.5.0",
          "state": {
            "_dom_classes": [],
            "_model_module": "@jupyter-widgets/controls",
            "_model_module_version": "1.5.0",
            "_model_name": "HBoxModel",
            "_view_count": null,
            "_view_module": "@jupyter-widgets/controls",
            "_view_module_version": "1.5.0",
            "_view_name": "HBoxView",
            "box_style": "",
            "children": [
              "IPY_MODEL_2d61c85e9f794f169656b2c1988bc1cf",
              "IPY_MODEL_1eab5bd292344892a1fefafeb23076d6",
              "IPY_MODEL_18ad68b12175454d816ea0ecf1126655"
            ],
            "layout": "IPY_MODEL_c53cf7b4dd1a4e40bfab123c366193e2"
          }
        },
        "2d61c85e9f794f169656b2c1988bc1cf": {
          "model_module": "@jupyter-widgets/controls",
          "model_name": "HTMLModel",
          "model_module_version": "1.5.0",
          "state": {
            "_dom_classes": [],
            "_model_module": "@jupyter-widgets/controls",
            "_model_module_version": "1.5.0",
            "_model_name": "HTMLModel",
            "_view_count": null,
            "_view_module": "@jupyter-widgets/controls",
            "_view_module_version": "1.5.0",
            "_view_name": "HTMLView",
            "description": "",
            "description_tooltip": null,
            "layout": "IPY_MODEL_4b2ecb7c14fb415aab76b6f0f44d735a",
            "placeholder": "​",
            "style": "IPY_MODEL_a17c244873584480a1f6ebca0fcf4c7c",
            "value": "adapter_config.json: 100%"
          }
        },
        "1eab5bd292344892a1fefafeb23076d6": {
          "model_module": "@jupyter-widgets/controls",
          "model_name": "FloatProgressModel",
          "model_module_version": "1.5.0",
          "state": {
            "_dom_classes": [],
            "_model_module": "@jupyter-widgets/controls",
            "_model_module_version": "1.5.0",
            "_model_name": "FloatProgressModel",
            "_view_count": null,
            "_view_module": "@jupyter-widgets/controls",
            "_view_module_version": "1.5.0",
            "_view_name": "ProgressView",
            "bar_style": "success",
            "description": "",
            "description_tooltip": null,
            "layout": "IPY_MODEL_e54dbed583fa437f92ae4a12d7330687",
            "max": 642,
            "min": 0,
            "orientation": "horizontal",
            "style": "IPY_MODEL_7fb4b906fc7a49dba90f28c8d3b82c4b",
            "value": 642
          }
        },
        "18ad68b12175454d816ea0ecf1126655": {
          "model_module": "@jupyter-widgets/controls",
          "model_name": "HTMLModel",
          "model_module_version": "1.5.0",
          "state": {
            "_dom_classes": [],
            "_model_module": "@jupyter-widgets/controls",
            "_model_module_version": "1.5.0",
            "_model_name": "HTMLModel",
            "_view_count": null,
            "_view_module": "@jupyter-widgets/controls",
            "_view_module_version": "1.5.0",
            "_view_name": "HTMLView",
            "description": "",
            "description_tooltip": null,
            "layout": "IPY_MODEL_306ce9a8a71e40d695fc5cc7d4452db7",
            "placeholder": "​",
            "style": "IPY_MODEL_d5b224fccd764280ae67891882f5dede",
            "value": " 642/642 [00:00&lt;00:00, 57.1kB/s]"
          }
        },
        "c53cf7b4dd1a4e40bfab123c366193e2": {
          "model_module": "@jupyter-widgets/base",
          "model_name": "LayoutModel",
          "model_module_version": "1.2.0",
          "state": {
            "_model_module": "@jupyter-widgets/base",
            "_model_module_version": "1.2.0",
            "_model_name": "LayoutModel",
            "_view_count": null,
            "_view_module": "@jupyter-widgets/base",
            "_view_module_version": "1.2.0",
            "_view_name": "LayoutView",
            "align_content": null,
            "align_items": null,
            "align_self": null,
            "border": null,
            "bottom": null,
            "display": null,
            "flex": null,
            "flex_flow": null,
            "grid_area": null,
            "grid_auto_columns": null,
            "grid_auto_flow": null,
            "grid_auto_rows": null,
            "grid_column": null,
            "grid_gap": null,
            "grid_row": null,
            "grid_template_areas": null,
            "grid_template_columns": null,
            "grid_template_rows": null,
            "height": null,
            "justify_content": null,
            "justify_items": null,
            "left": null,
            "margin": null,
            "max_height": null,
            "max_width": null,
            "min_height": null,
            "min_width": null,
            "object_fit": null,
            "object_position": null,
            "order": null,
            "overflow": null,
            "overflow_x": null,
            "overflow_y": null,
            "padding": null,
            "right": null,
            "top": null,
            "visibility": null,
            "width": null
          }
        },
        "4b2ecb7c14fb415aab76b6f0f44d735a": {
          "model_module": "@jupyter-widgets/base",
          "model_name": "LayoutModel",
          "model_module_version": "1.2.0",
          "state": {
            "_model_module": "@jupyter-widgets/base",
            "_model_module_version": "1.2.0",
            "_model_name": "LayoutModel",
            "_view_count": null,
            "_view_module": "@jupyter-widgets/base",
            "_view_module_version": "1.2.0",
            "_view_name": "LayoutView",
            "align_content": null,
            "align_items": null,
            "align_self": null,
            "border": null,
            "bottom": null,
            "display": null,
            "flex": null,
            "flex_flow": null,
            "grid_area": null,
            "grid_auto_columns": null,
            "grid_auto_flow": null,
            "grid_auto_rows": null,
            "grid_column": null,
            "grid_gap": null,
            "grid_row": null,
            "grid_template_areas": null,
            "grid_template_columns": null,
            "grid_template_rows": null,
            "height": null,
            "justify_content": null,
            "justify_items": null,
            "left": null,
            "margin": null,
            "max_height": null,
            "max_width": null,
            "min_height": null,
            "min_width": null,
            "object_fit": null,
            "object_position": null,
            "order": null,
            "overflow": null,
            "overflow_x": null,
            "overflow_y": null,
            "padding": null,
            "right": null,
            "top": null,
            "visibility": null,
            "width": null
          }
        },
        "a17c244873584480a1f6ebca0fcf4c7c": {
          "model_module": "@jupyter-widgets/controls",
          "model_name": "DescriptionStyleModel",
          "model_module_version": "1.5.0",
          "state": {
            "_model_module": "@jupyter-widgets/controls",
            "_model_module_version": "1.5.0",
            "_model_name": "DescriptionStyleModel",
            "_view_count": null,
            "_view_module": "@jupyter-widgets/base",
            "_view_module_version": "1.2.0",
            "_view_name": "StyleView",
            "description_width": ""
          }
        },
        "e54dbed583fa437f92ae4a12d7330687": {
          "model_module": "@jupyter-widgets/base",
          "model_name": "LayoutModel",
          "model_module_version": "1.2.0",
          "state": {
            "_model_module": "@jupyter-widgets/base",
            "_model_module_version": "1.2.0",
            "_model_name": "LayoutModel",
            "_view_count": null,
            "_view_module": "@jupyter-widgets/base",
            "_view_module_version": "1.2.0",
            "_view_name": "LayoutView",
            "align_content": null,
            "align_items": null,
            "align_self": null,
            "border": null,
            "bottom": null,
            "display": null,
            "flex": null,
            "flex_flow": null,
            "grid_area": null,
            "grid_auto_columns": null,
            "grid_auto_flow": null,
            "grid_auto_rows": null,
            "grid_column": null,
            "grid_gap": null,
            "grid_row": null,
            "grid_template_areas": null,
            "grid_template_columns": null,
            "grid_template_rows": null,
            "height": null,
            "justify_content": null,
            "justify_items": null,
            "left": null,
            "margin": null,
            "max_height": null,
            "max_width": null,
            "min_height": null,
            "min_width": null,
            "object_fit": null,
            "object_position": null,
            "order": null,
            "overflow": null,
            "overflow_x": null,
            "overflow_y": null,
            "padding": null,
            "right": null,
            "top": null,
            "visibility": null,
            "width": null
          }
        },
        "7fb4b906fc7a49dba90f28c8d3b82c4b": {
          "model_module": "@jupyter-widgets/controls",
          "model_name": "ProgressStyleModel",
          "model_module_version": "1.5.0",
          "state": {
            "_model_module": "@jupyter-widgets/controls",
            "_model_module_version": "1.5.0",
            "_model_name": "ProgressStyleModel",
            "_view_count": null,
            "_view_module": "@jupyter-widgets/base",
            "_view_module_version": "1.2.0",
            "_view_name": "StyleView",
            "bar_color": null,
            "description_width": ""
          }
        },
        "306ce9a8a71e40d695fc5cc7d4452db7": {
          "model_module": "@jupyter-widgets/base",
          "model_name": "LayoutModel",
          "model_module_version": "1.2.0",
          "state": {
            "_model_module": "@jupyter-widgets/base",
            "_model_module_version": "1.2.0",
            "_model_name": "LayoutModel",
            "_view_count": null,
            "_view_module": "@jupyter-widgets/base",
            "_view_module_version": "1.2.0",
            "_view_name": "LayoutView",
            "align_content": null,
            "align_items": null,
            "align_self": null,
            "border": null,
            "bottom": null,
            "display": null,
            "flex": null,
            "flex_flow": null,
            "grid_area": null,
            "grid_auto_columns": null,
            "grid_auto_flow": null,
            "grid_auto_rows": null,
            "grid_column": null,
            "grid_gap": null,
            "grid_row": null,
            "grid_template_areas": null,
            "grid_template_columns": null,
            "grid_template_rows": null,
            "height": null,
            "justify_content": null,
            "justify_items": null,
            "left": null,
            "margin": null,
            "max_height": null,
            "max_width": null,
            "min_height": null,
            "min_width": null,
            "object_fit": null,
            "object_position": null,
            "order": null,
            "overflow": null,
            "overflow_x": null,
            "overflow_y": null,
            "padding": null,
            "right": null,
            "top": null,
            "visibility": null,
            "width": null
          }
        },
        "d5b224fccd764280ae67891882f5dede": {
          "model_module": "@jupyter-widgets/controls",
          "model_name": "DescriptionStyleModel",
          "model_module_version": "1.5.0",
          "state": {
            "_model_module": "@jupyter-widgets/controls",
            "_model_module_version": "1.5.0",
            "_model_name": "DescriptionStyleModel",
            "_view_count": null,
            "_view_module": "@jupyter-widgets/base",
            "_view_module_version": "1.2.0",
            "_view_name": "StyleView",
            "description_width": ""
          }
        },
        "21410d8f757c4f72af6cbbf2a6910dfa": {
          "model_module": "@jupyter-widgets/controls",
          "model_name": "HBoxModel",
          "model_module_version": "1.5.0",
          "state": {
            "_dom_classes": [],
            "_model_module": "@jupyter-widgets/controls",
            "_model_module_version": "1.5.0",
            "_model_name": "HBoxModel",
            "_view_count": null,
            "_view_module": "@jupyter-widgets/controls",
            "_view_module_version": "1.5.0",
            "_view_name": "HBoxView",
            "box_style": "",
            "children": [
              "IPY_MODEL_7283fb1b36334a8e8e6a302c9690c6c4",
              "IPY_MODEL_4aefe2c6bbd945be81bb57f570b1472f",
              "IPY_MODEL_4ee0c05912ca4ff5b1d045162b4044cf"
            ],
            "layout": "IPY_MODEL_52e1ee62af9e4982b6690ac4b39ee01d"
          }
        },
        "7283fb1b36334a8e8e6a302c9690c6c4": {
          "model_module": "@jupyter-widgets/controls",
          "model_name": "HTMLModel",
          "model_module_version": "1.5.0",
          "state": {
            "_dom_classes": [],
            "_model_module": "@jupyter-widgets/controls",
            "_model_module_version": "1.5.0",
            "_model_name": "HTMLModel",
            "_view_count": null,
            "_view_module": "@jupyter-widgets/controls",
            "_view_module_version": "1.5.0",
            "_view_name": "HTMLView",
            "description": "",
            "description_tooltip": null,
            "layout": "IPY_MODEL_8b58e9ab7ec04c379ddfbb49baf70ca1",
            "placeholder": "​",
            "style": "IPY_MODEL_c89d3c136302425c82b6d954ee2e763b",
            "value": "adapter_model.safetensors: 100%"
          }
        },
        "4aefe2c6bbd945be81bb57f570b1472f": {
          "model_module": "@jupyter-widgets/controls",
          "model_name": "FloatProgressModel",
          "model_module_version": "1.5.0",
          "state": {
            "_dom_classes": [],
            "_model_module": "@jupyter-widgets/controls",
            "_model_module_version": "1.5.0",
            "_model_name": "FloatProgressModel",
            "_view_count": null,
            "_view_module": "@jupyter-widgets/controls",
            "_view_module_version": "1.5.0",
            "_view_name": "ProgressView",
            "bar_style": "success",
            "description": "",
            "description_tooltip": null,
            "layout": "IPY_MODEL_26412b21ea784e1d93c78d2abfab6e17",
            "max": 3159096,
            "min": 0,
            "orientation": "horizontal",
            "style": "IPY_MODEL_000df4b5209c4c3aa4c0c9898b1fb4c3",
            "value": 3159096
          }
        },
        "4ee0c05912ca4ff5b1d045162b4044cf": {
          "model_module": "@jupyter-widgets/controls",
          "model_name": "HTMLModel",
          "model_module_version": "1.5.0",
          "state": {
            "_dom_classes": [],
            "_model_module": "@jupyter-widgets/controls",
            "_model_module_version": "1.5.0",
            "_model_name": "HTMLModel",
            "_view_count": null,
            "_view_module": "@jupyter-widgets/controls",
            "_view_module_version": "1.5.0",
            "_view_name": "HTMLView",
            "description": "",
            "description_tooltip": null,
            "layout": "IPY_MODEL_f0d6ca8f385b41ad9502cd4ac426f8e5",
            "placeholder": "​",
            "style": "IPY_MODEL_9669a2e8c58047b5bef635f1a4add6a6",
            "value": " 3.16M/3.16M [00:01&lt;00:00, 2.89MB/s]"
          }
        },
        "52e1ee62af9e4982b6690ac4b39ee01d": {
          "model_module": "@jupyter-widgets/base",
          "model_name": "LayoutModel",
          "model_module_version": "1.2.0",
          "state": {
            "_model_module": "@jupyter-widgets/base",
            "_model_module_version": "1.2.0",
            "_model_name": "LayoutModel",
            "_view_count": null,
            "_view_module": "@jupyter-widgets/base",
            "_view_module_version": "1.2.0",
            "_view_name": "LayoutView",
            "align_content": null,
            "align_items": null,
            "align_self": null,
            "border": null,
            "bottom": null,
            "display": null,
            "flex": null,
            "flex_flow": null,
            "grid_area": null,
            "grid_auto_columns": null,
            "grid_auto_flow": null,
            "grid_auto_rows": null,
            "grid_column": null,
            "grid_gap": null,
            "grid_row": null,
            "grid_template_areas": null,
            "grid_template_columns": null,
            "grid_template_rows": null,
            "height": null,
            "justify_content": null,
            "justify_items": null,
            "left": null,
            "margin": null,
            "max_height": null,
            "max_width": null,
            "min_height": null,
            "min_width": null,
            "object_fit": null,
            "object_position": null,
            "order": null,
            "overflow": null,
            "overflow_x": null,
            "overflow_y": null,
            "padding": null,
            "right": null,
            "top": null,
            "visibility": null,
            "width": null
          }
        },
        "8b58e9ab7ec04c379ddfbb49baf70ca1": {
          "model_module": "@jupyter-widgets/base",
          "model_name": "LayoutModel",
          "model_module_version": "1.2.0",
          "state": {
            "_model_module": "@jupyter-widgets/base",
            "_model_module_version": "1.2.0",
            "_model_name": "LayoutModel",
            "_view_count": null,
            "_view_module": "@jupyter-widgets/base",
            "_view_module_version": "1.2.0",
            "_view_name": "LayoutView",
            "align_content": null,
            "align_items": null,
            "align_self": null,
            "border": null,
            "bottom": null,
            "display": null,
            "flex": null,
            "flex_flow": null,
            "grid_area": null,
            "grid_auto_columns": null,
            "grid_auto_flow": null,
            "grid_auto_rows": null,
            "grid_column": null,
            "grid_gap": null,
            "grid_row": null,
            "grid_template_areas": null,
            "grid_template_columns": null,
            "grid_template_rows": null,
            "height": null,
            "justify_content": null,
            "justify_items": null,
            "left": null,
            "margin": null,
            "max_height": null,
            "max_width": null,
            "min_height": null,
            "min_width": null,
            "object_fit": null,
            "object_position": null,
            "order": null,
            "overflow": null,
            "overflow_x": null,
            "overflow_y": null,
            "padding": null,
            "right": null,
            "top": null,
            "visibility": null,
            "width": null
          }
        },
        "c89d3c136302425c82b6d954ee2e763b": {
          "model_module": "@jupyter-widgets/controls",
          "model_name": "DescriptionStyleModel",
          "model_module_version": "1.5.0",
          "state": {
            "_model_module": "@jupyter-widgets/controls",
            "_model_module_version": "1.5.0",
            "_model_name": "DescriptionStyleModel",
            "_view_count": null,
            "_view_module": "@jupyter-widgets/base",
            "_view_module_version": "1.2.0",
            "_view_name": "StyleView",
            "description_width": ""
          }
        },
        "26412b21ea784e1d93c78d2abfab6e17": {
          "model_module": "@jupyter-widgets/base",
          "model_name": "LayoutModel",
          "model_module_version": "1.2.0",
          "state": {
            "_model_module": "@jupyter-widgets/base",
            "_model_module_version": "1.2.0",
            "_model_name": "LayoutModel",
            "_view_count": null,
            "_view_module": "@jupyter-widgets/base",
            "_view_module_version": "1.2.0",
            "_view_name": "LayoutView",
            "align_content": null,
            "align_items": null,
            "align_self": null,
            "border": null,
            "bottom": null,
            "display": null,
            "flex": null,
            "flex_flow": null,
            "grid_area": null,
            "grid_auto_columns": null,
            "grid_auto_flow": null,
            "grid_auto_rows": null,
            "grid_column": null,
            "grid_gap": null,
            "grid_row": null,
            "grid_template_areas": null,
            "grid_template_columns": null,
            "grid_template_rows": null,
            "height": null,
            "justify_content": null,
            "justify_items": null,
            "left": null,
            "margin": null,
            "max_height": null,
            "max_width": null,
            "min_height": null,
            "min_width": null,
            "object_fit": null,
            "object_position": null,
            "order": null,
            "overflow": null,
            "overflow_x": null,
            "overflow_y": null,
            "padding": null,
            "right": null,
            "top": null,
            "visibility": null,
            "width": null
          }
        },
        "000df4b5209c4c3aa4c0c9898b1fb4c3": {
          "model_module": "@jupyter-widgets/controls",
          "model_name": "ProgressStyleModel",
          "model_module_version": "1.5.0",
          "state": {
            "_model_module": "@jupyter-widgets/controls",
            "_model_module_version": "1.5.0",
            "_model_name": "ProgressStyleModel",
            "_view_count": null,
            "_view_module": "@jupyter-widgets/base",
            "_view_module_version": "1.2.0",
            "_view_name": "StyleView",
            "bar_color": null,
            "description_width": ""
          }
        },
        "f0d6ca8f385b41ad9502cd4ac426f8e5": {
          "model_module": "@jupyter-widgets/base",
          "model_name": "LayoutModel",
          "model_module_version": "1.2.0",
          "state": {
            "_model_module": "@jupyter-widgets/base",
            "_model_module_version": "1.2.0",
            "_model_name": "LayoutModel",
            "_view_count": null,
            "_view_module": "@jupyter-widgets/base",
            "_view_module_version": "1.2.0",
            "_view_name": "LayoutView",
            "align_content": null,
            "align_items": null,
            "align_self": null,
            "border": null,
            "bottom": null,
            "display": null,
            "flex": null,
            "flex_flow": null,
            "grid_area": null,
            "grid_auto_columns": null,
            "grid_auto_flow": null,
            "grid_auto_rows": null,
            "grid_column": null,
            "grid_gap": null,
            "grid_row": null,
            "grid_template_areas": null,
            "grid_template_columns": null,
            "grid_template_rows": null,
            "height": null,
            "justify_content": null,
            "justify_items": null,
            "left": null,
            "margin": null,
            "max_height": null,
            "max_width": null,
            "min_height": null,
            "min_width": null,
            "object_fit": null,
            "object_position": null,
            "order": null,
            "overflow": null,
            "overflow_x": null,
            "overflow_y": null,
            "padding": null,
            "right": null,
            "top": null,
            "visibility": null,
            "width": null
          }
        },
        "9669a2e8c58047b5bef635f1a4add6a6": {
          "model_module": "@jupyter-widgets/controls",
          "model_name": "DescriptionStyleModel",
          "model_module_version": "1.5.0",
          "state": {
            "_model_module": "@jupyter-widgets/controls",
            "_model_module_version": "1.5.0",
            "_model_name": "DescriptionStyleModel",
            "_view_count": null,
            "_view_module": "@jupyter-widgets/base",
            "_view_module_version": "1.2.0",
            "_view_name": "StyleView",
            "description_width": ""
          }
        }
      }
    }
  },
  "nbformat": 4,
  "nbformat_minor": 5
}