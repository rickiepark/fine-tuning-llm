{
 "cells": [
  {
   "cell_type": "markdown",
   "id": "021fd364-db66-47d6-9476-0c44596cdf0d",
   "metadata": {},
   "source": [
    "## Chapter 2: Loading a Quantized Model"
   ]
  },
  {
   "cell_type": "markdown",
   "id": "f2e3b4d3-c13f-4a9f-a8f0-cc408f402783",
   "metadata": {},
   "source": [
    "### Spoilers\n",
    "\n",
    "In this chapter, we’ll:\n",
    "\n",
    "- Understand how quantization works\n",
    "- Explore the pros and cons of using different data types (FP16, BF16, FP32)\n",
    "- Introduce the concept of mixed-precision computing\n",
    "- Use BitsAndBytes to quantize a pretrained model while loading it"
   ]
  },
  {
   "cell_type": "markdown",
   "id": "c5b7b418-5a42-41fa-a2cb-f7bd5833e1d5",
   "metadata": {},
   "source": [
    "### Setup"
   ]
  },
  {
   "cell_type": "code",
   "execution_count": null,
   "id": "8b18287a-55f6-4173-b018-0b8cf1c49682",
   "metadata": {
    "colab": {
     "base_uri": "https://localhost:8080/"
    },
    "id": "kODUm5BmEQhI",
    "outputId": "5a17ca8b-855a-4e55-b7a2-ab2af98d8906"
   },
   "outputs": [],
   "source": [
    "# If you're running on Colab\n",
    "!pip install datasets bitsandbytes trl"
   ]
  },
  {
   "cell_type": "code",
   "execution_count": null,
   "id": "a23cd241-348b-4051-ae84-c9cdd71a6a02",
   "metadata": {},
   "outputs": [],
   "source": [
    "# If you're running on runpod.io's Jupyter Template\n",
    "#!pip install datasets bitsandbytes trl transformers peft huggingface-hub accelerate safetensors pandas matplotlib"
   ]
  },
  {
   "cell_type": "markdown",
   "id": "29fbcf23-d403-4f1d-9833-bf9a920b1299",
   "metadata": {},
   "source": [
    "### Imports"
   ]
  },
  {
   "cell_type": "code",
   "execution_count": 1,
   "id": "75f87b12-d67f-4b85-9879-37ef469c66e9",
   "metadata": {},
   "outputs": [],
   "source": [
    "import numpy as np\n",
    "import torch\n",
    "import torch.nn as nn\n",
    "from accelerate import init_empty_weights\n",
    "from accelerate.utils.modeling import find_tied_parameters, get_mixed_precision_context_manager\n",
    "from accelerate.utils.operations import convert_outputs_to_fp32\n",
    "from bitsandbytes.nn import Linear8bitLt, Linear4bit, LinearFP4, LinearNF4\n",
    "from collections import Counter\n",
    "from transformers import AutoModelForCausalLM, BitsAndBytesConfig, AutoTokenizer, AutoConfig\n",
    "from transformers.integrations.bitsandbytes import get_keys_to_not_convert\n",
    "from types import MethodType\n",
    "from matplotlib import pyplot as plt"
   ]
  },
  {
   "cell_type": "markdown",
   "id": "4a14ceca-e47e-4d6e-90cb-9afb6ceb088f",
   "metadata": {},
   "source": [
    "### The Goal\n",
    "\n",
    "We quantize models to reduce their memory footprint. We can easily shrink the model’s size to a quarter or an eighth of its original size. Keep in mind, however, that the more a model is quantized (i.e., the fewer bit used\n",
    "to represent its weights), the more likely its performance will be negatively affected."
   ]
  },
  {
   "cell_type": "markdown",
   "id": "1a53b1f0-35ae-4067-8037-ce403a467acd",
   "metadata": {},
   "source": [
    "### Pre-Reqs\n",
    "\n",
    "| Type | Name | # bits | Nickname |\n",
    "|---|---|---|---|\n",
    "| FP32 | Floating Point | 32 | Full Precision |\n",
    "| BF16 | Brain Float | 16 | Half-Precision |\n",
    "| FP16 | Floating Point | 16 | Half-Precision |\n",
    "| INT8 | Integer | 8 | 8-bit Quantized |\n",
    "| FP4 | Floating Point | 4 | 4-bit Quantized |\n",
    "| NF4 | Normal Float | 4 | 4-bit Quantized |\n",
    "\n",
    "![](https://github.com/dvgodoy/FineTuningLLMs/blob/main/images/ch2/type_sizes.png?raw=True)\n",
    "<center>Figure 2.1 - Data type’s size comparison</center>\n",
    "\n",
    "![](https://github.com/dvgodoy/FineTuningLLMs/blob/main/images/ch2/model_sizes.png?raw=True)\n",
    "<center>Figure 2.2 - Representing the same model using different data types</center>"
   ]
  },
  {
   "cell_type": "markdown",
   "id": "7f79c6de-f5fe-4bee-a9b2-418d0e6d6780",
   "metadata": {},
   "source": [
    "### Quantization in a Nutshell"
   ]
  },
  {
   "cell_type": "code",
   "execution_count": 2,
   "id": "740eb05c-4dfb-4f91-a7ad-b415c015b6cc",
   "metadata": {},
   "outputs": [
    {
     "data": {
      "text/plain": [
       "(tensor(-0.2066), tensor(0.2097))"
      ]
     },
     "execution_count": 2,
     "metadata": {},
     "output_type": "execute_result"
    }
   ],
   "source": [
    "torch.manual_seed(11)\n",
    "weights = torch.randn(1000) * .07\n",
    "weights.min(), weights.max()"
   ]
  },
  {
   "cell_type": "code",
   "execution_count": 3,
   "id": "459be441-7953-4186-8055-e4c81157b14a",
   "metadata": {},
   "outputs": [
    {
     "data": {
      "text/plain": [
       "(tensor([-0.2066, -0.1026,  0.0015,  0.1056,  0.2097]), tensor(0.1041))"
      ]
     },
     "execution_count": 3,
     "metadata": {},
     "output_type": "execute_result"
    }
   ],
   "source": [
    "n_bins = 4\n",
    "bins = torch.linspace(weights.min(), weights.max(), n_bins+1)\n",
    "bin_width = bins[1]-bins[0]\n",
    "bins, bin_width"
   ]
  },
  {
   "cell_type": "code",
   "execution_count": 4,
   "id": "b090cdf3-bd95-46c6-8d69-5149f3c1d8ed",
   "metadata": {},
   "outputs": [
    {
     "data": {
      "image/png": "[encoded data removed]",
      "text/plain": [
       "<Figure size 500x300 with 1 Axes>"
      ]
     },
     "metadata": {},
     "output_type": "display_data"
    }
   ],
   "source": [
    "fig, ax = plt.subplots(1, 1, figsize=(5, 3))\n",
    "counts, _, _ = ax.hist(weights, bins=bins)\n",
    "ax.set_xlabel('Values')\n",
    "ax.set_title('Using Four Bins')\n",
    "fig.tight_layout()"
   ]
  },
  {
   "cell_type": "code",
   "execution_count": 6,
   "id": "5374cb49-9fd7-47f9-b20a-0a290cb0e258",
   "metadata": {},
   "outputs": [
    {
     "name": "stdout",
     "output_type": "stream",
     "text": [
      "tensor([-0.0358,  0.0720, -0.0247,  0.0086, -0.0127, -0.1048,  0.0099, -0.0367,\n",
      "        -0.0174, -0.0368,  0.2025, -0.0416,  0.0918,  0.0247, -0.0921, -0.0006,\n",
      "         0.0174,  0.1101, -0.1148, -0.1115])\n",
      "tensor([1, 2, 1, 2, 1, 0, 2, 1, 1, 1, 3, 1, 2, 2, 1, 1, 2, 3, 0, 0])\n"
     ]
    }
   ],
   "source": [
    "bin_indexes = (weights.view(-1, 1) > bins).to(torch.int).argmin(dim=1) - 1\n",
    "print(weights[:20])\n",
    "print(bin_indexes[:20])"
   ]
  },
  {
   "cell_type": "code",
   "execution_count": 7,
   "id": "db8c98da-1f40-444f-8602-1843e6d786a3",
   "metadata": {},
   "outputs": [
    {
     "data": {
      "image/png": "[encoded data removed]",
      "text/plain": [
       "<Figure size 500x300 with 1 Axes>"
      ]
     },
     "metadata": {},
     "output_type": "display_data"
    }
   ],
   "source": [
    "fig, ax = plt.subplots(1, 1, figsize=(5, 3))\n",
    "counts, _, _ = ax.hist(bin_indexes, bins=np.arange(n_bins+1)-.5)\n",
    "ax.set_xticks([0, 1, 2, 3])\n",
    "ax.set_xlabel('Bin Indexes')\n",
    "ax.set_title('Using Four Bins')\n",
    "fig.tight_layout()"
   ]
  },
  {
   "cell_type": "markdown",
   "id": "7e7347ac-13b5-49d6-8851-1d1f5ed063dd",
   "metadata": {},
   "source": [
    "\n",
    "$$\n",
    "\\Large\n",
    "\\text{n_bins}=2^{\\text{n_bits}} \\implies \\text{n_bits} = \\log_2({\\text{n_bins}})\n",
    "$$\n",
    "\n",
    "<center>Equation 2.1 - Number of bits vs number of bins</center>"
   ]
  },
  {
   "cell_type": "code",
   "execution_count": 9,
   "id": "0da8b2cd-ab75-4be5-9c6f-0439157f9b4d",
   "metadata": {},
   "outputs": [
    {
     "data": {
      "text/plain": [
       "tensor([-0.2066, -0.1026,  0.0015,  0.1056])"
      ]
     },
     "execution_count": 9,
     "metadata": {},
     "output_type": "execute_result"
    }
   ],
   "source": [
    "bin_values = bins[:-1]\n",
    "first_bin = bin_values[0]\n",
    "bin_values"
   ]
  },
  {
   "cell_type": "markdown",
   "id": "e741aa91-8208-48ba-af43-ec32024eb081",
   "metadata": {},
   "source": [
    "\n",
    "$$\n",
    "\\Large\n",
    "\\text{approx_value} = \\text{bin_index} * \\text{bin_width} + \\text{first_bin}\n",
    "$$\n",
    "\n",
    "<center>Equation 2.2 - Retrieving the (approximate) original value</center>"
   ]
  },
  {
   "cell_type": "code",
   "execution_count": 10,
   "id": "374b3ea6-2a73-40fa-916b-25accb403974",
   "metadata": {},
   "outputs": [
    {
     "data": {
      "text/plain": [
       "tensor([-0.2066, -0.1026,  0.0015,  0.1056])"
      ]
     },
     "execution_count": 10,
     "metadata": {},
     "output_type": "execute_result"
    }
   ],
   "source": [
    "torch.arange(0, n_bins) * bin_width + first_bin"
   ]
  },
  {
   "cell_type": "code",
   "execution_count": 11,
   "id": "f6042407-a0f2-4f9d-a09a-6f587e79192a",
   "metadata": {},
   "outputs": [
    {
     "name": "stdout",
     "output_type": "stream",
     "text": [
      "tensor([-0.1026,  0.0015, -0.1026,  0.0015, -0.1026, -0.2066,  0.0015, -0.1026,\n",
      "        -0.1026, -0.1026,  0.1056, -0.1026,  0.0015,  0.0015, -0.1026, -0.1026,\n",
      "         0.0015,  0.1056, -0.2066, -0.2066])\n"
     ]
    }
   ],
   "source": [
    "approx_values = bin_indexes * bin_width + first_bin\n",
    "print(approx_values[:20])"
   ]
  },
  {
   "cell_type": "code",
   "execution_count": 12,
   "id": "679d7e0c-2a1f-4e81-8535-d5251725db76",
   "metadata": {},
   "outputs": [
    {
     "name": "stdout",
     "output_type": "stream",
     "text": [
      "tensor([-0.0358,  0.0720, -0.0247,  0.0086, -0.0127, -0.1048,  0.0099, -0.0367,\n",
      "        -0.0174, -0.0368,  0.2025, -0.0416,  0.0918,  0.0247, -0.0921, -0.0006,\n",
      "         0.0174,  0.1101, -0.1148, -0.1115])\n"
     ]
    }
   ],
   "source": [
    "print(weights[:20])"
   ]
  },
  {
   "cell_type": "code",
   "execution_count": 13,
   "id": "d58dcef7-090a-4bc7-94a8-61f97d4784e8",
   "metadata": {},
   "outputs": [
    {
     "data": {
      "text/plain": [
       "tensor(0.0615)"
      ]
     },
     "execution_count": 13,
     "metadata": {},
     "output_type": "execute_result"
    }
   ],
   "source": [
    "import torch.nn as nn\n",
    "mse_fn = nn.MSELoss()\n",
    "mse_fn(approx_values, weights).sqrt()"
   ]
  },
  {
   "cell_type": "code",
   "execution_count": 14,
   "id": "b5808c07-442c-451d-b9c9-523006786f27",
   "metadata": {},
   "outputs": [],
   "source": [
    "def quantize(weights, n_bits=8):\n",
    "    assert n_bits <= 16, \"Using more bits may very slow execution and/or crashing.\"\n",
    "    n_bins = 2**n_bits\n",
    "    bins = torch.linspace(weights.min(), weights.max(), n_bins+1)\n",
    "    first_bin = bins[0]\n",
    "    bin_width = bins[1]-bins[0]\n",
    "    bin_indexes = (weights.view(-1, 1) > bins).to(torch.int).argmin(dim=1) - 1\n",
    "    return bin_indexes, bin_width, first_bin\n",
    "\n",
    "def dequantize(bin_indexes, bin_width, first_bin):\n",
    "    approx_values = bin_indexes * bin_width + first_bin\n",
    "    return approx_values"
   ]
  },
  {
   "cell_type": "code",
   "execution_count": 15,
   "id": "4a5f0473-b80d-4b74-99c8-2e9745891c94",
   "metadata": {},
   "outputs": [
    {
     "name": "stdout",
     "output_type": "stream",
     "text": [
      "2-bit Quantization:\n",
      "tensor([-0.1026,  0.0015, -0.1026,  0.0015, -0.1026, -0.2066])\n",
      "tensor([-0.0358,  0.0720, -0.0247,  0.0086, -0.0127, -0.1048])\n",
      "tensor(0.0615)\n",
      "\n",
      "\n",
      "4-bit Quantization:\n",
      "tensor([-0.0505,  0.0535, -0.0505,  0.0015, -0.0245, -0.1286])\n",
      "tensor([-0.0358,  0.0720, -0.0247,  0.0086, -0.0127, -0.1048])\n",
      "tensor(0.0152)\n",
      "\n",
      "\n",
      "8-bit Quantization:\n",
      "tensor([-0.0359,  0.0714, -0.0261,  0.0080, -0.0131, -0.1058])\n",
      "tensor([-0.0358,  0.0720, -0.0247,  0.0086, -0.0127, -0.1048])\n",
      "tensor(0.0010)\n",
      "\n",
      "\n",
      "16-bit Quantization:\n",
      "tensor([-0.0359,  0.0718, -0.0248,  0.0085, -0.0128, -0.1049])\n",
      "tensor([-0.0358,  0.0720, -0.0247,  0.0086, -0.0127, -0.1048])\n",
      "tensor(0.0001)\n",
      "\n",
      "\n"
     ]
    }
   ],
   "source": [
    "for n_bits in [2, 4, 8, 16]:\n",
    "    res = quantize(weights, n_bits=n_bits)\n",
    "    approx_values = dequantize(*res)\n",
    "    print(f'{n_bits}-bit Quantization:')\n",
    "    print(approx_values[:6])\n",
    "    print(weights[:6])\n",
    "    print(mse_fn(approx_values, weights).sqrt())\n",
    "    print('\\n')"
   ]
  },
  {
   "cell_type": "markdown",
   "id": "74993c19-e531-4964-b58c-ed8bcd94a8c0",
   "metadata": {},
   "source": [
    "****\n",
    "**ASIDE: Weight Distribution of Phi-3's Linear Layers**\n",
    "\n",
    "The following plots show the weight distribution of a large linear layer, `qkv_proj`, within the self-\n",
    "attention block in Phi-3. Other layers, such as `o_proj`, also located within the self-attention block, and\n",
    "`gate_up_proj` and `down_proj`, in the MLP block, have very similar weight distributions. This layer is\n",
    "present in every one of the 32 decoder blocks (indicated by the number in square brackets). You’ll notice\n",
    "that these millions of weights are concentrated within a very narrow range. But there are a few outliers as\n",
    "well, so each subplot also contains the actual range of observed weights in the corresponding layer.\n",
    "\n",
    "![](https://github.com/dvgodoy/FineTuningLLMs/blob/main/images/ch2/self_attn.qkv_proj.png?raw=True)\n",
    "<center>Figure 2.5 - Weight distribution of Phi-3 layers</center>\n",
    "\n",
    "****"
   ]
  },
  {
   "cell_type": "markdown",
   "id": "6114d06e-a46b-45be-95fa-5d660d84c639",
   "metadata": {},
   "source": [
    "### Half-Precision Weights"
   ]
  },
  {
   "cell_type": "code",
   "execution_count": 16,
   "id": "a0c23ebb-f0a5-4b8c-9752-2b02484b6e3f",
   "metadata": {},
   "outputs": [
    {
     "name": "stdout",
     "output_type": "stream",
     "text": [
      "tensor([-0.0358,  0.0720, -0.0247,  0.0086, -0.0127, -0.1048],\n",
      "       dtype=torch.float16)\n",
      "tensor([-0.0358,  0.0720, -0.0247,  0.0086, -0.0127, -0.1048])\n"
     ]
    }
   ],
   "source": [
    "fp16_weights = weights.to(torch.float16)\n",
    "print(fp16_weights[:6])\n",
    "print(weights[:6])"
   ]
  },
  {
   "cell_type": "code",
   "execution_count": 17,
   "id": "e1dfa0f2-eb33-4c26-adfe-9130bdd0b8bc",
   "metadata": {},
   "outputs": [
    {
     "name": "stdout",
     "output_type": "stream",
     "text": [
      "tensor(1.4244e-05)\n"
     ]
    }
   ],
   "source": [
    "print(mse_fn(fp16_weights, weights).sqrt())"
   ]
  },
  {
   "cell_type": "markdown",
   "id": "676c8f97-e147-460e-8dbc-81193aba7dc1",
   "metadata": {},
   "source": [
    "#### Living on the Edge"
   ]
  },
  {
   "cell_type": "code",
   "execution_count": 18,
   "id": "1f272475-b353-4f5b-86a8-32d92ed3ed50",
   "metadata": {},
   "outputs": [
    {
     "data": {
      "text/plain": [
       "tensor(2.8526e-16)"
      ]
     },
     "execution_count": 18,
     "metadata": {},
     "output_type": "execute_result"
    }
   ],
   "source": [
    "torch.manual_seed(14)\n",
    "tiny_values = torch.randn(1000)*1e-5\n",
    "fp16_tiny_values = tiny_values.to(torch.float16)\n",
    "mse_fn(fp16_tiny_values, tiny_values)"
   ]
  },
  {
   "cell_type": "code",
   "execution_count": 19,
   "id": "3b6d2aa9-3b14-42d2-88c5-341a69493ced",
   "metadata": {},
   "outputs": [
    {
     "name": "stdout",
     "output_type": "stream",
     "text": [
      "tensor([-2.7241e-06,  1.1441e-05,  3.7199e-06, -1.1252e-06, -2.4735e-08])\n",
      "tensor([-2.7418e-06,  1.1444e-05,  3.6955e-06, -1.1325e-06, -0.0000e+00],\n",
      "       dtype=torch.float16)\n"
     ]
    }
   ],
   "source": [
    "print(tiny_values[155:160])\n",
    "print(fp16_tiny_values[155:160])"
   ]
  },
  {
   "cell_type": "code",
   "execution_count": 20,
   "id": "2cbdefd4-fb8b-409d-a5dc-4b6a75078c0d",
   "metadata": {},
   "outputs": [
    {
     "name": "stdout",
     "output_type": "stream",
     "text": [
      "tensor([155074.0938,  64881.6602,   2729.5815, -40790.6562,  68846.7188])\n",
      "tensor([    inf,  64896.,   2730., -40800.,     inf], dtype=torch.float16)\n"
     ]
    }
   ],
   "source": [
    "torch.manual_seed(19)\n",
    "large_values = torch.randn(1000)*1e5\n",
    "fp16_large_values = large_values.to(torch.float16)\n",
    "print(large_values[:5])\n",
    "print(fp16_large_values[:5])"
   ]
  },
  {
   "cell_type": "code",
   "execution_count": 21,
   "id": "7258e989-e1fb-4904-9764-3e84a0f7aa16",
   "metadata": {},
   "outputs": [
    {
     "data": {
      "text/plain": [
       "finfo(resolution=0.001, min=-65504, max=65504, eps=0.000976562, smallest_normal=6.10352e-05, tiny=6.10352e-05, dtype=float16)"
      ]
     },
     "execution_count": 21,
     "metadata": {},
     "output_type": "execute_result"
    }
   ],
   "source": [
    "fp16_info = torch.finfo(torch.float16)\n",
    "fp16_info"
   ]
  },
  {
   "cell_type": "code",
   "execution_count": 22,
   "id": "36ffc002-163e-4a6c-80ef-38e2943f156c",
   "metadata": {},
   "outputs": [
    {
     "data": {
      "text/plain": [
       "5.960464477539063e-08"
      ]
     },
     "execution_count": 22,
     "metadata": {},
     "output_type": "execute_result"
    }
   ],
   "source": [
    "smallest_subnormal = fp16_info.smallest_normal * 2**-10\n",
    "smallest_subnormal"
   ]
  },
  {
   "cell_type": "markdown",
   "id": "b214d7de-80d1-4704-bf8b-02b425545bad",
   "metadata": {},
   "source": [
    "### The Brain Float"
   ]
  },
  {
   "cell_type": "code",
   "execution_count": 23,
   "id": "555358a7-4331-477d-9b1e-a667ea8e329b",
   "metadata": {},
   "outputs": [
    {
     "name": "stdout",
     "output_type": "stream",
     "text": [
      "finfo(resolution=0.01, min=-3.38953e+38, max=3.38953e+38, eps=0.0078125, smallest_normal=1.17549e-38, tiny=1.17549e-38, dtype=bfloat16)\n",
      "finfo(resolution=0.001, min=-65504, max=65504, eps=0.000976562, smallest_normal=6.10352e-05, tiny=6.10352e-05, dtype=float16)\n"
     ]
    }
   ],
   "source": [
    "bf16_info = torch.finfo(torch.bfloat16)\n",
    "print(bf16_info)\n",
    "print(fp16_info)"
   ]
  },
  {
   "cell_type": "code",
   "execution_count": 24,
   "id": "78fb4b06-cc40-4bd4-bb8d-427a2b60f82b",
   "metadata": {},
   "outputs": [
    {
     "data": {
      "text/plain": [
       "finfo(resolution=1e-06, min=-3.40282e+38, max=3.40282e+38, eps=1.19209e-07, smallest_normal=1.17549e-38, tiny=1.17549e-38, dtype=float32)"
      ]
     },
     "execution_count": 24,
     "metadata": {},
     "output_type": "execute_result"
    }
   ],
   "source": [
    "fp32_info = torch.finfo(torch.float32)\n",
    "fp32_info"
   ]
  },
  {
   "cell_type": "code",
   "execution_count": 25,
   "id": "ad5530be-8d2d-4286-8af6-41e7b0d68088",
   "metadata": {},
   "outputs": [
    {
     "name": "stdout",
     "output_type": "stream",
     "text": [
      "tensor([0.555555582])\n",
      "tensor([0.555664062], dtype=torch.float16)\n",
      "tensor([0.554687500], dtype=torch.bfloat16)\n"
     ]
    }
   ],
   "source": [
    "x = torch.tensor([0.555555555])\n",
    "torch.set_printoptions(precision=9)\n",
    "print(x)\n",
    "print(x.to(torch.float16))\n",
    "print(x.to(torch.bfloat16))\n",
    "torch.set_printoptions(precision=4)"
   ]
  },
  {
   "cell_type": "markdown",
   "id": "11644a6b-42c8-49f7-aef6-1e3fc4006e6d",
   "metadata": {},
   "source": [
    "|Type | Precision | Sub-normal | Min. | Max. |\n",
    "|---|---|---|---|---|\n",
    "|FP32 | e-08 | e-45 | e-38 | e+38 |\n",
    "|BF16 | e-03  | NA | e-38 | e+38 |\n",
    "|FP16 | e-04  | e-08  | e-05 | e+04 |"
   ]
  },
  {
   "cell_type": "markdown",
   "id": "1da14e72-bf64-4aa7-b2a4-e2c74044aaec",
   "metadata": {},
   "source": [
    "### Loading Models\n",
    "\n",
    "****\n",
    "**Summary of \"Loading Models\"**\n",
    "- if supported by your GPU, use `torch.bfloat16` instead of `torch.float16` for all things 16-bit\n",
    " ```python\n",
    " supported = torch.cuda.is_bf16_supported(including_emulation=False)\n",
    " dtypes16 = (torch.bfloat16 if supported else torch.float16)\n",
    " ```\n",
    "- when loading a pretrained model, always specify its `torch_dype` upfront\n",
    " ```python\n",
    " model = AutoModelForCausalLM.from_pretrained(repo_id, device_map='cuda:0', torch_dtype=torch.float32)\n",
    " ```\n",
    "****"
   ]
  },
  {
   "cell_type": "code",
   "execution_count": 26,
   "id": "bff8ad67-6d3f-45ac-b941-b61caa375a88",
   "metadata": {},
   "outputs": [],
   "source": [
    "def get_parm_dtypes(iterable, top_k=3):\n",
    "    return Counter([p.dtype for p in iterable]).most_common(top_k)"
   ]
  },
  {
   "cell_type": "code",
   "execution_count": 28,
   "id": "7a343c7f-4461-4642-9bec-80f10026d75d",
   "metadata": {},
   "outputs": [
    {
     "name": "stdout",
     "output_type": "stream",
     "text": [
      "1324.785664\n",
      "[(torch.float32, 388)]\n"
     ]
    }
   ],
   "source": [
    "model = AutoModelForCausalLM.from_pretrained(\"facebook/opt-350m\", device_map='cuda:0')\n",
    "print(model.get_memory_footprint()/1e6)   \n",
    "print(get_parm_dtypes(model.parameters()))"
   ]
  },
  {
   "cell_type": "code",
   "execution_count": 45,
   "id": "ce15e972-1eaf-4cae-aa7c-cd6bcbb17345",
   "metadata": {},
   "outputs": [
    {
     "name": "stdout",
     "output_type": "stream",
     "text": [
      "-rw-rw-r-- 1 dvgodoy dvgodoy 662513657 May 11  2022 pytorch_model.bin\r\n"
     ]
    }
   ],
   "source": [
    "!wget https://huggingface.co/facebook/opt-350m/resolve/main/pytorch_model.bin\n",
    "!ls -la pytorch_model.bin"
   ]
  },
  {
   "cell_type": "code",
   "execution_count": 46,
   "id": "ff69969e-24ad-4811-8752-86eb388dca98",
   "metadata": {},
   "outputs": [
    {
     "data": {
      "text/plain": [
       "[(torch.float16, 388)]"
      ]
     },
     "execution_count": 46,
     "metadata": {},
     "output_type": "execute_result"
    }
   ],
   "source": [
    "state_dict = torch.load('pytorch_model.bin')\n",
    "get_parm_dtypes(iter(state_dict.values()))"
   ]
  },
  {
   "cell_type": "code",
   "execution_count": 29,
   "id": "35601692-39c5-4a4b-bfc7-878aff3c5b43",
   "metadata": {},
   "outputs": [],
   "source": [
    "model = AutoModelForCausalLM.from_pretrained(\"facebook/opt-350m\", \n",
    "                                             device_map='cuda:0',\n",
    "                                             torch_dtype=torch.float32)"
   ]
  },
  {
   "cell_type": "code",
   "execution_count": 30,
   "id": "268be553-6378-4dd4-bdf1-adf66edabe22",
   "metadata": {},
   "outputs": [],
   "source": [
    "tokenizer = AutoTokenizer.from_pretrained(\"facebook/opt-350m\")\n",
    "batch = tokenizer(['This is a simple test'], return_tensors='pt')\n",
    "batch['labels'] = batch['input_ids']\n",
    "device = 'cuda' if torch.cuda.is_available() else 'cpu'\n",
    "batch = {k: v.to(device) for k, v in batch.items()}"
   ]
  },
  {
   "cell_type": "code",
   "execution_count": 31,
   "id": "45a779f2-45f4-4866-9c5e-d7555779c179",
   "metadata": {},
   "outputs": [
    {
     "data": {
      "text/plain": [
       "tensor(3.8001, device='cuda:0', grad_fn=<NllLossBackward0>)"
      ]
     },
     "execution_count": 31,
     "metadata": {},
     "output_type": "execute_result"
    }
   ],
   "source": [
    "out = model(**batch)\n",
    "out.loss"
   ]
  },
  {
   "cell_type": "markdown",
   "id": "439fa9dd-4b45-4531-85b6-b9fbaf5c7c70",
   "metadata": {},
   "source": [
    "#### Half-Precision Models (16-bit)"
   ]
  },
  {
   "cell_type": "code",
   "execution_count": 33,
   "id": "661df791-515a-421d-9d13-1d4015dee5f6",
   "metadata": {},
   "outputs": [
    {
     "data": {
      "text/plain": [
       "torch.float16"
      ]
     },
     "execution_count": 33,
     "metadata": {},
     "output_type": "execute_result"
    }
   ],
   "source": [
    "supported = torch.cuda.is_bf16_supported(including_emulation=False)\n",
    "dtype16 = (torch.bfloat16 if supported else torch.float16)\n",
    "dtype16"
   ]
  },
  {
   "cell_type": "code",
   "execution_count": 34,
   "id": "fe57f58e-7e51-4ed5-9c49-2095e0db7437",
   "metadata": {},
   "outputs": [
    {
     "name": "stdout",
     "output_type": "stream",
     "text": [
      "662.392832\n"
     ]
    },
    {
     "data": {
      "text/plain": [
       "[(torch.float16, 388)]"
      ]
     },
     "execution_count": 34,
     "metadata": {},
     "output_type": "execute_result"
    }
   ],
   "source": [
    "model.to(dtype16)\n",
    "print(model.get_memory_footprint()/1e6)\n",
    "get_parm_dtypes(model.parameters())"
   ]
  },
  {
   "cell_type": "code",
   "execution_count": 35,
   "id": "ac15729d-382f-4ca5-b971-3eb71910b210",
   "metadata": {},
   "outputs": [
    {
     "name": "stdout",
     "output_type": "stream",
     "text": [
      "662.392832\n",
      "[(torch.float16, 388)]\n"
     ]
    }
   ],
   "source": [
    "model = AutoModelForCausalLM.from_pretrained(\"facebook/opt-350m\", \n",
    "                                             device_map='cuda:0',\n",
    "                                             torch_dtype=dtype16)\n",
    "print(model.get_memory_footprint()/1e6)\n",
    "print(get_parm_dtypes(model.parameters()))"
   ]
  },
  {
   "cell_type": "code",
   "execution_count": 36,
   "id": "fac90064-0a28-46ad-90fd-65245e97866e",
   "metadata": {},
   "outputs": [
    {
     "data": {
      "text/plain": [
       "tensor(3.8008, device='cuda:0', dtype=torch.float16,\n",
       "       grad_fn=<NllLossBackward0>)"
      ]
     },
     "execution_count": 36,
     "metadata": {},
     "output_type": "execute_result"
    }
   ],
   "source": [
    "out = model(**batch)\n",
    "out.loss"
   ]
  },
  {
   "cell_type": "markdown",
   "id": "d2cc03c4-13b9-4c76-a053-3b351876886f",
   "metadata": {},
   "source": [
    "### Mixed Precision"
   ]
  },
  {
   "cell_type": "code",
   "execution_count": 142,
   "id": "f362a308-c796-4c44-89f9-aae3b60f9964",
   "metadata": {},
   "outputs": [],
   "source": [
    "class MixedModel(nn.Module):\n",
    "    def __init__(self, dtype):\n",
    "        super().__init__()\n",
    "        self.a = nn.Linear(1000, 1000, dtype=dtype)\n",
    "        self.b = nn.Linear(1000, 1000, dtype=dtype)\n",
    "        \n",
    "    def forward(self, x):\n",
    "        return self.b(self.a(x))"
   ]
  },
  {
   "cell_type": "code",
   "execution_count": 143,
   "id": "4541a485-82ad-4d78-beb0-a41dbd2afdac",
   "metadata": {},
   "outputs": [
    {
     "data": {
      "text/plain": [
       "MixedModel(\n",
       "  (a): Linear(in_features=1000, out_features=1000, bias=True)\n",
       "  (b): Linear(in_features=1000, out_features=1000, bias=True)\n",
       ")"
      ]
     },
     "execution_count": 143,
     "metadata": {},
     "output_type": "execute_result"
    }
   ],
   "source": [
    "mixed32 = MixedModel(torch.float32)\n",
    "mixed32.to('cuda')"
   ]
  },
  {
   "cell_type": "code",
   "execution_count": 122,
   "id": "c32d8cc4-4309-4e70-b2e1-dc258ffdc688",
   "metadata": {},
   "outputs": [
    {
     "name": "stdout",
     "output_type": "stream",
     "text": [
      "1.41 ms ± 28 µs per loop (mean ± std. dev. of 7 runs, 1000 loops each)\n"
     ]
    }
   ],
   "source": [
    "%timeit mixed32(torch.randn(1000, 1000, dtype=torch.float32, device='cuda'))"
   ]
  },
  {
   "cell_type": "code",
   "execution_count": 120,
   "id": "93764a63-776d-4e8e-9e1e-d62e4ddc1bd2",
   "metadata": {},
   "outputs": [
    {
     "data": {
      "text/plain": [
       "MixedModel(\n",
       "  (a): Linear(in_features=1000, out_features=1000, bias=True)\n",
       "  (b): Linear(in_features=1000, out_features=1000, bias=True)\n",
       ")"
      ]
     },
     "execution_count": 120,
     "metadata": {},
     "output_type": "execute_result"
    }
   ],
   "source": [
    "mixed16 = MixedModel(torch.float16)\n",
    "mixed16.to('cuda')"
   ]
  },
  {
   "cell_type": "code",
   "execution_count": 123,
   "id": "a628518c-78d9-49ca-a746-c4866f78692b",
   "metadata": {},
   "outputs": [
    {
     "name": "stdout",
     "output_type": "stream",
     "text": [
      "248 µs ± 1.35 µs per loop (mean ± std. dev. of 7 runs, 1000 loops each)\n"
     ]
    }
   ],
   "source": [
    "%timeit mixed16(torch.randn(1000, 1000, dtype=torch.float16, device='cuda'))"
   ]
  },
  {
   "cell_type": "code",
   "execution_count": 125,
   "id": "b7a47e43-c5d5-450f-8022-76afa16e3640",
   "metadata": {},
   "outputs": [
    {
     "name": "stdout",
     "output_type": "stream",
     "text": [
      "277 µs ± 1.29 µs per loop (mean ± std. dev. of 7 runs, 1000 loops each)\n"
     ]
    }
   ],
   "source": [
    "with torch.autocast(device_type=\"cuda\", dtype=torch.float16):\n",
    "    %timeit mixed32(torch.randn(1000, 1000, dtype=torch.float32, device='cuda'))"
   ]
  },
  {
   "cell_type": "code",
   "execution_count": 149,
   "id": "d75166b7-30d4-4ce6-a665-6daa1180040c",
   "metadata": {},
   "outputs": [
    {
     "data": {
      "text/plain": [
       "torch.float32"
      ]
     },
     "execution_count": 149,
     "metadata": {},
     "output_type": "execute_result"
    }
   ],
   "source": [
    "with torch.autocast(device_type=\"cuda\", dtype=torch.float16):\n",
    "    res16 = mixed32(torch.randn(1000, 1000, dtype=torch.float32, device='cuda'))\n",
    "    \n",
    "res32 = res16.float()"
   ]
  },
  {
   "cell_type": "code",
   "execution_count": 144,
   "id": "fd42fb57-64fa-4c71-82ea-9c1fadbe2bc4",
   "metadata": {},
   "outputs": [],
   "source": [
    "autocast_context = torch.autocast(device_type=\"cuda\", dtype=torch.float16)\n",
    "# original forward method\n",
    "model_forward_func = mixed32.forward.__func__\n",
    "# wrapping the method with the context manager\n",
    "new_forward = autocast_context(model_forward_func)\n",
    "# assigning the wrapped method back to the model\n",
    "mixed32.forward = MethodType(new_forward, mixed32)"
   ]
  },
  {
   "cell_type": "code",
   "execution_count": 145,
   "id": "2505e846-c07e-44b6-8ede-b997ad107bd0",
   "metadata": {},
   "outputs": [
    {
     "data": {
      "text/plain": [
       "torch.float16"
      ]
     },
     "execution_count": 145,
     "metadata": {},
     "output_type": "execute_result"
    }
   ],
   "source": [
    "res = mixed32(torch.randn(1000, 1000, dtype=torch.float32, device='cuda'))\n",
    "res.dtype"
   ]
  },
  {
   "cell_type": "code",
   "execution_count": 146,
   "id": "9422f619-a05b-40ad-85e3-561fdc350d9e",
   "metadata": {},
   "outputs": [],
   "source": [
    "mixed32.forward = MethodType(convert_outputs_to_fp32(mixed32.forward.__func__), mixed32)"
   ]
  },
  {
   "cell_type": "code",
   "execution_count": 147,
   "id": "9d42e630-95cc-4afa-be4f-b53625be0067",
   "metadata": {},
   "outputs": [
    {
     "data": {
      "text/plain": [
       "torch.float32"
      ]
     },
     "execution_count": 147,
     "metadata": {},
     "output_type": "execute_result"
    }
   ],
   "source": [
    "res = mixed32(torch.randn(1000, 1000, dtype=torch.float32, device='cuda'))\n",
    "res.dtype"
   ]
  },
  {
   "cell_type": "code",
   "execution_count": 134,
   "id": "f6039e4e-61e8-4bc4-8e6f-26af4042185c",
   "metadata": {},
   "outputs": [
    {
     "name": "stdout",
     "output_type": "stream",
     "text": [
      "371 µs ± 1.27 µs per loop  (mean ± std. dev. of 7 runs, 1000 loops each)\n"
     ]
    }
   ],
   "source": [
    "%timeit mixed32(torch.randn(1000, 1000, dtype=torch.float32, device='cuda'))"
   ]
  },
  {
   "cell_type": "markdown",
   "id": "05c504be-72b8-446d-9d8b-9c9e03519449",
   "metadata": {},
   "source": [
    "### BitsAndBytes\n",
    "\n",
    "[BitsAndBytes](https://huggingface.co/docs/bitsandbytes/main/en/index) is your go-to package for quantization. From its documentation:\n",
    "\n",
    "\"_bitsandbytes enables accessible large language models via k-bit quantization for PyTorch. bitsandbytes provides three main features for dramatically reducing memory consumption for inference and training:_\n",
    "\n",
    "- _8-bit optimizers uses block-wise quantization to maintain 32-bit performance at a small fraction of the memory cost._\n",
    "- _LLM.Int() or 8-bit quantization enables large language model inference with only half the required memory and without any performance degradation. This method is based on vector-wise quantization to quantize most features to 8-bits and separately treating outliers with 16-bit matrix multiplication._\n",
    "- _QLoRA or 4-bit quantization enables large language model training with several memory-saving techniques that don’t compromise performance. This method quantizes a model to 4-bits and inserts a small set of trainable low-rank adaptation (LoRA) weights to allow training._\""
   ]
  },
  {
   "cell_type": "code",
   "execution_count": 37,
   "id": "a3d42d9e-263e-4e2c-8aff-63dc6f07407d",
   "metadata": {
    "scrolled": true
   },
   "outputs": [
    {
     "data": {
      "text/plain": [
       "BitsAndBytesConfig {\n",
       "  \"_load_in_4bit\": false,\n",
       "  \"_load_in_8bit\": false,\n",
       "  \"bnb_4bit_compute_dtype\": \"float32\",\n",
       "  \"bnb_4bit_quant_storage\": \"uint8\",\n",
       "  \"bnb_4bit_quant_type\": \"fp4\",\n",
       "  \"bnb_4bit_use_double_quant\": false,\n",
       "  \"llm_int8_enable_fp32_cpu_offload\": false,\n",
       "  \"llm_int8_has_fp16_weight\": false,\n",
       "  \"llm_int8_skip_modules\": null,\n",
       "  \"llm_int8_threshold\": 6.0,\n",
       "  \"load_in_4bit\": false,\n",
       "  \"load_in_8bit\": false,\n",
       "  \"quant_method\": \"bitsandbytes\"\n",
       "}"
      ]
     },
     "execution_count": 37,
     "metadata": {},
     "output_type": "execute_result"
    }
   ],
   "source": [
    "bnb_config = BitsAndBytesConfig()\n",
    "bnb_config"
   ]
  },
  {
   "cell_type": "markdown",
   "id": "99af2be0-b949-44e2-adfb-3ce83f67b689",
   "metadata": {},
   "source": [
    "#### 8-Bit Quantization\n",
    "\n",
    "\"_LLM.int8() is a quantization method that doesn’t degrade performance which makes large model inference more accessible. The key is to extract the outliers from the inputs and weights and multiply them in 16-bit. All other values are multiplied in 8-bit and quantized to Int8 before being dequantized back to 16-bits. The outputs from the 16-bit and 8-bit multiplication are combined to produce the final output._\"\n",
    "\n",
    "Source: [8-bit quantization](https://huggingface.co/docs/bitsandbytes/en/reference/nn/linear8bit)\n",
    "\n",
    "****\n",
    "**Summary of \"8-Bit Quantization\"**\n",
    "- load an 8-bit quantized model in a few lines of code:\n",
    "  ```python\n",
    "    bnb_config = BitsAndBytesConfig(load_in_8bit=True)\n",
    "    model = AutoModelForCausalLM.from_pretrained(repo_id, \n",
    "                                                 device_map='cuda:0',\n",
    "                                                 torch_dtype=torch.float32,\n",
    "                                                 quantization_config=bnb_config)\n",
    "  ```\n",
    "  - quantization modifies the default type of non-quantized layers to `torch.float16` unless we actively provide the `torch_dtype` argument when calling the `from_pretrained()` method\n",
    "- 8-bit quantization replaces all linear layers except for:\n",
    "  - layers with tied (shared) weights\n",
    "  - the last layer in the model\n",
    "  - any layer named `lm_head`\n",
    "- if you want to skip additional modules, use the `llm_int8_skip_modules` configuration argument and make sure to manually include the layers with tied (shared) weights to avoid errors\n",
    "- computation (inside the quantized layers) happens in `torch.float16`\n",
    "****"
   ]
  },
  {
   "cell_type": "code",
   "execution_count": 76,
   "id": "b5dee8b0-2011-4d78-8b25-16d975338150",
   "metadata": {},
   "outputs": [
    {
     "name": "stdout",
     "output_type": "stream",
     "text": [
      "359.354368\n",
      "[(torch.float16, 242), (torch.int8, 146)]\n"
     ]
    }
   ],
   "source": [
    "bnb_config_q8 = BitsAndBytesConfig(load_in_8bit=True)\n",
    "model_q8 = AutoModelForCausalLM.from_pretrained(\"facebook/opt-350m\",\n",
    "                                                device_map='cuda:0',\n",
    "                                                quantization_config=bnb_config_q8)\n",
    "print(model_q8.get_memory_footprint()/1e6)\n",
    "print(get_parm_dtypes(model_q8.parameters()))"
   ]
  },
  {
   "cell_type": "code",
   "execution_count": 77,
   "id": "01f4f28d-eee0-4a93-a360-c1edf0747290",
   "metadata": {},
   "outputs": [
    {
     "data": {
      "text/plain": [
       "tensor(nan, device='cuda:0', dtype=torch.float16, grad_fn=<NllLossBackward0>)"
      ]
     },
     "execution_count": 77,
     "metadata": {},
     "output_type": "execute_result"
    }
   ],
   "source": [
    "# you may not get a NaN back, as it depends on the environment\n",
    "out = model_q8(**batch)\n",
    "out.loss"
   ]
  },
  {
   "cell_type": "code",
   "execution_count": 41,
   "id": "23ae17e1-8a88-4441-b465-ea9257ce87e2",
   "metadata": {},
   "outputs": [
    {
     "name": "stdout",
     "output_type": "stream",
     "text": [
      "415.670272\n",
      "[(torch.float32, 242), (torch.int8, 146)]\n"
     ]
    }
   ],
   "source": [
    "model_q8_32 = AutoModelForCausalLM.from_pretrained(\"facebook/opt-350m\", \n",
    "                                                device_map='cuda:0',\n",
    "                                                quantization_config=bnb_config_q8,\n",
    "                                                torch_dtype=torch.float32)\n",
    "print(model_q8_32.get_memory_footprint()/1e6)\n",
    "print(get_parm_dtypes(model_q8_32.parameters()))"
   ]
  },
  {
   "cell_type": "code",
   "execution_count": 42,
   "id": "998c65ba-0fa6-4a85-bb86-35416840b30e",
   "metadata": {},
   "outputs": [
    {
     "name": "stderr",
     "output_type": "stream",
     "text": [
      "UserWarning: MatMul8bitLt: inputs will be cast from torch.float32 to float16 during quantization\n",
      "  warnings.warn(f\"MatMul8bitLt: inputs will be cast from {A.dtype} to float16 during quantization\")\n"
     ]
    },
    {
     "data": {
      "text/plain": [
       "tensor(3.8024, device='cuda:0', grad_fn=<NllLossBackward0>)"
      ]
     },
     "execution_count": 42,
     "metadata": {},
     "output_type": "execute_result"
    }
   ],
   "source": [
    "out = model_q8_32(**batch)\n",
    "out.loss"
   ]
  },
  {
   "cell_type": "markdown",
   "id": "3475b0f9-4da1-458d-b7e6-2d46921f8a9c",
   "metadata": {},
   "source": [
    "##### Quantized Linear Layers"
   ]
  },
  {
   "cell_type": "code",
   "execution_count": 51,
   "id": "47cc05c7-0410-49aa-b1e9-cb26e4c5238f",
   "metadata": {},
   "outputs": [
    {
     "data": {
      "text/plain": [
       "OPTDecoderLayer(\n",
       "  (self_attn): OPTAttention(\n",
       "    (k_proj): Linear8bitLt(in_features=1024, out_features=1024, bias=True)\n",
       "    (v_proj): Linear8bitLt(in_features=1024, out_features=1024, bias=True)\n",
       "    (q_proj): Linear8bitLt(in_features=1024, out_features=1024, bias=True)\n",
       "    (out_proj): Linear8bitLt(in_features=1024, out_features=1024, bias=True)\n",
       "  )\n",
       "  (activation_fn): ReLU()\n",
       "  (self_attn_layer_norm): LayerNorm((1024,), eps=1e-05, elementwise_affine=True)\n",
       "  (fc1): Linear8bitLt(in_features=1024, out_features=4096, bias=True)\n",
       "  (fc2): Linear8bitLt(in_features=4096, out_features=1024, bias=True)\n",
       "  (final_layer_norm): LayerNorm((1024,), eps=1e-05, elementwise_affine=True)\n",
       ")"
      ]
     },
     "execution_count": 51,
     "metadata": {},
     "output_type": "execute_result"
    }
   ],
   "source": [
    "dec_layer = model_q8_32.model.decoder.layers[0]\n",
    "dec_layer"
   ]
  },
  {
   "cell_type": "code",
   "execution_count": 52,
   "id": "9e0268d6-e64f-4fa3-be38-2652529f4da3",
   "metadata": {},
   "outputs": [
    {
     "data": {
      "text/plain": [
       "Linear8bitLt(in_features=1024, out_features=1024, bias=True)"
      ]
     },
     "execution_count": 52,
     "metadata": {},
     "output_type": "execute_result"
    }
   ],
   "source": [
    "q8_layer = dec_layer.self_attn.k_proj\n",
    "q8_layer"
   ]
  },
  {
   "cell_type": "code",
   "execution_count": 53,
   "id": "56892a28-c257-4ea7-b78f-c55d321fb202",
   "metadata": {},
   "outputs": [
    {
     "data": {
      "text/plain": [
       "OrderedDict([('weight',\n",
       "              tensor([[ -67, -113,  -89,  ...,   65,  -16,  -87],\n",
       "                      [  60,  120,   90,  ...,  -50,   32,   80],\n",
       "                      [  47,  127,   86,  ...,  -34,    8,   90],\n",
       "                      ...,\n",
       "                      [ -65,   65,   34,  ...,  -64,   35,   64],\n",
       "                      [  57,   67,   21,  ...,   63,  -64,  -64],\n",
       "                      [ -64,   63,  -11,  ...,  -64,   34,   63]], device='cuda:0',\n",
       "                     dtype=torch.int8)),\n",
       "             ('bias',\n",
       "              tensor([-0.0134,  0.0082,  0.0161,  ..., -0.0242, -0.0150,  0.0203],\n",
       "                     device='cuda:0')),\n",
       "             ('SCB',\n",
       "              tensor([0.1250, 0.1252, 0.1250,  ..., 0.1252, 0.1250, 0.1254], device='cuda:0')),\n",
       "             ('weight_format', tensor(0, dtype=torch.uint8))])"
      ]
     },
     "execution_count": 53,
     "metadata": {},
     "output_type": "execute_result"
    }
   ],
   "source": [
    "q8_state = q8_layer.state_dict()\n",
    "q8_state"
   ]
  },
  {
   "cell_type": "code",
   "execution_count": 60,
   "id": "12aa0e36-a0a9-4430-8612-805d21b01982",
   "metadata": {},
   "outputs": [
    {
     "name": "stdout",
     "output_type": "stream",
     "text": [
      "Embedding(50272, 512, padding_idx=1)\n",
      "Linear(in_features=512, out_features=50272, bias=False)\n"
     ]
    }
   ],
   "source": [
    "print(model.model.decoder.embed_tokens)\n",
    "print(model.lm_head)"
   ]
  },
  {
   "cell_type": "code",
   "execution_count": 61,
   "id": "deaefc6e-0555-4a88-8d09-234457352e06",
   "metadata": {},
   "outputs": [
    {
     "data": {
      "text/plain": [
       "True"
      ]
     },
     "execution_count": 61,
     "metadata": {},
     "output_type": "execute_result"
    }
   ],
   "source": [
    "torch.allclose(model.model.decoder.embed_tokens.weight, \n",
    "               model.lm_head.weight)"
   ]
  },
  {
   "cell_type": "code",
   "execution_count": 57,
   "id": "2d7b8087-137b-4265-8deb-6998441c9480",
   "metadata": {},
   "outputs": [
    {
     "data": {
      "text/plain": [
       "(True, [['lm_head.weight', 'model.decoder.embed_tokens.weight']])"
      ]
     },
     "execution_count": 57,
     "metadata": {},
     "output_type": "execute_result"
    }
   ],
   "source": [
    "config = AutoConfig.from_pretrained('facebook/opt-350m')\n",
    "\n",
    "config.tie_word_embeddings, find_tied_parameters(model)"
   ]
  },
  {
   "cell_type": "code",
   "execution_count": 58,
   "id": "906c988d-e9ca-4467-80fe-5eea51afb2d5",
   "metadata": {},
   "outputs": [
    {
     "data": {
      "text/plain": [
       "Parameter containing:\n",
       "tensor(..., device='meta', size=(50272, 512), requires_grad=True)"
      ]
     },
     "execution_count": 58,
     "metadata": {},
     "output_type": "execute_result"
    }
   ],
   "source": [
    "with init_empty_weights(): # loads meta tensors only\n",
    "    empty_model = AutoModelForCausalLM.from_config(config)\n",
    "\n",
    "empty_model.lm_head.weight"
   ]
  },
  {
   "cell_type": "code",
   "execution_count": 59,
   "id": "f9e5797f-a363-469e-9801-3bf5282244fe",
   "metadata": {},
   "outputs": [
    {
     "data": {
      "text/plain": [
       "['lm_head', 'model.decoder.embed_tokens']"
      ]
     },
     "execution_count": 59,
     "metadata": {},
     "output_type": "execute_result"
    }
   ],
   "source": [
    "skip_modules = get_keys_to_not_convert(empty_model)\n",
    "skip_modules"
   ]
  },
  {
   "cell_type": "code",
   "execution_count": 62,
   "id": "5b016d31-0ae6-4422-b240-cdc9cfef4d0b",
   "metadata": {},
   "outputs": [
    {
     "name": "stdout",
     "output_type": "stream",
     "text": [
      "lm_head: torch.float32\n",
      "model.decoder.embed_tokens: torch.float32\n"
     ]
    }
   ],
   "source": [
    "for module in skip_modules:\n",
    "    print(f'{module}: {next(model_q8_32.get_submodule(module).parameters()).dtype}')"
   ]
  },
  {
   "cell_type": "markdown",
   "id": "63d4d8b3-03d3-4b51-94a1-420fedadc123",
   "metadata": {},
   "source": [
    "#### `llm_int8_skip_modules`\n",
    "\n",
    "If your model has tied weights, and you choose to use your own list of modules to skip, you\n",
    "must add one of the tied layers to your list. If you don’t, you may get the following\n",
    "exception:\n",
    "\n",
    "***\n",
    "`AttributeError: 'Parameter' object has no attribute 'SCB'`\n",
    "***\n",
    "\n",
    "```python\n",
    "# This configuration WILL raise an exception \n",
    "# while trying to load weights for the tied layer\n",
    "# bnb_config_skip = BitsAndBytesConfig(load_in_8bit=True, \n",
    "#                                      llm_int8_skip_modules=['o_proj'])\n",
    "\n",
    "# This configuration works fine because \n",
    "# the tied layer, lm_head, is in the list\n",
    "bnb_config_skip = BitsAndBytesConfig(\n",
    "        load_in_8bit=True, \n",
    "        llm_int8_skip_modules=['o_proj', 'lm_head'])\n",
    "\n",
    "model_skip = AutoModelForCausalLM.from_pretrained(\"facebook/opt-350m\",\n",
    "                                                  device_map='cuda:0',\n",
    "                                                  torch_dtype=torch.float32,\n",
    "                                                  quantization_config=bnb_config_skip)\n",
    "```"
   ]
  },
  {
   "cell_type": "markdown",
   "id": "1e15ca51-9f02-4892-845f-e79b01d93563",
   "metadata": {},
   "source": [
    "##### 8-bit Layers\n",
    "\n",
    "\"*In order to quantize a linear layer one should first load the original fp16 / bf16 weights into the Linear8bitLt module, then call int8_module.to(\"cuda\") to quantize the fp16 weights.*\"\n",
    "\n",
    "Source: [8-bit quantization](https://huggingface.co/docs/bitsandbytes/en/reference/nn/linear8bit)"
   ]
  },
  {
   "cell_type": "code",
   "execution_count": 63,
   "id": "3f6a81f5-651f-4c9d-9b14-1c58cb9ad11b",
   "metadata": {},
   "outputs": [
    {
     "data": {
      "text/plain": [
       "OrderedDict([('weight',\n",
       "              tensor([[-0.2220, -0.0085,  0.3072, -0.2097,  0.0531,  0.1224,  0.0525, -0.2350,\n",
       "                        0.0456,  0.2687],\n",
       "                      [-0.1459,  0.1786, -0.1443, -0.0233,  0.1689,  0.0015, -0.2514,  0.1644,\n",
       "                        0.1920,  0.1678],\n",
       "                      [ 0.2346,  0.1411,  0.2128,  0.0519,  0.2147, -0.2786, -0.0433, -0.0364,\n",
       "                       -0.1504,  0.0823],\n",
       "                      [ 0.2388, -0.2134, -0.1620, -0.1023,  0.2433, -0.2680,  0.3099, -0.1933,\n",
       "                       -0.0471, -0.0391],\n",
       "                      [-0.1273,  0.2197, -0.0136, -0.1938, -0.1746,  0.0404,  0.0711, -0.1730,\n",
       "                        0.0539, -0.1992],\n",
       "                      [-0.0051,  0.1373, -0.0267, -0.0907, -0.0107,  0.1108, -0.1566,  0.0172,\n",
       "                        0.2075, -0.0028],\n",
       "                      [ 0.2082, -0.2857, -0.2640, -0.1436,  0.1704,  0.1908, -0.2350,  0.1187,\n",
       "                       -0.0568,  0.0916],\n",
       "                      [ 0.2974, -0.3061,  0.0559,  0.1899,  0.0265, -0.1893, -0.0582, -0.0943,\n",
       "                        0.2451,  0.2825],\n",
       "                      [-0.1241, -0.3106, -0.1002, -0.1745,  0.2693,  0.2985,  0.1633, -0.0270,\n",
       "                       -0.3049,  0.0227],\n",
       "                      [-0.1217,  0.0035, -0.1481, -0.0330,  0.1787,  0.3123,  0.2600, -0.1720,\n",
       "                        0.2059,  0.2057]])),\n",
       "             ('bias',\n",
       "              tensor([ 0.1269,  0.2999,  0.0252, -0.0380, -0.1788, -0.0704,  0.1124, -0.2233,\n",
       "                       0.0653, -0.0854]))])"
      ]
     },
     "execution_count": 63,
     "metadata": {},
     "output_type": "execute_result"
    }
   ],
   "source": [
    "n_in = 10\n",
    "n_out = 10\n",
    "\n",
    "torch.manual_seed(11)\n",
    "fp_layer = nn.Linear(n_in, n_out)\n",
    "\n",
    "int8_layer = Linear8bitLt(n_in, n_out, has_fp16_weights=False)\n",
    "\n",
    "int8_layer.load_state_dict(fp_layer.state_dict())\n",
    "int8_layer.state_dict()"
   ]
  },
  {
   "cell_type": "code",
   "execution_count": 64,
   "id": "1a0fb2ac-e869-4416-a67e-fcb1aedf2887",
   "metadata": {},
   "outputs": [
    {
     "data": {
      "text/plain": [
       "OrderedDict([('weight',\n",
       "              tensor([[ -92,   -4,  127,  -87,   22,   51,   22,  -97,   19,  111],\n",
       "                      [ -74,   90,  -73,  -12,   85,    1, -127,   83,   97,   85],\n",
       "                      [ 107,   64,   97,   24,   98, -127,  -20,  -17,  -69,   38],\n",
       "                      [  98,  -87,  -66,  -42,  100, -110,  127,  -79,  -19,  -16],\n",
       "                      [ -74,  127,   -8, -112, -101,   23,   41, -100,   31, -115],\n",
       "                      [  -3,   84,  -16,  -56,   -7,   68,  -96,   11,  127,   -2],\n",
       "                      [  93, -127, -117,  -64,   76,   85, -104,   53,  -25,   41],\n",
       "                      [ 123, -127,   23,   79,   11,  -79,  -24,  -39,  102,  117],\n",
       "                      [ -51, -127,  -41,  -71,  110,  122,   67,  -11, -125,    9],\n",
       "                      [ -50,    1,  -60,  -13,   73,  127,  106,  -70,   84,   84]],\n",
       "                     device='cuda:0', dtype=torch.int8)),\n",
       "             ('bias',\n",
       "              tensor([ 0.1269,  0.2999,  0.0252, -0.0380, -0.1788, -0.0704,  0.1124, -0.2233,\n",
       "                       0.0653, -0.0854], device='cuda:0')),\n",
       "             ('SCB',\n",
       "              tensor([0.3071, 0.2515, 0.2786, 0.3098, 0.2197, 0.2075, 0.2856, 0.3062, 0.3105,\n",
       "                      0.3123], device='cuda:0')),\n",
       "             ('weight_format', tensor(0, dtype=torch.uint8))])"
      ]
     },
     "execution_count": 64,
     "metadata": {},
     "output_type": "execute_result"
    }
   ],
   "source": [
    "int8_layer = int8_layer.to(0) # Quantization happens here\n",
    "int8_state = int8_layer.state_dict()\n",
    "int8_state"
   ]
  },
  {
   "cell_type": "markdown",
   "id": "2795cac1-43e7-44d0-9bf6-426aa42a2593",
   "metadata": {},
   "source": [
    "#### 4-bit Quantization\n",
    "\n",
    "\"*QLoRA is a finetuning method that quantizes a model to 4-bits and adds a set of low-rank adaptation (LoRA) weights to the model and tuning them through the quantized weights. This method also introduces a new data type, 4-bit NormalFloat (LinearNF4) in addition to the standard Float4 data type (LinearFP4). LinearNF4 is a quantization data type for normally distributed data and can improve performance.*\"\n",
    "\n",
    "Source: [4-bit quantization](https://huggingface.co/docs/bitsandbytes/en/reference/nn/linear4bit)\n",
    "\n",
    "****\n",
    "**Summary of \"4-Bit Quantization\"**\n",
    "- squeeze the most of a 4-bit quantized model by using the normal float (NF4) type and double quantization\n",
    "  ```python\n",
    "  supported = torch.cuda.is_bf16_supported(including_emulation=False)\n",
    "  compute_dtype = (torch.bfloat16 if supported else torch.float32)\n",
    "  nf4_config = BitsAndBytesConfig(\n",
    "     load_in_4bit=True,\n",
    "     bnb_4bit_quant_type=\"nf4\",\n",
    "     bnb_4bit_use_double_quant=True,\n",
    "     bnb_4bit_compute_dtype=compute_dtype\n",
    "  )\n",
    "  model = AutoModelForCausalLM.from_pretrained(repo_id, \n",
    "                                               device_map='cuda:0',\n",
    "                                               torch_dtype=torch.float32,\n",
    "                                               quantization_config=nf4_config)\n",
    "  ```\n",
    "- computation happens (inside the quantized layers) in the specified type (`bnb_4bit_compute_dtype`):\n",
    "FP32 is better than BF16, which is better than FP16.\n",
    "****"
   ]
  },
  {
   "cell_type": "code",
   "execution_count": 67,
   "id": "af8da948-b004-4641-86aa-f323b055ec0f",
   "metadata": {},
   "outputs": [],
   "source": [
    "supported = torch.cuda.is_bf16_supported(including_emulation=False)\n",
    "compute_dtype = (torch.bfloat16 if supported else torch.float32)\n",
    "\n",
    "nf4_config = BitsAndBytesConfig(\n",
    "   load_in_4bit=True,\n",
    "   bnb_4bit_quant_type=\"nf4\",\n",
    "   bnb_4bit_use_double_quant=True,\n",
    "   bnb_4bit_compute_dtype=compute_dtype\n",
    ")"
   ]
  },
  {
   "cell_type": "markdown",
   "id": "448c9c90-9e8f-4830-be68-06c057790ac0",
   "metadata": {},
   "source": [
    "**The Secret Lives of `Dtypes`**\n",
    "\n",
    "| Regular Model | Quantized Model |\n",
    "|---|---|\n",
    "| ![](https://github.com/dvgodoy/FineTuningLLMs/blob/main/images/ch2/type_flow_regular.png?raw=True) | ![](https://github.com/dvgodoy/FineTuningLLMs/blob/main/images/ch2/type_flow_qt.png?raw=True) |\n",
    "| <center>Figure 2.6 - Data types flowing through a regular model</center> | <center>Figure 2.7 - Data types flowing through a quantized model</center> |"
   ]
  },
  {
   "cell_type": "code",
   "execution_count": 78,
   "id": "455c112a-14fb-4b3e-b2cc-63f062a535c0",
   "metadata": {},
   "outputs": [
    {
     "name": "stdout",
     "output_type": "stream",
     "text": [
      "264.15104\n",
      "[(torch.float32, 242), (torch.uint8, 146)]\n"
     ]
    }
   ],
   "source": [
    "model_q4 = AutoModelForCausalLM.from_pretrained(\"facebook/opt-350m\", \n",
    "                                                device_map='cuda:0',\n",
    "                                                torch_dtype=torch.float32,\n",
    "                                                quantization_config=nf4_config)\n",
    "print(model_q4.get_memory_footprint()/1e6)\n",
    "print(get_parm_dtypes(model_q4.parameters()))"
   ]
  },
  {
   "cell_type": "code",
   "execution_count": 73,
   "id": "3fc3d0e9-17a1-457a-9c17-3c1e4b9bd236",
   "metadata": {},
   "outputs": [
    {
     "data": {
      "text/plain": [
       "tensor(4.7016, device='cuda:0', grad_fn=<NllLossBackward0>)"
      ]
     },
     "execution_count": 73,
     "metadata": {},
     "output_type": "execute_result"
    }
   ],
   "source": [
    "out = model_q4(**batch)\n",
    "out.loss"
   ]
  },
  {
   "cell_type": "code",
   "execution_count": 60,
   "id": "bb15e37a-6eb0-41f8-9cf6-c4ad22e5b6a1",
   "metadata": {},
   "outputs": [
    {
     "data": {
      "text/plain": [
       "OPTDecoderLayer(\n",
       "  (self_attn): OPTAttention(\n",
       "    (k_proj): Linear4bit(in_features=1024, out_features=1024, bias=True)\n",
       "    (v_proj): Linear4bit(in_features=1024, out_features=1024, bias=True)\n",
       "    (q_proj): Linear4bit(in_features=1024, out_features=1024, bias=True)\n",
       "    (out_proj): Linear4bit(in_features=1024, out_features=1024, bias=True)\n",
       "  )\n",
       "  (activation_fn): ReLU()\n",
       "  (self_attn_layer_norm): LayerNorm((1024,), eps=1e-05, elementwise_affine=True)\n",
       "  (fc1): Linear4bit(in_features=1024, out_features=4096, bias=True)\n",
       "  (fc2): Linear4bit(in_features=4096, out_features=1024, bias=True)\n",
       "  (final_layer_norm): LayerNorm((1024,), eps=1e-05, elementwise_affine=True)\n",
       ")"
      ]
     },
     "execution_count": 60,
     "metadata": {},
     "output_type": "execute_result"
    }
   ],
   "source": [
    "dec_layer = model_q4.model.decoder.layers[0]\n",
    "dec_layer"
   ]
  },
  {
   "cell_type": "code",
   "execution_count": 62,
   "id": "a810b395-5e4a-4719-a290-854b8bc5c724",
   "metadata": {},
   "outputs": [
    {
     "data": {
      "text/plain": [
       "Linear4bit(in_features=1024, out_features=1024, bias=True)"
      ]
     },
     "execution_count": 62,
     "metadata": {},
     "output_type": "execute_result"
    }
   ],
   "source": [
    "q4_layer = dec_layer.self_attn.k_proj\n",
    "q4_layer"
   ]
  },
  {
   "cell_type": "code",
   "execution_count": 50,
   "id": "5defbf13-d862-4a08-aca5-8ea3f888dd43",
   "metadata": {},
   "outputs": [
    {
     "data": {
      "text/plain": [
       "OrderedDict([('weight',\n",
       "              tensor([[ 32],\n",
       "                      [ 29],\n",
       "                      [208],\n",
       "                      ...,\n",
       "                      [ 66],\n",
       "                      [ 34],\n",
       "                      [172]], device='cuda:0', dtype=torch.uint8)),\n",
       "             ('bias',\n",
       "              tensor([-0.0134,  0.0082,  0.0161,  ..., -0.0242, -0.0150,  0.0203],\n",
       "                     device='cuda:0', dtype=torch.float16)),\n",
       "             ('weight.absmax',\n",
       "              tensor([230, 230,  30,  ...,   1,  26, 191], device='cuda:0',\n",
       "                     dtype=torch.uint8)),\n",
       "             ('weight.quant_map',\n",
       "              tensor([-1.0000, -0.6962, -0.5251, -0.3949, -0.2844, -0.1848, -0.0911,  0.0000,\n",
       "                       0.0796,  0.1609,  0.2461,  0.3379,  0.4407,  0.5626,  0.7230,  1.0000],\n",
       "                     device='cuda:0')),\n",
       "             ('weight.nested_absmax',\n",
       "              tensor([0.0077, 0.0142, 0.0153, 0.0138, 0.0399, 0.0409, 0.0417, 0.0426, 0.0053,\n",
       "                      0.0053, 0.0053, 0.0053, 0.0051, 0.0051, 0.0051, 0.0053, 0.0195, 0.0269,\n",
       "                      0.0223, 0.0195, 0.0053, 0.0053, 0.0054, 0.0054, 0.0317, 0.0315, 0.0306,\n",
       "                      0.0320, 0.0262, 0.0265, 0.0230, 0.0296, 0.0051, 0.0065, 0.0050, 0.0050,\n",
       "                      0.0051, 0.0053, 0.0050, 0.0051, 0.0056, 0.0056, 0.0056, 0.0056, 0.0428,\n",
       "                      0.0410, 0.0405, 0.0422, 0.0397, 0.0402, 0.0394, 0.0414, 0.0204, 0.0106,\n",
       "                      0.0140, 0.0078, 0.0406, 0.0349, 0.0359, 0.0418, 0.0503, 0.0499, 0.0470,\n",
       "                      0.0458], device='cuda:0')),\n",
       "             ('weight.nested_quant_map',\n",
       "              tensor([-9.9297e-01, -9.7891e-01, -9.6484e-01, -9.5078e-01, -9.3672e-01,\n",
       "                      -9.2266e-01, -9.0859e-01, -8.9453e-01, -8.8047e-01, -8.6641e-01,\n",
       "                      -8.5234e-01, -8.3828e-01, -8.2422e-01, -8.1016e-01, -7.9609e-01,\n",
       "                      -7.8203e-01, -7.6797e-01, -7.5391e-01, -7.3984e-01, -7.2578e-01,\n",
       "                      -7.1172e-01, -6.9766e-01, -6.8359e-01, -6.6953e-01, -6.5547e-01,\n",
       "                      -6.4141e-01, -6.2734e-01, -6.1328e-01, -5.9922e-01, -5.8516e-01,\n",
       "                      -5.7109e-01, -5.5703e-01, -5.4297e-01, -5.2891e-01, -5.1484e-01,\n",
       "                      -5.0078e-01, -4.8672e-01, -4.7266e-01, -4.5859e-01, -4.4453e-01,\n",
       "                      -4.3047e-01, -4.1641e-01, -4.0234e-01, -3.8828e-01, -3.7422e-01,\n",
       "                      -3.6016e-01, -3.4609e-01, -3.3203e-01, -3.1797e-01, -3.0391e-01,\n",
       "                      -2.8984e-01, -2.7578e-01, -2.6172e-01, -2.4766e-01, -2.3359e-01,\n",
       "                      -2.1953e-01, -2.0547e-01, -1.9141e-01, -1.7734e-01, -1.6328e-01,\n",
       "                      -1.4922e-01, -1.3516e-01, -1.2109e-01, -1.0703e-01, -9.8594e-02,\n",
       "                      -9.5781e-02, -9.2969e-02, -9.0156e-02, -8.7344e-02, -8.4531e-02,\n",
       "                      -8.1719e-02, -7.8906e-02, -7.6094e-02, -7.3281e-02, -7.0469e-02,\n",
       "                      -6.7656e-02, -6.4844e-02, -6.2031e-02, -5.9219e-02, -5.6406e-02,\n",
       "                      -5.3594e-02, -5.0781e-02, -4.7969e-02, -4.5156e-02, -4.2344e-02,\n",
       "                      -3.9531e-02, -3.6719e-02, -3.3906e-02, -3.1094e-02, -2.8281e-02,\n",
       "                      -2.5469e-02, -2.2656e-02, -1.9844e-02, -1.7031e-02, -1.4219e-02,\n",
       "                      -1.1406e-02, -9.7187e-03, -9.1562e-03, -8.5938e-03, -8.0312e-03,\n",
       "                      -7.4687e-03, -6.9063e-03, -6.3437e-03, -5.7813e-03, -5.2188e-03,\n",
       "                      -4.6562e-03, -4.0937e-03, -3.5312e-03, -2.9687e-03, -2.4062e-03,\n",
       "                      -1.8438e-03, -1.2812e-03, -9.4375e-04, -8.3125e-04, -7.1875e-04,\n",
       "                      -6.0625e-04, -4.9375e-04, -3.8125e-04, -2.6875e-04, -1.5625e-04,\n",
       "                      -8.8750e-05, -6.6250e-05, -4.3750e-05, -2.1250e-05, -7.7500e-06,\n",
       "                      -3.2500e-06, -5.5000e-07,  0.0000e+00,  5.5000e-07,  3.2500e-06,\n",
       "                       7.7500e-06,  2.1250e-05,  4.3750e-05,  6.6250e-05,  8.8750e-05,\n",
       "                       1.5625e-04,  2.6875e-04,  3.8125e-04,  4.9375e-04,  6.0625e-04,\n",
       "                       7.1875e-04,  8.3125e-04,  9.4375e-04,  1.2812e-03,  1.8438e-03,\n",
       "                       2.4062e-03,  2.9687e-03,  3.5312e-03,  4.0937e-03,  4.6562e-03,\n",
       "                       5.2188e-03,  5.7813e-03,  6.3437e-03,  6.9063e-03,  7.4687e-03,\n",
       "                       8.0312e-03,  8.5938e-03,  9.1562e-03,  9.7187e-03,  1.1406e-02,\n",
       "                       1.4219e-02,  1.7031e-02,  1.9844e-02,  2.2656e-02,  2.5469e-02,\n",
       "                       2.8281e-02,  3.1094e-02,  3.3906e-02,  3.6719e-02,  3.9531e-02,\n",
       "                       4.2344e-02,  4.5156e-02,  4.7969e-02,  5.0781e-02,  5.3594e-02,\n",
       "                       5.6406e-02,  5.9219e-02,  6.2031e-02,  6.4844e-02,  6.7656e-02,\n",
       "                       7.0469e-02,  7.3281e-02,  7.6094e-02,  7.8906e-02,  8.1719e-02,\n",
       "                       8.4531e-02,  8.7344e-02,  9.0156e-02,  9.2969e-02,  9.5781e-02,\n",
       "                       9.8594e-02,  1.0703e-01,  1.2109e-01,  1.3516e-01,  1.4922e-01,\n",
       "                       1.6328e-01,  1.7734e-01,  1.9141e-01,  2.0547e-01,  2.1953e-01,\n",
       "                       2.3359e-01,  2.4766e-01,  2.6172e-01,  2.7578e-01,  2.8984e-01,\n",
       "                       3.0391e-01,  3.1797e-01,  3.3203e-01,  3.4609e-01,  3.6016e-01,\n",
       "                       3.7422e-01,  3.8828e-01,  4.0234e-01,  4.1641e-01,  4.3047e-01,\n",
       "                       4.4453e-01,  4.5859e-01,  4.7266e-01,  4.8672e-01,  5.0078e-01,\n",
       "                       5.1484e-01,  5.2891e-01,  5.4297e-01,  5.5703e-01,  5.7109e-01,\n",
       "                       5.8516e-01,  5.9922e-01,  6.1328e-01,  6.2734e-01,  6.4141e-01,\n",
       "                       6.5547e-01,  6.6953e-01,  6.8359e-01,  6.9766e-01,  7.1172e-01,\n",
       "                       7.2578e-01,  7.3984e-01,  7.5391e-01,  7.6797e-01,  7.8203e-01,\n",
       "                       7.9609e-01,  8.1016e-01,  8.2422e-01,  8.3828e-01,  8.5234e-01,\n",
       "                       8.6641e-01,  8.8047e-01,  8.9453e-01,  9.0859e-01,  9.2266e-01,\n",
       "                       9.3672e-01,  9.5078e-01,  9.6484e-01,  9.7891e-01,  9.9297e-01,\n",
       "                       1.0000e+00], device='cuda:0')),\n",
       "             ('weight.quant_state.bitsandbytes__nf4',\n",
       "              tensor([123,  34, 113, 117,  97, 110, 116,  95, 116, 121, 112, 101,  34,  58,\n",
       "                       32,  34, 110, 102,  52,  34,  44,  32,  34,  98, 108, 111,  99, 107,\n",
       "                      115, 105, 122, 101,  34,  58,  32,  54,  52,  44,  32,  34, 100, 116,\n",
       "                      121, 112, 101,  34,  58,  32,  34, 102, 108, 111,  97, 116,  49,  54,\n",
       "                       34,  44,  32,  34, 115, 104,  97, 112, 101,  34,  58,  32,  91,  49,\n",
       "                       48,  50,  52,  44,  32,  49,  48,  50,  52,  93,  44,  32,  34, 110,\n",
       "                      101, 115, 116, 101, 100,  95,  98, 108, 111,  99, 107, 115, 105, 122,\n",
       "                      101,  34,  58,  32,  50,  53,  54,  44,  32,  34, 110, 101, 115, 116,\n",
       "                      101, 100,  95, 100, 116, 121, 112, 101,  34,  58,  32,  34, 102, 108,\n",
       "                      111,  97, 116,  51,  50,  34,  44,  32,  34, 110, 101, 115, 116, 101,\n",
       "                      100,  95, 111, 102, 102, 115, 101, 116,  34,  58,  32,  48,  46,  49,\n",
       "                       49,  57,  57,  56,  49,  55,  50,  49,  48,  52,  51,  53,  56,  54,\n",
       "                       55,  51, 125], dtype=torch.uint8))])"
      ]
     },
     "execution_count": 50,
     "metadata": {},
     "output_type": "execute_result"
    }
   ],
   "source": [
    "q4_layer.state_dict()"
   ]
  },
  {
   "cell_type": "markdown",
   "id": "3d4b9518-82aa-4e40-8dda-dd7f2f7b584e",
   "metadata": {},
   "source": [
    "##### FP4 vs NF4 Layers"
   ]
  },
  {
   "cell_type": "code",
   "execution_count": 127,
   "id": "ac1e0218-e1d2-49a1-b905-158c91f590d3",
   "metadata": {},
   "outputs": [
    {
     "name": "stderr",
     "output_type": "stream",
     "text": [
      "The installed version of bitsandbytes was compiled without GPU support. 8-bit optimizers, 8-bit multiplication, and GPU quantization are unavailable.\n"
     ]
    },
    {
     "data": {
      "text/plain": [
       "Linear(in_features=10, out_features=10, bias=True)"
      ]
     },
     "execution_count": 127,
     "metadata": {},
     "output_type": "execute_result"
    }
   ],
   "source": [
    "n_in = 10\n",
    "n_out = 10\n",
    "torch.manual_seed(11)\n",
    "fp16_layer = nn.Linear(n_in, n_out)\n",
    "fp16_layer"
   ]
  },
  {
   "cell_type": "code",
   "execution_count": 65,
   "id": "d81bddd2-5731-45de-8cbe-9ee0b80d0e06",
   "metadata": {},
   "outputs": [
    {
     "data": {
      "text/plain": [
       "<All keys matched successfully>"
      ]
     },
     "execution_count": 65,
     "metadata": {},
     "output_type": "execute_result"
    }
   ],
   "source": [
    "fp4_layer = LinearFP4(n_in, n_out)\n",
    "fp4_layer.load_state_dict(fp16_layer.state_dict())\n",
    "\n",
    "nf4_model = LinearNF4(n_in, n_out)\n",
    "nf4_model.load_state_dict(fp16_layer.state_dict())"
   ]
  },
  {
   "cell_type": "code",
   "execution_count": 66,
   "id": "0591b8b6-25e7-43e1-a559-b8ea7a092650",
   "metadata": {},
   "outputs": [
    {
     "data": {
      "text/plain": [
       "(tensor([ 0.0000,  0.0052,  0.6667,  1.0000,  0.3333,  0.5000,  0.1667,  0.2500,\n",
       "          0.0000, -0.0052, -0.6667, -1.0000, -0.3333, -0.5000, -0.1667, -0.2500],\n",
       "        device='cuda:0'),\n",
       " torch.Size([50, 1]))"
      ]
     },
     "execution_count": 66,
     "metadata": {},
     "output_type": "execute_result"
    }
   ],
   "source": [
    "fp4_layer = fp4_layer.to(0) # Quantization happens here\n",
    "fp4_state = fp4_layer.state_dict()\n",
    "\n",
    "fp4_state['weight.quant_map'], fp4_state['weight'].shape"
   ]
  },
  {
   "cell_type": "code",
   "execution_count": 52,
   "id": "7db8476b-228d-4040-b7bb-7b972dbba0b3",
   "metadata": {},
   "outputs": [
    {
     "data": {
      "text/plain": [
       "Text(0.5, 1.0, 'FP4 quantization')"
      ]
     },
     "execution_count": 52,
     "metadata": {},
     "output_type": "execute_result"
    },
    {
     "data": {
      "image/png": "[encoded data removed]",
      "text/plain": [
       "<Figure size 600x50 with 1 Axes>"
      ]
     },
     "metadata": {},
     "output_type": "display_data"
    }
   ],
   "source": [
    "fig, ax = plt.subplots(1, 1, figsize=(6, .5))\n",
    "ax.scatter(x=sorted(fp4_state['weight.quant_map'].tolist()), y=[0]*16)\n",
    "ax.set_yticks([])\n",
    "ax.set_title('FP4 quantization')"
   ]
  },
  {
   "cell_type": "code",
   "execution_count": 67,
   "id": "e7954010-b343-4aff-bd8b-662f662a7cb7",
   "metadata": {},
   "outputs": [
    {
     "data": {
      "text/plain": [
       "(tensor([-1.0000, -0.6962, -0.5251, -0.3949, -0.2844, -0.1848, -0.0911,  0.0000,\n",
       "          0.0796,  0.1609,  0.2461,  0.3379,  0.4407,  0.5626,  0.7230,  1.0000],\n",
       "        device='cuda:0'),\n",
       " torch.Size([50, 1]))"
      ]
     },
     "execution_count": 67,
     "metadata": {},
     "output_type": "execute_result"
    }
   ],
   "source": [
    "nf4_model = nf4_model.to(0) # Quantization happens here\n",
    "nf4_state = nf4_model.state_dict()\n",
    "\n",
    "nf4_state['weight.quant_map'], nf4_state['weight'].shape"
   ]
  },
  {
   "cell_type": "code",
   "execution_count": 55,
   "id": "58f8c120-60d9-4350-be40-8e76a2f5ad3a",
   "metadata": {},
   "outputs": [
    {
     "data": {
      "text/plain": [
       "Text(0.5, 1.0, 'NF4 quantization')"
      ]
     },
     "execution_count": 55,
     "metadata": {},
     "output_type": "execute_result"
    },
    {
     "data": {
      "image/png": "[encoded data removed]",
      "text/plain": [
       "<Figure size 600x50 with 1 Axes>"
      ]
     },
     "metadata": {},
     "output_type": "display_data"
    }
   ],
   "source": [
    "fig, ax = plt.subplots(1, 1, figsize=(6, .5))\n",
    "ax.scatter(x=sorted(nf4_state['weight.quant_map'].tolist()), y=[0]*16)\n",
    "ax.set_yticks([])\n",
    "ax.set_title('NF4 quantization')"
   ]
  },
  {
   "cell_type": "markdown",
   "id": "d458ffbd-a9ab-4e67-877c-91adbcd83229",
   "metadata": {},
   "source": [
    "### Coming Up in \"Fine-Tuning LLMs\"\n",
    "\n",
    "As huge linear layers are being replaced by their quantized versions to reduce the model’s memory footprint, a\n",
    "new issue arises. These quantized layers cannot be easily updated, thus rendering fine-tuning next to\n",
    "impossible. Could a new kind of layer be the solution to this conundrum? Find out in the next thrilling chapter\n",
    "of \"Fine-Tuning LLMs.\""
   ]
  }
 ],
 "metadata": {
  "kernelspec": {
   "display_name": "Python 3 (ipykernel)",
   "language": "python",
   "name": "python3"
  },
  "language_info": {
   "codemirror_mode": {
    "name": "ipython",
    "version": 3
   },
   "file_extension": ".py",
   "mimetype": "text/x-python",
   "name": "python",
   "nbconvert_exporter": "python",
   "pygments_lexer": "ipython3",
   "version": "3.11.5"
  },
  "widgets": {
   "application/vnd.jupyter.widget-state+json": {
    "state": {},
    "version_major": 2,
    "version_minor": 0
   }
  }
 },
 "nbformat": 4,
 "nbformat_minor": 5
}
